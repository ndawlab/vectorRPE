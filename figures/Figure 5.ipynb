{
 "cells": [
  {
   "cell_type": "markdown",
   "metadata": {},
   "source": [
    "# Figure 5\n",
    "\n",
    "This notebook recreates the figure panels included in Figure 5 of Lee et al. 2021. \n",
    "\n",
    "\n",
    "\n",
    "### Description of the Data\n",
    "\n",
    "The data used in this notebook comes from the experiments described in Lee et al. 2021. Specifically, we have the behavioral and activity of a trained deep RL agent performing a evidence accumulation task from Engelhard et al. 2019. \n",
    "\n",
    "\n"
   ]
  },
  {
   "cell_type": "markdown",
   "metadata": {},
   "source": [
    "## Preparing the Data\n",
    "### Importing required code packages and modules"
   ]
  },
  {
   "cell_type": "code",
   "execution_count": 1,
   "metadata": {},
   "outputs": [
    {
     "name": "stdout",
     "output_type": "stream",
     "text": [
      "Figure 2.ipynb       Figure 5.ipynb       Figure 8.ipynb\n",
      "Figure 3.ipynb       Figure 6.ipynb       Supp Figures.ipynb\n",
      "Figure 3_OLD.ipynb   Figure 7.ipynb       \u001b[34mutils\u001b[m\u001b[m/\n",
      "Figure 4.ipynb       Figure 7_supp.ipynb\n"
     ]
    }
   ],
   "source": [
    "ls"
   ]
  },
  {
   "cell_type": "code",
   "execution_count": 1,
   "metadata": {},
   "outputs": [
    {
     "name": "stderr",
     "output_type": "stream",
     "text": [
      "Missing colon in file '/Users/sasha/.matplotlib/matplotlibrc', line 1 ('~/.matplotlib/matplotlibrc')\n"
     ]
    }
   ],
   "source": [
    "import pickle\n",
    "import matplotlib.pyplot as plt\n",
    "import matplotlib\n",
    "import numpy as np\n",
    "import pandas as pd\n",
    "import sys\n",
    "from scipy.io import loadmat, savemat\n",
    "import utils.cnnlstm_analysis_utils as utils\n",
    "import seaborn as sns\n",
    "from scipy import stats\n",
    "from matplotlib import gridspec\n",
    "from mpl_toolkits.axes_grid1 import make_axes_locatable\n",
    "from matplotlib.lines import Line2D\n",
    "import os"
   ]
  },
  {
   "cell_type": "code",
   "execution_count": 3,
   "metadata": {},
   "outputs": [
    {
     "name": "stdout",
     "output_type": "stream",
     "text": [
      "Figure 2.ipynb                  Figure 8.ipynb\n",
      "Figure 3.ipynb                  Supp Figures.ipynb\n",
      "Figure 3_OLD.ipynb              frames_analysis.ipynb\n",
      "Figure 4.ipynb                  mean_neural_activity.mat\n",
      "Figure 5.ipynb                  mean_neural_activity_by1cm.mat\n",
      "Figure 6.ipynb                  sig_neurons.mat\n",
      "Figure 7.ipynb                  \u001b[34mutils\u001b[m\u001b[m/\n",
      "Figure 7_supp.ipynb\n"
     ]
    }
   ],
   "source": [
    "ls"
   ]
  },
  {
   "cell_type": "markdown",
   "metadata": {},
   "source": [
    "### downloading data"
   ]
  },
  {
   "cell_type": "code",
   "execution_count": 4,
   "metadata": {},
   "outputs": [],
   "source": [
    "load_prefix = '../data/logs/VA_maze/'\n",
    "with open(load_prefix + '5000t_mosttrain_db.p', 'rb') as f:\n",
    "     [actions_, rewards_, feats_, terms_, vs_, tow_counts_, episode_lengths]  = pickle.load(f)\n",
    "f.close()\n",
    "vs = np.hstack(vs_)\n",
    "terms = np.hstack(terms_)\n",
    "rewards = np.hstack(rewards_)\n",
    "ep_rew = np.array([np.sum(r_trial) for r_trial in rewards_])\n",
    "ep_tow = np.array([np.max(trial, 0) for trial in tow_counts_])\n",
    "tow_counts = np.vstack(tow_counts_)\n",
    "\n",
    "\n",
    "\n",
    "weights = utils.get_params_from_zip(load_prefix + 'rl_model_20800000_steps')\n",
    "# weights.keys()\n",
    "\n",
    "w_pol = weights['model/pi/w:0']\n",
    "b_pol = weights['model/pi/b:0']\n",
    "w_val = np.squeeze(weights['model/vf/w:0'])\n",
    "b_val = weights['model/vf/b:0']\n",
    "\n",
    "trial_info = loadmat(load_prefix + 'trialinfo_db.mat')\n",
    "\n",
    "trial_info = trial_info['trials']\n",
    "trial_info.dtype.names\n",
    "choices = utils.extract_field(trial_info, 'choice')\n",
    "trial_type = utils.extract_field(trial_info, 'trialType')\n",
    "raw_ypos = utils.extract_field(trial_info, 'position')[:,1]\n",
    "cueCombos_ = utils.extract_field(trial_info, 'cueCombo')\n",
    "cuePos_ = utils.extract_field(trial_info, 'cuePos')\n",
    "cueOnset_ = utils.extract_field(trial_info, 'cueOnset')\n",
    "raw_ypos_ = [x[:,1] for x in trial_info['position'][0]]\n",
    "raw_xpos_ = [x[:,0] for x in trial_info['position'][0]]\n",
    "raw_vpos_ = [x[:,2] for x in trial_info['position'][0]]\n",
    "ypos_ = [np.hstack([np.array(x[:-1]), x[-2] * np.ones((7,))]) for x in raw_ypos_]\n",
    "ypos = np.hstack(ypos_)\n"
   ]
  },
  {
   "cell_type": "markdown",
   "metadata": {},
   "source": [
    "### Plotting Parameters"
   ]
  },
  {
   "cell_type": "code",
   "execution_count": 5,
   "metadata": {},
   "outputs": [],
   "source": [
    "# PLOTTING PARAMS\n",
    "matplotlib.rcParams.update({'font.size': 15})\n",
    "matplotlib.rcParams.update({'font.family': 'Arial'})\n",
    "\n",
    "FONT_BG = 25\n",
    "import matplotlib as mpl\n",
    "mpl.rcParams['pdf.fonttype'] = 42 # allow text of pdf to be edited in illustrator\n",
    "\n",
    "mpl.rcParams[\"axes.spines.right\"] = False\n",
    "mpl.rcParams[\"axes.spines.top\"] = False\n",
    "\n",
    "marker_plots =  {'marker':'.', 'markersize':2, 'markeredgecolor':'k', 'markerfacecolor':'k'}\n"
   ]
  },
  {
   "cell_type": "markdown",
   "metadata": {},
   "source": [
    "### Organizing Data\n",
    "\n",
    "Pulling out the specific data that we will use for figure panels"
   ]
  },
  {
   "cell_type": "code",
   "execution_count": 6,
   "metadata": {},
   "outputs": [],
   "source": [
    "CUEP_LIM = 140\n",
    "REWP_LEN_S = -16\n",
    "REWP_LEN_STP = -5\n",
    "ypos_cuep = np.squeeze(np.dstack([ypos_t[:CUEP_LIM] for ypos_t in ypos_])[:,:,0])\n",
    "(ep_towdelt_idx, ep_towdiff_idx) = utils.get_ep_tow_idx(ep_tow)\n",
    "ep_rewidx = (episode_lengths - 11).astype(int)\n"
   ]
  },
  {
   "cell_type": "markdown",
   "metadata": {},
   "source": [
    "### Calculate Vector RPEs"
   ]
  },
  {
   "cell_type": "code",
   "execution_count": 7,
   "metadata": {},
   "outputs": [],
   "source": [
    "if os.path.exists(load_prefix + 'pes.p'):\n",
    "    with open(load_prefix + 'pes.p', 'rb') as f:\n",
    "         pes  = pickle.load(f)\n",
    "    f.close()\n",
    "\n",
    "else: \n",
    "    feats = np.vstack(feats_)\n",
    "    rewards = np.hstack(rewards_)\n",
    "    terms = np.hstack(terms_)\n",
    "    start = np.roll(terms,1)\n",
    "    nsteps = len(terms)\n",
    "    nfeatures = feats_[0][0].shape[0]\n",
    "    gamma = 0.99\n",
    "    # compute per-feature PEs\n",
    "    pes = np.zeros((nsteps, nfeatures))\n",
    "    for i in range(0,nsteps-1):\n",
    "        if (terms[i]): # there is a one-off error-- the SECOND index of the start of the trial accurately measures the start of the trial\n",
    "            pes[i,:] = rewards[i] / nfeatures -  w_val * feats[i,:]\n",
    "        else:\n",
    "            pes[i,:] = rewards[i] / nfeatures +  w_val * (-feats[i,:] + gamma * feats[i+1,:])\n",
    "\n",
    "    pickle.dump(pes, open(load_prefix + \"pes.p\", \"wb\") )\n",
    "\n",
    "\n"
   ]
  },
  {
   "cell_type": "code",
   "execution_count": 8,
   "metadata": {},
   "outputs": [],
   "source": [
    "\n",
    "# summing pes to get scalar\n",
    "pes_sum = np.sum(pes,1)\n",
    "# scalar pes binned by position\n",
    "pes_sum_ = utils.split_by_ep_len(pes_sum, np.hstack((episode_lengths)))\n",
    "# pes split by 5000 trials\n",
    "pes_ = utils.split_by_ep_len(pes, np.hstack((episode_lengths)))\n",
    "\n",
    "pes_sum_rewp = np.vstack([trial[rew_idx - 5:rew_idx + 6] for [trial, rew_idx] in zip(pes_sum_, ep_rewidx)])\n",
    "pes_rewp = np.dstack([pes_i[rew_idx - 5:rew_idx + 6,:] for [pes_i, rew_idx] in zip(pes_, ep_rewidx)])\n",
    "vs_rewp = np.vstack([pes_i[rew_idx - 5:rew_idx + 6] for [pes_i, rew_idx] in zip(vs_, ep_rewidx)])\n",
    "\n",
    "pes_rewp_norm = utils.norm_within_feat(pes_rewp.transpose((1, 0, 2)).reshape(64, 11 * 5000)).reshape(64, 11, 5000).transpose(1, 0, 2)"
   ]
  },
  {
   "cell_type": "code",
   "execution_count": 9,
   "metadata": {},
   "outputs": [
    {
     "data": {
      "text/plain": [
       "(11, 64, 5000)"
      ]
     },
     "execution_count": 9,
     "metadata": {},
     "output_type": "execute_result"
    }
   ],
   "source": [
    "pes_rewp_norm.shape"
   ]
  },
  {
   "cell_type": "code",
   "execution_count": 10,
   "metadata": {},
   "outputs": [],
   "source": [
    "# EASY VS HARD TRIALS AND RESPONSES\n",
    "\n",
    "rew_trials = np.where(ep_rew == 1)[0]\n",
    "nrew_trials = np.where(ep_rew == 0)[0]\n",
    "easy_trials = np.hstack(ep_towdelt_idx[5:])\n",
    "hard_trials = np.hstack(ep_towdelt_idx[:2])\n",
    "\n",
    "rew_hard = np.sort(list(set(rew_trials) & set(hard_trials)))\n",
    "rew_easy = np.sort(list(set(rew_trials) & set(easy_trials)))\n",
    "\n",
    "norm_easy = (np.mean(pes_rewp_norm[:,:,rew_easy], -1).T)[:,5]\n",
    "norm_hard = (np.mean(pes_rewp_norm[:,:,rew_hard], -1).T)[:,5]\n",
    "\n",
    "norm_nrew = (np.mean(pes_rewp_norm[:,:,nrew_trials], -1).T)[:,5]\n",
    "norm_rew = (np.mean(pes_rewp_norm[:,:,rew_trials], -1).T)[:,5]"
   ]
  },
  {
   "cell_type": "code",
   "execution_count": 13,
   "metadata": {},
   "outputs": [],
   "source": [
    "# neural data uses matlab function: outcome_dprime.m\n",
    "\n",
    "neural_diff = loadmat('../../data/ben_dprime_all.mat')['diff'][0,:]\n",
    "neural_rw = loadmat('../../data/ben_dprime_all.mat')['currw'][0,:]\n"
   ]
  },
  {
   "cell_type": "markdown",
   "metadata": {},
   "source": [
    "## Plot figure"
   ]
  },
  {
   "cell_type": "code",
   "execution_count": null,
   "metadata": {},
   "outputs": [],
   "source": [
    "fig = plt.figure(figsize=(12, 6))\n",
    "gs = gridspec.GridSpec(2, 3, width_ratios = [2, 1, 1])\n",
    "\n",
    "\n",
    "# Figure 5a: Reward Scalar RPE\n",
    "ax_sum = plt.subplot(gs[0,0])\n",
    "ax_sum.plot(np.arange(-5,6), np.sum(np.nanmean(pes_rewp[:,:,ep_rew == 1],-1),-1),\n",
    "                                    **marker_plots, color = 'mediumvioletred', label = 'Rewarded');\n",
    "ax_sum.plot(np.arange(-5,6), np.sum(np.nanmean(pes_rewp[:,:,ep_rew == 0],-1),-1),\n",
    "                                    **marker_plots, color = 'gray', label = 'Unrewarded');\n",
    "ax_sum.axvline(0, color = 'grey', alpha = 0.8, lw = 0.5, ls = ':')\n",
    "ax_sum.axvline(0,  ls = (0,(5,5)), color = 'k', lw = 0.75)\n",
    "ax_sum.set_ylabel('Scalar RPE')\n",
    "ax_sum.set_xlabel('Time From Reward')\n",
    "ax_sum.set_title('Model\\n', fontsize = 15)\n",
    "ax_sum.legend(frameon=False)\n",
    "\n",
    "\n",
    "# Figure 5b: Reward Vector RPEs Histograms\n",
    "ax_hist =  plt.subplot(gs[0, 1])\n",
    "\n",
    "\n",
    "_, uniform_bins, _ = ax_hist.hist(norm_rew - norm_nrew,color = 'grey',\n",
    "                    bins = 30,  range = (-np.max(neural_rw), np.max(neural_rw)));\n",
    "ax_hist.axvline(np.median(norm_rew - norm_nrew), color = 'gold')\n",
    "ax_hist.axvline(0,  ls = (0,(5,5)), color = 'k', lw = 0.75)\n",
    "ax_hist.set_xlim(xmin = -np.max(neural_rw), xmax = np.max(neural_rw))\n",
    "pval_rw = stats.wilcoxon(norm_rew - norm_nrew)\n",
    "ax_hist.set_title('Model\\nP < ' + str(max(pval_rw.pvalue, 5e-12)), fontsize = 15)\n",
    "ax_hist.set_xlabel('\\t \\t \\t \\t \\t \\t \\t Reward Trials - Unrewarded Trials'.expandtabs())\n",
    "ax_hist.set_ylabel('Vector RPEs')\n",
    "\n",
    "\n",
    "# Figure 5c: Reward Neurons Histograms \n",
    "ax_neural =  plt.subplot(gs[0,-1])\n",
    "ax_neural.hist(neural_rw, color = 'gray', bins = uniform_bins)\n",
    "ax_neural.axvline(np.mean(neural_rw), color = 'gold')\n",
    "ax_neural.axvline(0, color = 'k', ls = (0,(5,5)), lw = 0.75)\n",
    "ax_neural.set_xlim(xmin = -np.max(neural_rw))\n",
    "pval_rw_neural = stats.wilcoxon(neural_rw)\n",
    "ax_neural.set_title('Neural Data\\nP < ' + str(max(pval_rw_neural.pvalue, 1e-48)), fontsize = 15)\n",
    "ax_neural.set_ylabel('Neurons')\n",
    "\n",
    "\n",
    "# Figure 5d: Reward Difficulty Scalar RPE \n",
    "ax_sum = plt.subplot(gs[1,0])\n",
    "ax_sum.plot(np.arange(-5,6),np.sum(np.nanmean(pes_rewp[:,:,rew_hard],-1),-1),\n",
    "                                **marker_plots, color = 'skyblue', label = 'Hard');\n",
    "ax_sum.plot(np.arange(-5,6),np.sum(np.nanmean(pes_rewp[:,:,rew_easy],-1),-1),\n",
    "                                **marker_plots, color = 'mediumblue', label = 'Easy');\n",
    "ax_sum.axvline(0, color = 'grey', alpha = 0.8, lw = 0.5, ls = ':')\n",
    "ax_sum.set_ylabel('Scalar RPE')\n",
    "ax_sum.set_xlabel('Time From Reward')\n",
    "ax_sum.set_title('Model\\n', fontsize = 15)\n",
    "ax_sum.legend(frameon=False, loc = 'upper left')\n",
    "\n",
    "# Figure 5e: Reward Difficulty Vector RPE Histograms\n",
    "ax_hist =  plt.subplot(gs[1,1])\n",
    "ax_hist.hist(norm_hard - norm_easy, color = 'grey', bins = 30, range = (-0.003, 0.003));\n",
    "ax_hist.axvline(np.median(norm_hard - norm_easy), color = 'gold');\n",
    "ax_hist.axvline(0,  ls = (0,(5,5)), color = 'k', lw = 0.75);\n",
    "pval_diff = stats.wilcoxon(norm_hard - norm_easy)\n",
    "ax_hist.set_title('Model\\nP < ' + str(max(pval_diff.pvalue, 0.05)), fontsize = 15)\n",
    "ax_hist.set_xlabel('\\t \\t \\t \\t \\t \\t \\t Hard Trials - Easy Trials'.expandtabs())\n",
    "ax_hist.set_ylabel('Vector RPEs')\n",
    "\n",
    "# Figure 5f: Reward Difficulty Neurons Histograms \n",
    "ax_neural =  plt.subplot(gs[1,-1])\n",
    "ax_neural.hist(neural_diff, color = 'gray', bins = 30, range = (-0.05, 0.05))\n",
    "ax_neural.axvline(np.median(neural_diff), color = 'gold')\n",
    "ax_neural.axvline(0, color = 'k', ls = (0,(5,5)), lw = 0.75)\n",
    "pval_diff_neural = stats.wilcoxon(neural_diff)\n",
    "ax_neural.set_title('Neural Data\\nP < ' + str(max(pval_diff_neural.pvalue, 3e-5)), fontsize = 15)\n",
    "ax_neural.set_ylabel('Neurons')\n",
    "\n",
    "\n",
    "plt.tight_layout(w_pad = 1.3)\n"
   ]
  },
  {
   "cell_type": "code",
   "execution_count": 11,
   "metadata": {},
   "outputs": [
    {
     "data": {
      "text/plain": [
       "WilcoxonResult(statistic=5.0, pvalue=4.466736295633894e-12)"
      ]
     },
     "execution_count": 11,
     "metadata": {},
     "output_type": "execute_result"
    }
   ],
   "source": [
    "stats.wilcoxon(norm_rew - norm_nrew)\n"
   ]
  },
  {
   "cell_type": "code",
   "execution_count": 16,
   "metadata": {},
   "outputs": [
    {
     "data": {
      "text/plain": [
       "WilcoxonResult(statistic=436.0, pvalue=1.4309823815262544e-49)"
      ]
     },
     "execution_count": 16,
     "metadata": {},
     "output_type": "execute_result"
    }
   ],
   "source": [
    "stats.wilcoxon(neural_rw)"
   ]
  },
  {
   "cell_type": "code",
   "execution_count": 12,
   "metadata": {},
   "outputs": [
    {
     "data": {
      "text/plain": [
       "WilcoxonResult(statistic=721.0, pvalue=0.03289897651981216)"
      ]
     },
     "execution_count": 12,
     "metadata": {},
     "output_type": "execute_result"
    }
   ],
   "source": [
    "stats.wilcoxon(norm_hard - norm_easy)"
   ]
  },
  {
   "cell_type": "code",
   "execution_count": 17,
   "metadata": {},
   "outputs": [
    {
     "data": {
      "text/plain": [
       "WilcoxonResult(statistic=16652.0, pvalue=2.949173825044694e-05)"
      ]
     },
     "execution_count": 17,
     "metadata": {},
     "output_type": "execute_result"
    }
   ],
   "source": [
    "stats.wilcoxon(neural_diff)"
   ]
  },
  {
   "cell_type": "code",
   "execution_count": null,
   "metadata": {},
   "outputs": [],
   "source": []
  }
 ],
 "metadata": {
  "kernelspec": {
   "display_name": "Python 3 (ipykernel)",
   "language": "python",
   "name": "python3"
  },
  "language_info": {
   "codemirror_mode": {
    "name": "ipython",
    "version": 3
   },
   "file_extension": ".py",
   "mimetype": "text/x-python",
   "name": "python",
   "nbconvert_exporter": "python",
   "pygments_lexer": "ipython3",
   "version": "3.9.7"
  },
  "vscode": {
   "interpreter": {
    "hash": "9c8e17623c24488647b13662268e8a83fd5a444a847214259e0f0fd0787ae8ad"
   }
  }
 },
 "nbformat": 4,
 "nbformat_minor": 4
}
