{
 "cells": [
  {
   "cell_type": "markdown",
   "metadata": {},
   "source": [
    "# Supplementary Figures\n",
    "\n",
    "This notebook recreates the supplementary figures of Lee et al. 2021. \n",
    "\n",
    "\n",
    "\n",
    "### Description of the Data\n",
    "\n",
    "The data used in this notebook comes from the exepriments described in Lee et al. 2021. Specifically, we have the behavioral and activity of a trained deep RL agent performing a evidence accumulation task from Engelhard et al. 2019. \n",
    "\n",
    "The dataset includes 5000 trials of the trained agent with frozen weights. \n",
    "\n",
    "The relevant variables included are: \n"
   ]
  },
  {
   "cell_type": "markdown",
   "metadata": {},
   "source": [
    "## Preparing the Data\n",
    "### Importing required code packages and modules"
   ]
  },
  {
   "cell_type": "code",
   "execution_count": 1,
   "metadata": {},
   "outputs": [
    {
     "name": "stdout",
     "output_type": "stream",
     "text": [
      "/Users/sasha/Documents/towers_mice\n"
     ]
    }
   ],
   "source": [
    "cd .."
   ]
  },
  {
   "cell_type": "code",
   "execution_count": 1,
   "metadata": {},
   "outputs": [
    {
     "name": "stderr",
     "output_type": "stream",
     "text": [
      "Missing colon in file '/Users/sasha/.matplotlib/matplotlibrc', line 1 ('~/.matplotlib/matplotlibrc')\n"
     ]
    }
   ],
   "source": [
    "import pickle\n",
    "import matplotlib.pyplot as plt\n",
    "import matplotlib\n",
    "import numpy as np\n",
    "import pandas as pd\n",
    "import sys\n",
    "from scipy.io import loadmat, savemat\n",
    "import utils.cnnlstm_analysis_utils as utils\n",
    "import seaborn as sns\n",
    "from scipy import stats\n",
    "from matplotlib import gridspec\n",
    "from mpl_toolkits.axes_grid1 import make_axes_locatable\n",
    "from matplotlib.lines import Line2D\n",
    "import os"
   ]
  },
  {
   "cell_type": "markdown",
   "metadata": {},
   "source": [
    "### downloading data"
   ]
  },
  {
   "cell_type": "code",
   "execution_count": 2,
   "metadata": {},
   "outputs": [],
   "source": [
    "load_prefix = '../../data/logs/VA_maze/'\n",
    "with open(load_prefix + '5000t_mosttrain_db.p', 'rb') as f:\n",
    "     [actions_, rewards_, feats_, terms_, vs_, tow_counts_, episode_lengths]  = pickle.load(f)\n",
    "f.close()\n",
    "vs = np.hstack(vs_)\n",
    "terms = np.hstack(terms_)\n",
    "rewards = np.hstack(rewards_)\n",
    "ep_rew = np.array([np.sum(r_trial) for r_trial in rewards_])\n",
    "ep_tow = np.array([np.max(trial, 0) for trial in tow_counts_])\n",
    "tow_counts = np.vstack(tow_counts_)\n",
    "\n",
    "\n",
    "\n",
    "weights = utils.get_params_from_zip(load_prefix + 'rl_model_20800000_steps')\n",
    "# weights.keys()\n",
    "\n",
    "w_pol = weights['model/pi/w:0']\n",
    "b_pol = weights['model/pi/b:0']\n",
    "w_val = np.squeeze(weights['model/vf/w:0'])\n",
    "b_val = weights['model/vf/b:0']\n",
    "\n",
    "trial_info = loadmat(load_prefix + 'trialinfo_db.mat')\n",
    "\n",
    "trial_info = trial_info['trials']\n",
    "trial_info.dtype.names\n",
    "choices = utils.extract_field(trial_info, 'choice')\n",
    "trial_type = utils.extract_field(trial_info, 'trialType')\n",
    "raw_ypos = utils.extract_field(trial_info, 'position')[:,1]\n",
    "cueCombos_ = utils.extract_field(trial_info, 'cueCombo')\n",
    "cuePos_ = utils.extract_field(trial_info, 'cuePos')\n",
    "cueOnset_ = utils.extract_field(trial_info, 'cueOnset')\n",
    "raw_ypos_ = [x[:,1] for x in trial_info['position'][0]]\n",
    "raw_xpos_ = [x[:,0] for x in trial_info['position'][0]]\n",
    "raw_vpos_ = [x[:,2] for x in trial_info['position'][0]]\n",
    "ypos_ = [np.hstack([np.array(x[:-1]), x[-2] * np.ones((7,))]) for x in raw_ypos_]\n",
    "ypos = np.hstack(ypos_)\n"
   ]
  },
  {
   "cell_type": "markdown",
   "metadata": {},
   "source": [
    "### Plotting Parameters"
   ]
  },
  {
   "cell_type": "code",
   "execution_count": 3,
   "metadata": {},
   "outputs": [],
   "source": [
    "# PLOTTING PARAMS\n",
    "matplotlib.rcParams.update({'font.size': 15})\n",
    "matplotlib.rcParams.update({'font.family': 'Arial'})\n",
    "\n",
    "FONT_BG = 25\n",
    "import matplotlib as mpl\n",
    "mpl.rcParams['pdf.fonttype'] = 42 # allow text of pdf to be edited in illustrator\n",
    "\n",
    "mpl.rcParams[\"axes.spines.right\"] = False\n",
    "mpl.rcParams[\"axes.spines.top\"] = False\n",
    "\n",
    "marker_plots =  {'marker':'.', 'markersize':2, 'markeredgecolor':'k', 'markerfacecolor':'k'}\n",
    "\n",
    "from matplotlib.colors import ListedColormap\n"
   ]
  },
  {
   "cell_type": "markdown",
   "metadata": {},
   "source": [
    "### Organizing Data\n",
    "\n",
    "Pulling out the specific data that we will use for figure panels"
   ]
  },
  {
   "cell_type": "code",
   "execution_count": 4,
   "metadata": {},
   "outputs": [],
   "source": [
    "CUEP_LIM = 140\n",
    "REWP_LEN_S = -16\n",
    "REWP_LEN_STP = -5\n",
    "ypos_cuep = np.squeeze(np.dstack([ypos_t[:CUEP_LIM] for ypos_t in ypos_])[:,:,0])\n",
    "(ep_towdelt_idx, ep_towdiff_idx) = utils.get_ep_tow_idx(ep_tow)\n",
    "ep_rewidx = (episode_lengths - 11).astype(int)\n"
   ]
  },
  {
   "cell_type": "markdown",
   "metadata": {},
   "source": [
    "### Calculate Vector RPEs"
   ]
  },
  {
   "cell_type": "code",
   "execution_count": 5,
   "metadata": {},
   "outputs": [],
   "source": [
    "if os.path.exists(load_prefix + 'pes.p'):\n",
    "    with open(load_prefix + 'pes.p', 'rb') as f:\n",
    "         pes  = pickle.load(f)\n",
    "    f.close()\n",
    "\n",
    "else: \n",
    "    feats = np.vstack(feats_)\n",
    "    rewards = np.hstack(rewards_)\n",
    "    terms = np.hstack(terms_)\n",
    "    start = np.roll(terms,1)\n",
    "    nsteps = len(terms)\n",
    "    nfeatures = feats_[0][0].shape[0]\n",
    "    gamma = 0.99\n",
    "    # compute per-feature PEs\n",
    "    pes = np.zeros((nsteps, nfeatures))\n",
    "    for i in range(0,nsteps-1):\n",
    "        if (terms[i]): # there is a one-off error-- the SECOND index of the start of the trial accurately measures the start of the trial\n",
    "            pes[i,:] = rewards[i] / nfeatures -  w_val * feats[i,:]\n",
    "        else:\n",
    "            pes[i,:] = rewards[i] / nfeatures +  w_val * (-feats[i,:] + gamma * feats[i+1,:])\n",
    "\n",
    "    pickle.dump(pes, open(load_prefix + \"pes.p\", \"wb\") )\n",
    "\n",
    "\n",
    "# summing pes to get scalar\n",
    "pes_sum = np.sum(pes,1)\n",
    "# scalar pes binned by position\n",
    "pes_sum_ = utils.split_by_ep_len(pes_sum, np.hstack((episode_lengths)))\n",
    "# pes split by 5000 trials\n",
    "pes_ = utils.split_by_ep_len(pes, np.hstack((episode_lengths)))\n",
    "\n",
    "pes_sum_rewp = np.vstack([trial[rew_idx - 5:rew_idx + 6] for [trial, rew_idx] in zip(pes_sum_, ep_rewidx)])\n",
    "pes_rewp = np.dstack([pes_i[rew_idx - 5:rew_idx + 6,:] for [pes_i, rew_idx] in zip(pes_, ep_rewidx)])\n",
    "vs_rewp = np.vstack([pes_i[rew_idx - 5:rew_idx + 6] for [pes_i, rew_idx] in zip(vs_, ep_rewidx)])\n",
    "\n",
    "pes_rewp_norm = utils.norm_within_feat(pes_rewp.transpose((1, 0, 2)).reshape(64, 11 * 5000)).reshape(64, 11, 5000).transpose(1, 0, 2)\n"
   ]
  },
  {
   "cell_type": "code",
   "execution_count": 6,
   "metadata": {},
   "outputs": [],
   "source": [
    "# EASY VS HARD TRIALS AND RESPONSES\n",
    "\n",
    "rew_trials = np.where(ep_rew == 1)[0]\n",
    "nrew_trials = np.where(ep_rew == 0)[0]\n",
    "easy_trials = np.hstack(ep_towdelt_idx[5:])\n",
    "hard_trials = np.hstack(ep_towdelt_idx[:2])\n",
    "\n",
    "rew_hard = np.sort(list(set(rew_trials) & set(hard_trials)))\n",
    "rew_easy = np.sort(list(set(rew_trials) & set(easy_trials)))\n",
    "\n",
    "norm_easy = (np.mean(pes_rewp_norm[:,:,rew_easy], -1).T)[:,5]\n",
    "norm_hard = (np.mean(pes_rewp_norm[:,:,rew_hard], -1).T)[:,5]"
   ]
  },
  {
   "cell_type": "markdown",
   "metadata": {},
   "source": [
    "## Extended Data 1: LSTM Feature Units Tuning"
   ]
  },
  {
   "cell_type": "code",
   "execution_count": 7,
   "metadata": {},
   "outputs": [],
   "source": [
    "CUEP_LIM_FEAT = 150\n",
    "feats_cuep = np.dstack([feats_i[:CUEP_LIM_FEAT] for feats_i in feats_]).transpose([0, 2, 1])\n",
    "\n",
    "ep_towdiff_within = np.vstack([ep_tow_i[:CUEP_LIM_FEAT,0] - ep_tow_i[:CUEP_LIM_FEAT,1] for ep_tow_i in tow_counts_]).T\n"
   ]
  },
  {
   "cell_type": "code",
   "execution_count": null,
   "metadata": {},
   "outputs": [],
   "source": [
    "\n",
    "fig, axes = plt.subplots(figsize=(10,10), ncols=8, nrows = 8, sharex = True, sharey = True)\n",
    "feats_axes = axes.flatten()\n",
    "feats_by_posev = [];\n",
    "for num_feat, feat_i in enumerate(feats_cuep.T):\n",
    "\n",
    "    feat_by_posev = np.vstack([[np.mean(feat_i[np.where(ep_towdiff_within[i,:] == ev)[0],i])\n",
    "                if ev in ep_towdiff_within[i,:] else np.nan\n",
    "                for ev in  np.arange(-6,7)]\n",
    "                for i in np.arange(CUEP_LIM_FEAT)]).T\n",
    "    feats_by_posev.append(feat_by_posev)\n",
    "    feats_axes[num_feat].imshow(feat_by_posev, aspect = 'auto',extent = [0, CUEP_LIM_FEAT,-5, 5], cmap = utils.parula_map) \n",
    "\n",
    "fig.text(0.5, 0, 'Position (cm)', ha='center')\n",
    "fig.text(0, 0.5, 'Cumulative Tower Difference', va='center', rotation='vertical')\n",
    "plt.tight_layout()"
   ]
  },
  {
   "cell_type": "markdown",
   "metadata": {},
   "source": [
    "## Extended Data 2: Scalar RPE modulated by difficulty of task"
   ]
  },
  {
   "cell_type": "code",
   "execution_count": null,
   "metadata": {},
   "outputs": [],
   "source": [
    "\n",
    "fig = plt.figure()\n",
    "gs = gridspec.GridSpec(2,2,height_ratios = [0.05,1])\n",
    "\n",
    "ax_sum = plt.subplot(gs[1,:])\n",
    "colors = sns.color_palette(\"Blues\", n_colors = 7)\n",
    "\n",
    "for ep_towdelt in np.arange(len(ep_towdelt_idx)):\n",
    "    rew_difficulty = np.sort(list(set(rew_trials) & set(ep_towdelt_idx[ep_towdelt])))\n",
    "    ax_sum.plot(np.arange(-5,6),np.sum(np.nanmean(pes_rewp[:,:,rew_difficulty],-1),-1),\n",
    "                                **marker_plots, color = colors[ep_towdelt],  label = 'delt:' + str(ep_towdelt));\n",
    "\n",
    "\n",
    "ax_sum.set_xlabel('Timesteps from Reward')\n",
    "ax_sum.set_ylabel('Scalar RPE')\n",
    "# code for showing a colorbar\n",
    "cmap = ListedColormap(colors.as_hex())\n",
    "bounds = np.arange(8)\n",
    "norm = matplotlib.colors.BoundaryNorm(boundaries = bounds, ncolors = 7)\n",
    "\n",
    "\n",
    "lax = plt.subplot(gs[0,1])\n",
    "dummy_plot = lax.scatter(bounds, bounds, c = bounds, cmap = cmap, norm = norm)\n",
    "lax.cla()\n",
    "cbar = plt.colorbar(dummy_plot, orientation='horizontal',cax = lax, ticks = [0, 2, 4, 6])\n",
    "cbar.ax.tick_params(length = 2.5)\n",
    "\n",
    "cbar.ax.xaxis.set_ticks_position(\"top\")\n",
    "cbar.set_label('|#R - #L|')\n"
   ]
  },
  {
   "cell_type": "code",
   "execution_count": null,
   "metadata": {},
   "outputs": [],
   "source": []
  }
 ],
 "metadata": {
  "kernelspec": {
   "display_name": "python37",
   "language": "python",
   "name": "python37"
  },
  "language_info": {
   "codemirror_mode": {
    "name": "ipython",
    "version": 3
   },
   "file_extension": ".py",
   "mimetype": "text/x-python",
   "name": "python",
   "nbconvert_exporter": "python",
   "pygments_lexer": "ipython3",
   "version": "3.7.10"
  }
 },
 "nbformat": 4,
 "nbformat_minor": 4
}
