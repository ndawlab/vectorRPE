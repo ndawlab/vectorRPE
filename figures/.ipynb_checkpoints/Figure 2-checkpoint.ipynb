{
 "cells": [
  {
   "cell_type": "markdown",
   "metadata": {},
   "source": [
    "# Figure 2\n",
    "\n",
    "This notebook recreates the figure panels included in Figure 2 of Lee et al. 2021. \n",
    "\n",
    "\n",
    "\n",
    "### Description of the Data\n",
    "\n",
    "The data used in this notebook comes from the experiments described in Lee et al. 2021. Specifically, we have the behavioral and activity of a trained deep RL agent performing a evidence accumulation task from Engelhard et al. 2019. \n",
    "\n",
    "The dataset includes 5000 trials of the trained agent with frozen weights. \n",
    "\n"
   ]
  },
  {
   "cell_type": "markdown",
   "metadata": {},
   "source": [
    "## Preparing the Data\n",
    "### Importing required code packages and modules"
   ]
  },
  {
   "cell_type": "code",
   "execution_count": 15,
   "metadata": {},
   "outputs": [],
   "source": [
    "import pickle\n",
    "import matplotlib.pyplot as plt\n",
    "import matplotlib\n",
    "import numpy as np\n",
    "import pandas as pd\n",
    "import sys\n",
    "from scipy.io import loadmat, savemat\n",
    "import utils.cnnlstm_analysis_utils as utils\n",
    "import seaborn as sns\n",
    "from scipy import stats\n",
    "from matplotlib import gridspec\n",
    "from mpl_toolkits.axes_grid1 import make_axes_locatable\n",
    "from matplotlib.lines import Line2D"
   ]
  },
  {
   "cell_type": "markdown",
   "metadata": {},
   "source": [
    "### downloading data"
   ]
  },
  {
   "cell_type": "code",
   "execution_count": 6,
   "metadata": {},
   "outputs": [],
   "source": [
    "load_prefix = './data/logs/VA_maze/'\n",
    "with open(load_prefix + '5000t_mosttrain_db.p', 'rb') as f:\n",
    "     [actions_, rewards_, feats_, terms_, vs_, tow_counts_, episode_lengths]  = pickle.load(f)\n",
    "f.close()\n",
    "vs = np.hstack(vs_)\n",
    "terms = np.hstack(terms_)\n",
    "rewards = np.hstack(rewards_)\n",
    "ep_rew = np.array([np.sum(r_trial) for r_trial in rewards_])\n",
    "ep_tow = np.array([np.max(trial, 0) for trial in tow_counts_])\n",
    "tow_counts = np.vstack(tow_counts_)\n",
    "\n",
    "\n",
    "\n",
    "weights = utils.get_params_from_zip(load_prefix + 'rl_model_20800000_steps')\n",
    "# weights.keys()\n",
    "\n",
    "w_pol = weights['model/pi/w:0']\n",
    "b_pol = weights['model/pi/b:0']\n",
    "w_val = np.squeeze(weights['model/vf/w:0'])\n",
    "b_val = weights['model/vf/b:0']\n",
    "\n",
    "trial_info = loadmat(load_prefix + 'trialinfo_db.mat')\n",
    "\n",
    "trial_info = trial_info['trials']\n",
    "trial_info.dtype.names\n",
    "choices = utils.extract_field(trial_info, 'choice')\n",
    "trial_type = utils.extract_field(trial_info, 'trialType')\n",
    "raw_ypos = utils.extract_field(trial_info, 'position')[:,1]\n",
    "cueCombos_ = utils.extract_field(trial_info, 'cueCombo')\n",
    "cuePos_ = utils.extract_field(trial_info, 'cuePos')\n",
    "cueOnset_ = utils.extract_field(trial_info, 'cueOnset')\n",
    "raw_ypos_ = [x[:,1] for x in trial_info['position'][0]]\n",
    "raw_xpos_ = [x[:,0] for x in trial_info['position'][0]]\n",
    "raw_vpos_ = [x[:,2] for x in trial_info['position'][0]]\n",
    "ypos_ = [np.hstack([np.array(x[:-1]), x[-2] * np.ones((7,))]) for x in raw_ypos_]\n",
    "ypos = np.hstack(ypos_)\n"
   ]
  },
  {
   "cell_type": "markdown",
   "metadata": {},
   "source": [
    "### Plotting Parameters"
   ]
  },
  {
   "cell_type": "code",
   "execution_count": 7,
   "metadata": {},
   "outputs": [],
   "source": [
    "# PLOTTING PARAMS\n",
    "matplotlib.rcParams.update({'font.size': 15})\n",
    "matplotlib.rcParams.update({'font.family': 'Arial'})\n",
    "\n",
    "FONT_BG = 25\n",
    "import matplotlib as mpl\n",
    "mpl.rcParams['pdf.fonttype'] = 42 # allow text of pdf to be edited in illustrator\n",
    "\n",
    "mpl.rcParams[\"axes.spines.right\"] = False\n",
    "mpl.rcParams[\"axes.spines.top\"] = False\n",
    "from matplotlib.colors import ListedColormap\n"
   ]
  },
  {
   "cell_type": "markdown",
   "metadata": {},
   "source": [
    "### Organizing Data\n",
    "\n",
    "Pulling out the specific data that we will use for figure panels"
   ]
  },
  {
   "cell_type": "code",
   "execution_count": 8,
   "metadata": {},
   "outputs": [],
   "source": [
    "CUEP_LIM = 140\n",
    "REWP_LEN_S = -16\n",
    "REWP_LEN_STP = -5\n",
    "ypos_cuep = np.squeeze(np.dstack([ypos_t[:CUEP_LIM] for ypos_t in ypos_])[:,:,0])\n",
    "(ep_towdelt_idx, ep_towdiff_idx) = utils.get_ep_tow_idx(ep_tow)\n"
   ]
  },
  {
   "cell_type": "markdown",
   "metadata": {},
   "source": [
    "## Figure 2B: Psychometric Curve of Agent"
   ]
  },
  {
   "cell_type": "code",
   "execution_count": 13,
   "metadata": {},
   "outputs": [
    {
     "data": {
      "image/png": "[encoded data removed]",
      "text/plain": [
       "<Figure size 216x180 with 1 Axes>"
      ]
     },
     "metadata": {
      "needs_background": "light"
     },
     "output_type": "display_data"
    }
   ],
   "source": [
    "# matlab code: psychometric_neural.m\n",
    "fitted = loadmat('./data/psycho_neural.mat')['fitted']\n",
    "ymat = loadmat('./data/psycho_neural.mat')['ymat'].T\n",
    "x_all = loadmat('./data/psycho_neural.mat')['x_all'].T\n",
    "\n",
    "fig = plt.figure(figsize=(3, 2.5))\n",
    "plt.plot(x_all, fitted)\n",
    "plt.errorbar(x_all, np.nanmean(ymat,1), yerr = np.nanstd(ymat,1)/np.sqrt(np.sum(~np.isnan(ymat),1)), color =  'k')\n",
    "plt.plot(x_all, ymat, color = 'gray', alpha = 0.3)\n",
    "plt.title('Mice')\n",
    "plt.xlabel('|#R - #L|')\n",
    "plt.ylabel('Fraction Went Right')\n",
    "plt.tight_layout()"
   ]
  },
  {
   "cell_type": "code",
   "execution_count": 10,
   "metadata": {},
   "outputs": [
    {
     "name": "stderr",
     "output_type": "stream",
     "text": [
      "/Users/sasha/anaconda3/envs/python37/lib/python3.7/site-packages/numpy/core/_asarray.py:102: VisibleDeprecationWarning: Creating an ndarray from ragged nested sequences (which is a list-or-tuple of lists-or-tuples-or ndarrays with different lengths or shapes) is deprecated. If you meant to do this, you must specify 'dtype=object' when creating the ndarray.\n",
      "  return array(a, dtype, copy=False, order=order)\n"
     ]
    }
   ],
   "source": [
    "pref_r = []\n",
    "pref_r_sem = []\n",
    "for diff_idx in np.flip(ep_towdiff_idx):\n",
    "    pref_r.append(np.sum(choices[diff_idx] == 'R')/len(choices[diff_idx]))\n",
    "    pref_r_sem.append(stats.sem(choices[diff_idx] == 'R'))\n"
   ]
  },
  {
   "cell_type": "code",
   "execution_count": 11,
   "metadata": {},
   "outputs": [
    {
     "data": {
      "image/png": "[encoded data removed]",
      "text/plain": [
       "<Figure size 216x180 with 1 Axes>"
      ]
     },
     "metadata": {
      "needs_background": "light"
     },
     "output_type": "display_data"
    }
   ],
   "source": [
    "fig = plt.figure(figsize=(3, 2.5))\n",
    "plt.plot(np.arange(-6,7), pref_r)\n",
    "plt.errorbar(np.arange(-6,7), pref_r, yerr = pref_r_sem, color =  'k')\n",
    "plt.title('Model')\n",
    "plt.xlabel('|#R - #L|')\n",
    "plt.ylabel('Fraction Went Right')\n",
    "plt.tight_layout()"
   ]
  },
  {
   "cell_type": "markdown",
   "metadata": {},
   "source": [
    "## Figure 2D: Scalar value with respect to position "
   ]
  },
  {
   "cell_type": "code",
   "execution_count": 12,
   "metadata": {},
   "outputs": [
    {
     "data": {
      "image/png": "[encoded data removed]",
      "text/plain": [
       "<Figure size 410.4x216 with 2 Axes>"
      ]
     },
     "metadata": {
      "needs_background": "light"
     },
     "output_type": "display_data"
    }
   ],
   "source": [
    "val_cuep = np.vstack([vs_i[:CUEP_LIM] for vs_i in vs_])\n",
    "\n",
    "fig = plt.figure(figsize = (5.7,3))\n",
    "gs = gridspec.GridSpec(2,2,height_ratios = [0.05,1])\n",
    "\n",
    "colors = sns.color_palette(\"Blues\", n_colors = 7)\n",
    "ax_sum = plt.subplot(gs[1,:])\n",
    "for ep_towdelt in np.arange(len(ep_towdelt_idx)):\n",
    "    rew_difficulty = np.sort(list(set(np.where(ep_rew == 1)[0]) & set(ep_towdelt_idx[ep_towdelt])))\n",
    "    ax_sum.plot(ypos_cuep, np.nanmean(val_cuep[rew_difficulty,:],0)\n",
    "                                , color = colors[ep_towdelt],  label = 'delt:' + str(ep_towdelt));\n",
    "ax_sum.set_xlabel('Position (cm)')\n",
    "ax_sum.set_ylabel('Scalar Value')\n",
    "\n",
    "\n",
    "# code for showing a colorbar\n",
    "cmap = ListedColormap(colors.as_hex())\n",
    "bounds = np.arange(8)\n",
    "norm = matplotlib.colors.BoundaryNorm(boundaries = bounds, ncolors = 7)\n",
    "\n",
    "\n",
    "lax = plt.subplot(gs[0,1])\n",
    "dummy_plot = lax.scatter(bounds, bounds, c = bounds, cmap = cmap, norm = norm)\n",
    "lax.cla()\n",
    "cbar = plt.colorbar(dummy_plot, orientation='horizontal',cax = lax, ticks = [0, 2, 4, 6])\n",
    "cbar.ax.tick_params(length = 2.5)\n",
    "\n",
    "cbar.ax.xaxis.set_ticks_position(\"top\")\n",
    "cbar.set_label('|#R - #L|')\n"
   ]
  },
  {
   "cell_type": "code",
   "execution_count": null,
   "metadata": {},
   "outputs": [],
   "source": []
  },
  {
   "cell_type": "code",
   "execution_count": null,
   "metadata": {},
   "outputs": [],
   "source": []
  }
 ],
 "metadata": {
  "kernelspec": {
   "display_name": "python37",
   "language": "python",
   "name": "python37"
  },
  "language_info": {
   "codemirror_mode": {
    "name": "ipython",
    "version": 3
   },
   "file_extension": ".py",
   "mimetype": "text/x-python",
   "name": "python",
   "nbconvert_exporter": "python",
   "pygments_lexer": "ipython3",
   "version": "3.7.10"
  }
 },
 "nbformat": 4,
 "nbformat_minor": 4
}
