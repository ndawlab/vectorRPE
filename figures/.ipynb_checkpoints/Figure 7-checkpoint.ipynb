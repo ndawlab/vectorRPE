{
 "cells": [
  {
   "cell_type": "markdown",
   "metadata": {},
   "source": [
    "# Figure 7\n",
    "\n",
    "This notebook recreates the figure panels included in Figure 7 of Lee et al. 2021. \n",
    "\n",
    "\n",
    "\n",
    "### Description of the Data\n",
    "\n",
    "The data used in this notebook comes from the experiments described in Lee et al. 2021. We trained the distributional RL model on the same data the deepRL network used.\n",
    "\n",
    "\n"
   ]
  },
  {
   "cell_type": "markdown",
   "metadata": {},
   "source": [
    "## Preparing the Data\n",
    "### Importing required code packages and modules"
   ]
  },
  {
   "cell_type": "code",
   "execution_count": 1,
   "metadata": {},
   "outputs": [
    {
     "name": "stdout",
     "output_type": "stream",
     "text": [
      "Figure 2.ipynb      Figure 3_OLD.ipynb  Figure 5.ipynb      Supp Figures.ipynb\n",
      "Figure 3.ipynb      Figure 4.ipynb      Figure 6.ipynb      \u001b[34mutils\u001b[m\u001b[m/\n"
     ]
    }
   ],
   "source": [
    "ls"
   ]
  },
  {
   "cell_type": "code",
   "execution_count": 7,
   "metadata": {},
   "outputs": [],
   "source": [
    "import pickle\n",
    "import matplotlib.pyplot as plt\n",
    "import matplotlib\n",
    "import numpy as np\n",
    "import pandas as pd\n",
    "import sys\n",
    "from scipy.io import loadmat, savemat\n",
    "import utils.cnnlstm_analysis_utils as cnn_utils\n",
    "import utils.distRL_utils as utils\n",
    "import seaborn as sns\n",
    "from scipy import stats\n",
    "from matplotlib import gridspec\n",
    "from mpl_toolkits.axes_grid1 import make_axes_locatable\n",
    "from matplotlib.lines import Line2D\n",
    "import os\n",
    "\n",
    "from scipy.stats import zscore"
   ]
  },
  {
   "cell_type": "markdown",
   "metadata": {},
   "source": [
    "### downloading data"
   ]
  },
  {
   "cell_type": "code",
   "execution_count": 12,
   "metadata": {},
   "outputs": [],
   "source": [
    "load_prefix = '../data/logs/distRL/'\n",
    "\n",
    "data_load_prefix = '../../data/logs/VA_maze/'\n",
    "with open(data_load_prefix + '5000t_mosttrain_db.p', 'rb') as f:\n",
    "    [actions_, rewards_, feats_, terms_, vs_,\n",
    "        tow_counts_, episode_lengths] = pickle.load(f)\n",
    "f.close()\n",
    "\n",
    "vs = np.hstack(vs_)\n",
    "terms = np.hstack(terms_)\n",
    "rewards = np.hstack(rewards_)\n",
    "ep_rew = np.array([np.sum(r_trial) for r_trial in rewards_])\n",
    "ep_tow = np.array([np.max(trial, 0) for trial in tow_counts_])\n",
    "tow_counts = np.vstack(tow_counts_)\n",
    "\n",
    "\n",
    "with open(data_load_prefix + '10K_moretrials.p', 'rb') as f:\n",
    "    [_, rewards2, feats2_, _, _, tow_counts2,\n",
    "        episode_lengths2] = pickle.load(f)\n",
    "f.close()\n",
    "\n",
    "\n",
    "feats_all = feats_ + feats2_\n",
    "episode_lengths_all = np.hstack([episode_lengths, episode_lengths2])\n",
    "ep_rew_all = np.hstack(\n",
    "    [ep_rew, np.array([np.sum(r_trial) for r_trial in rewards2])])\n",
    "ep_tow_all = np.vstack(\n",
    "    [ep_tow, np.array([np.max(trial, 0) for trial in tow_counts2])])\n",
    "\n",
    "\n",
    "trial_info = loadmat(data_load_prefix + 'trialinfo_db.mat')\n",
    "\n",
    "trial_info = trial_info['trials']\n",
    "trial_info.dtype.names\n",
    "\n",
    "choices = cnn_utils.extract_field(trial_info, 'choice')\n",
    "trial_type = cnn_utils.extract_field(trial_info, 'trialType')\n",
    "raw_ypos = cnn_utils.extract_field(trial_info, 'position')[:, 1]\n",
    "cueCombos_ = cnn_utils.extract_field(trial_info, 'cueCombo')\n",
    "cuePos_ = cnn_utils.extract_field(trial_info, 'cuePos')\n",
    "cueOnset_ = cnn_utils.extract_field(trial_info, 'cueOnset')\n",
    "raw_ypos_ = [x[:, 1] for x in trial_info['position'][0]]\n",
    "raw_xpos_ = [x[:, 0] for x in trial_info['position'][0]]\n",
    "raw_vpos_ = [x[:, 2] for x in trial_info['position'][0]]\n",
    "ypos_ = [np.hstack([np.array(x[:-1]), x[-2] * np.ones((7,))])\n",
    "         for x in raw_ypos_]\n",
    "ypos = np.hstack(ypos_)\n",
    "\n",
    "\n",
    "weights = cnn_utils.get_params_from_zip(\n",
    "    data_load_prefix + 'rl_model_20800000_steps')\n",
    "# weights.keys()\n",
    "\n",
    "w_val = np.squeeze(weights['model/vf/w:0'])\n",
    "\n",
    "\n"
   ]
  },
  {
   "cell_type": "markdown",
   "metadata": {},
   "source": [
    "### Plotting Parameters"
   ]
  },
  {
   "cell_type": "code",
   "execution_count": 4,
   "metadata": {},
   "outputs": [],
   "source": [
    "# PLOTTING PARAMS\n",
    "matplotlib.rcParams.update({'font.size': 15})\n",
    "matplotlib.rcParams.update({'font.family': 'Arial'})\n",
    "\n",
    "FONT_BG = 25\n",
    "import matplotlib as mpl\n",
    "mpl.rcParams['pdf.fonttype'] = 42 # allow text of pdf to be edited in illustrator\n",
    "\n",
    "mpl.rcParams[\"axes.spines.right\"] = False\n",
    "mpl.rcParams[\"axes.spines.top\"] = False\n",
    "\n",
    "marker_plots =  {'marker':'.', 'markersize':2, 'markeredgecolor':'k', 'markerfacecolor':'k'}\n",
    "\n",
    "heatmap_sz = (4, 3.5)\n",
    "example_sz = (4, 1)\n",
    "\n",
    "left_col = 'red'\n",
    "right_col = 'deepskyblue'\n"
   ]
  },
  {
   "cell_type": "markdown",
   "metadata": {},
   "source": [
    "## Get the Expectile PE\n",
    "### Training the weights"
   ]
  },
  {
   "cell_type": "code",
   "execution_count": 25,
   "metadata": {},
   "outputs": [
    {
     "ename": "IndexError",
     "evalue": "tuple index out of range",
     "output_type": "error",
     "traceback": [
      "\u001b[0;31m---------------------------------------------------------------------------\u001b[0m",
      "\u001b[0;31mIndexError\u001b[0m                                Traceback (most recent call last)",
      "Cell \u001b[0;32mIn [25], line 7\u001b[0m\n\u001b[1;32m      3\u001b[0m w \u001b[38;5;241m=\u001b[39m pickle\u001b[38;5;241m.\u001b[39mload(\u001b[38;5;28mopen\u001b[39m(load_prefix \u001b[38;5;241m+\u001b[39m \u001b[38;5;124m\"\u001b[39m\u001b[38;5;124mlearned_dist_weights.p\u001b[39m\u001b[38;5;124m\"\u001b[39m, \u001b[38;5;124m\"\u001b[39m\u001b[38;5;124mrb\u001b[39m\u001b[38;5;124m\"\u001b[39m))\n\u001b[1;32m      5\u001b[0m [dist_pes_raw, vs_, w] \u001b[38;5;241m=\u001b[39m pickle\u001b[38;5;241m.\u001b[39mload(\n\u001b[1;32m      6\u001b[0m     \u001b[38;5;28mopen\u001b[39m(load_prefix \u001b[38;5;241m+\u001b[39m \u001b[38;5;124m'\u001b[39m\u001b[38;5;124mtrained_distRL_pes.p\u001b[39m\u001b[38;5;124m'\u001b[39m, \u001b[38;5;124m\"\u001b[39m\u001b[38;5;124mrb\u001b[39m\u001b[38;5;124m\"\u001b[39m))\n\u001b[0;32m----> 7\u001b[0m num_dists \u001b[38;5;241m=\u001b[39m \u001b[43mdist_pes_\u001b[49m\u001b[43m[\u001b[49m\u001b[38;5;241;43m0\u001b[39;49m\u001b[43m]\u001b[49m\u001b[38;5;241;43m.\u001b[39;49m\u001b[43mshape\u001b[49m\u001b[43m[\u001b[49m\u001b[38;5;241;43m1\u001b[39;49m\u001b[43m]\u001b[49m\n",
      "\u001b[0;31mIndexError\u001b[0m: tuple index out of range"
     ]
    }
   ],
   "source": [
    "# load directly if the weights and features were already trained \n",
    "w = pickle.load(open(load_prefix + \"learned_dist_weights.p\", \"rb\"))\n",
    "\n",
    "[dist_pes_raw, vs_, w] = pickle.load(\n",
    "    open(load_prefix + 'trained_distRL_pes.p', \"rb\"))\n",
    "num_dists = dist_pes_[0].shape[1]\n",
    "\n"
   ]
  },
  {
   "cell_type": "code",
   "execution_count": 13,
   "metadata": {},
   "outputs": [],
   "source": [
    "k = 0.001  # alpha_plus + alpha_minus = k\n",
    "num_dists = 31\n",
    "# tau = alpha_plus / [alpha_plus + alpha_minus] # not including boundary matching lowet et al's\n",
    "tau = (2 * np.arange(1, num_dists + 1) - 1) / num_dists / 2\n",
    "alpha_plus, alpha_minus = utils.get_alphas(tau, k)\n",
    "gamma = 0.99\n",
    "\n",
    "ep_rewidx = (episode_lengths - 11).astype(int)\n",
    "feats_torew_ = [feats_i[:rew_idx + 1, :]\n",
    "                for [feats_i, rew_idx] in zip(feats_, ep_rewidx)]\n",
    "# z-scoring across all episodes/trials for *each* feature\n",
    "norm_feats_torew = cnn_utils.split_by_ep_len(\n",
    "    zscore(np.vstack([pes_i for pes_i in feats_torew_]), 0), ep_rewidx + 1)\n",
    "\n",
    "\n",
    "feats_to_train = norm_feats_torew  # sim_feats  #\n",
    "# sim_ep_len   #  # need + 1to reach the actual reward\n",
    "ep_len_to_train = ep_rewidx + 1\n",
    "num_trials = len(ep_len_to_train)\n",
    "\n",
    "rewards_to_train = ep_rew_all[:num_trials]  # sim_rew  #  #\n",
    "num_feats = len(w_val)  # num_states  #   #\n",
    "\n"
   ]
  },
  {
   "cell_type": "code",
   "execution_count": 14,
   "metadata": {},
   "outputs": [
    {
     "ename": "KeyboardInterrupt",
     "evalue": "",
     "output_type": "error",
     "traceback": [
      "\u001b[0;31m---------------------------------------------------------------------------\u001b[0m",
      "\u001b[0;31mKeyboardInterrupt\u001b[0m                         Traceback (most recent call last)",
      "Cell \u001b[0;32mIn [14], line 31\u001b[0m\n\u001b[1;32m     27\u001b[0m method_update \u001b[38;5;241m=\u001b[39m pes_tr[ts, :]\n\u001b[1;32m     28\u001b[0m alpha_ts \u001b[38;5;241m=\u001b[39m method_update \u001b[38;5;241m*\u001b[39m \\\n\u001b[1;32m     29\u001b[0m     (indic \u001b[38;5;241m*\u001b[39m alpha_minus \u001b[38;5;241m+\u001b[39m (\u001b[38;5;241m1\u001b[39m \u001b[38;5;241m-\u001b[39m indic) \u001b[38;5;241m*\u001b[39m alpha_plus)\n\u001b[0;32m---> 31\u001b[0m norm_factor \u001b[38;5;241m=\u001b[39m \u001b[38;5;241;43m1\u001b[39;49m\u001b[43m \u001b[49m\u001b[38;5;241;43m/\u001b[39;49m\u001b[43m \u001b[49m\u001b[43m\\\u001b[49m\n\u001b[1;32m     32\u001b[0m \u001b[43m    \u001b[49m\u001b[43mnp\u001b[49m\u001b[38;5;241;43m.\u001b[39;49m\u001b[43mdot\u001b[49m\u001b[43m(\u001b[49m\u001b[43mfeats_to_train\u001b[49m\u001b[43m[\u001b[49m\u001b[43mtrial\u001b[49m\u001b[43m]\u001b[49m\u001b[43m[\u001b[49m\u001b[43mts\u001b[49m\u001b[43m,\u001b[49m\u001b[43m \u001b[49m\u001b[43m:\u001b[49m\u001b[43m]\u001b[49m\u001b[43m,\u001b[49m\u001b[43m \u001b[49m\u001b[43mfeats_to_train\u001b[49m\u001b[43m[\u001b[49m\u001b[43mtrial\u001b[49m\u001b[43m]\u001b[49m\u001b[43m[\u001b[49m\u001b[43mts\u001b[49m\u001b[43m,\u001b[49m\u001b[43m \u001b[49m\u001b[43m:\u001b[49m\u001b[43m]\u001b[49m\u001b[43m)\u001b[49m\n\u001b[1;32m     34\u001b[0m alpha_ts \u001b[38;5;241m=\u001b[39m alpha_ts \u001b[38;5;241m*\u001b[39m norm_factor\n\u001b[1;32m     36\u001b[0m w \u001b[38;5;241m=\u001b[39m w \u001b[38;5;241m+\u001b[39m np\u001b[38;5;241m.\u001b[39mouter(alpha_ts,\n\u001b[1;32m     37\u001b[0m                  np\u001b[38;5;241m.\u001b[39mhstack([feats_to_train[trial][ts, :], \u001b[38;5;241m1\u001b[39m]))\n",
      "\u001b[0;31mKeyboardInterrupt\u001b[0m: "
     ]
    }
   ],
   "source": [
    "# PART 1: TRAINING THE WEIGHTS W\n",
    "w = np.zeros((num_dists, num_feats + 1))  # now V becomes (num_dist,)\n",
    "vs_ = []\n",
    "dist_pes_ = []  # np.zeros((feats_[0].shape[1], num_timesteps, num_trials))\n",
    "for trial in np.arange(num_trials):\n",
    "    pes_tr = np.zeros((int(ep_len_to_train[trial]), num_dists))\n",
    "    vs_tr = np.zeros((int(ep_len_to_train[trial]), num_dists))\n",
    "    for ts in np.flip(np.arange(int(ep_len_to_train[trial]))):\n",
    "        V = w @ np.hstack([feats_to_train[trial][ts, :], 1])  # num_dists x 1\n",
    "        vs_tr[ts, :] = V\n",
    "\n",
    "        # using TD-1, dynamic programming now. it's ts - 1 since np.arange is 0-indexed\n",
    "        pes_tr[ts, :] = rewards_to_train[trial] * \\\n",
    "            gamma**(ep_len_to_train[trial] - ts - 1) - V\n",
    "\n",
    "        # alpha = alpha_plus * 1 if pes > 0\n",
    "        # alpha = alpha_neg * -1 if pes < 0\n",
    "\n",
    "        # for sample_i in np.arange(num_samples):\n",
    "        indic = pes_tr[ts, :] <= 0\n",
    "\n",
    "        \"\"\"\n",
    "        determining expectile vs quantile\n",
    "        quantile uses np.sign (delta):  (np.sign(pes_tr[ts, :, :]))\n",
    "        expectile uses delta:  pes[ts,:,:]\n",
    "        \"\"\"\n",
    "        method_update = pes_tr[ts, :]\n",
    "        alpha_ts = method_update * \\\n",
    "            (indic * alpha_minus + (1 - indic) * alpha_plus)\n",
    "\n",
    "        norm_factor = 1 / \\\n",
    "            np.dot(feats_to_train[trial][ts, :], feats_to_train[trial][ts, :])\n",
    "\n",
    "        alpha_ts = alpha_ts * norm_factor\n",
    "\n",
    "        w = w + np.outer(alpha_ts,\n",
    "                         np.hstack([feats_to_train[trial][ts, :], 1]))\n",
    "\n",
    "    dist_pes_.append(pes_tr)\n",
    "    vs_.append(vs_tr)\n",
    "\n",
    "    \n",
    "# pickle.dump(w, open(\"learned_dist_weights.p\", \"wb\"))"
   ]
  },
  {
   "cell_type": "markdown",
   "metadata": {},
   "source": [
    "### Training the distributional features with TD-0"
   ]
  },
  {
   "cell_type": "code",
   "execution_count": 15,
   "metadata": {},
   "outputs": [
    {
     "name": "stdout",
     "output_type": "stream",
     "text": [
      "0\n",
      "Number of calls to function has reached maxfev = 100000.\n"
     ]
    },
    {
     "ename": "KeyboardInterrupt",
     "evalue": "",
     "output_type": "error",
     "traceback": [
      "\u001b[0;31m---------------------------------------------------------------------------\u001b[0m",
      "\u001b[0;31mKeyboardInterrupt\u001b[0m                         Traceback (most recent call last)",
      "Cell \u001b[0;32mIn [15], line 27\u001b[0m\n\u001b[1;32m     24\u001b[0m \u001b[38;5;28;01melse\u001b[39;00m:\n\u001b[1;32m     26\u001b[0m     V_next \u001b[38;5;241m=\u001b[39m w \u001b[38;5;241m@\u001b[39m np\u001b[38;5;241m.\u001b[39mhstack([feats_to_train[trial][ts \u001b[38;5;241m+\u001b[39m \u001b[38;5;241m1\u001b[39m, :], \u001b[38;5;241m1\u001b[39m])\n\u001b[0;32m---> 27\u001b[0m     V_samples \u001b[38;5;241m=\u001b[39m \u001b[43mutils\u001b[49m\u001b[38;5;241;43m.\u001b[39;49m\u001b[43minfer_dist\u001b[49m\u001b[43m(\u001b[49m\u001b[43mV_next\u001b[49m\u001b[43m,\u001b[49m\u001b[43m \u001b[49m\u001b[43mtau\u001b[49m\u001b[43m)\u001b[49m\n\u001b[1;32m     28\u001b[0m     \u001b[38;5;66;03m# this is returning nan\u001b[39;00m\n\u001b[1;32m     29\u001b[0m     \u001b[38;5;66;03m# averaging across all samples\u001b[39;00m\n\u001b[1;32m     31\u001b[0m     pes_tr[ts, :, :] \u001b[38;5;241m=\u001b[39m np\u001b[38;5;241m.\u001b[39mtile(\n\u001b[1;32m     32\u001b[0m         rewards_to_train[trial][ts], (num_dists, num_samples)) \u001b[38;5;241m+\u001b[39m np\u001b[38;5;241m.\u001b[39msubtract\u001b[38;5;241m.\u001b[39mouter(gamma \u001b[38;5;241m*\u001b[39m V_samples, V)\u001b[38;5;241m.\u001b[39mT\n",
      "File \u001b[0;32m~/Documents/towers_mice/vectorRPE_public/figures/utils/distRL_utils.py:131\u001b[0m, in \u001b[0;36minfer_dist\u001b[0;34m(expectiles, taus, dist)\u001b[0m\n\u001b[1;32m    129\u001b[0m \u001b[38;5;28;01melif\u001b[39;00m dist \u001b[38;5;129;01mis\u001b[39;00m \u001b[38;5;28;01mNone\u001b[39;00m:\n\u001b[1;32m    130\u001b[0m     \u001b[38;5;28;01mdef\u001b[39;00m \u001b[38;5;21mfn_to_solve\u001b[39m(x): \u001b[38;5;28;01mreturn\u001b[39;00m expectile_grad_loss(expectiles, taus, x)\n\u001b[0;32m--> 131\u001b[0m     sol \u001b[38;5;241m=\u001b[39m \u001b[43mscipy\u001b[49m\u001b[38;5;241;43m.\u001b[39;49m\u001b[43moptimize\u001b[49m\u001b[38;5;241;43m.\u001b[39;49m\u001b[43mroot\u001b[49m\u001b[43m(\u001b[49m\u001b[43mfn_to_solve\u001b[49m\u001b[43m,\u001b[49m\u001b[43m \u001b[49m\u001b[43mx0\u001b[49m\u001b[38;5;241;43m=\u001b[39;49m\u001b[43mexpectiles\u001b[49m\u001b[43m,\u001b[49m\u001b[43m \u001b[49m\u001b[43mmethod\u001b[49m\u001b[38;5;241;43m=\u001b[39;49m\u001b[38;5;124;43m'\u001b[39;49m\u001b[38;5;124;43mlm\u001b[39;49m\u001b[38;5;124;43m'\u001b[39;49m\u001b[43m,\u001b[49m\n\u001b[1;32m    132\u001b[0m \u001b[43m                              \u001b[49m\u001b[43moptions\u001b[49m\u001b[38;5;241;43m=\u001b[39;49m\u001b[43m{\u001b[49m\u001b[38;5;124;43m'\u001b[39;49m\u001b[38;5;124;43mmaxiter\u001b[39;49m\u001b[38;5;124;43m'\u001b[39;49m\u001b[43m:\u001b[49m\u001b[43m \u001b[49m\u001b[38;5;241;43m100000\u001b[39;49m\u001b[43m}\u001b[49m\u001b[43m)\u001b[49m\n\u001b[1;32m    134\u001b[0m check_convergence(sol)\n\u001b[1;32m    136\u001b[0m \u001b[38;5;66;03m# return the optimized value\u001b[39;00m\n",
      "File \u001b[0;32m~/anaconda3/lib/python3.9/site-packages/scipy/optimize/_root.py:189\u001b[0m, in \u001b[0;36mroot\u001b[0;34m(fun, x0, args, method, jac, tol, callback, options)\u001b[0m\n\u001b[1;32m    187\u001b[0m     sol \u001b[38;5;241m=\u001b[39m _root_hybr(fun, x0, args\u001b[38;5;241m=\u001b[39margs, jac\u001b[38;5;241m=\u001b[39mjac, \u001b[38;5;241m*\u001b[39m\u001b[38;5;241m*\u001b[39moptions)\n\u001b[1;32m    188\u001b[0m \u001b[38;5;28;01melif\u001b[39;00m meth \u001b[38;5;241m==\u001b[39m \u001b[38;5;124m'\u001b[39m\u001b[38;5;124mlm\u001b[39m\u001b[38;5;124m'\u001b[39m:\n\u001b[0;32m--> 189\u001b[0m     sol \u001b[38;5;241m=\u001b[39m \u001b[43m_root_leastsq\u001b[49m\u001b[43m(\u001b[49m\u001b[43mfun\u001b[49m\u001b[43m,\u001b[49m\u001b[43m \u001b[49m\u001b[43mx0\u001b[49m\u001b[43m,\u001b[49m\u001b[43m \u001b[49m\u001b[43margs\u001b[49m\u001b[38;5;241;43m=\u001b[39;49m\u001b[43margs\u001b[49m\u001b[43m,\u001b[49m\u001b[43m \u001b[49m\u001b[43mjac\u001b[49m\u001b[38;5;241;43m=\u001b[39;49m\u001b[43mjac\u001b[49m\u001b[43m,\u001b[49m\u001b[43m \u001b[49m\u001b[38;5;241;43m*\u001b[39;49m\u001b[38;5;241;43m*\u001b[39;49m\u001b[43moptions\u001b[49m\u001b[43m)\u001b[49m\n\u001b[1;32m    190\u001b[0m \u001b[38;5;28;01melif\u001b[39;00m meth \u001b[38;5;241m==\u001b[39m \u001b[38;5;124m'\u001b[39m\u001b[38;5;124mdf-sane\u001b[39m\u001b[38;5;124m'\u001b[39m:\n\u001b[1;32m    191\u001b[0m     _warn_jac_unused(jac, method)\n",
      "File \u001b[0;32m~/anaconda3/lib/python3.9/site-packages/scipy/optimize/_root.py:247\u001b[0m, in \u001b[0;36m_root_leastsq\u001b[0;34m(fun, x0, args, jac, col_deriv, xtol, ftol, gtol, maxiter, eps, factor, diag, **unknown_options)\u001b[0m\n\u001b[1;32m    216\u001b[0m \u001b[38;5;124;03m\"\"\"\u001b[39;00m\n\u001b[1;32m    217\u001b[0m \u001b[38;5;124;03mSolve for least squares with Levenberg-Marquardt\u001b[39;00m\n\u001b[1;32m    218\u001b[0m \n\u001b[0;32m   (...)\u001b[0m\n\u001b[1;32m    243\u001b[0m \u001b[38;5;124;03m    N positive entries that serve as a scale factors for the variables.\u001b[39;00m\n\u001b[1;32m    244\u001b[0m \u001b[38;5;124;03m\"\"\"\u001b[39;00m\n\u001b[1;32m    246\u001b[0m _check_unknown_options(unknown_options)\n\u001b[0;32m--> 247\u001b[0m x, cov_x, info, msg, ier \u001b[38;5;241m=\u001b[39m \u001b[43mleastsq\u001b[49m\u001b[43m(\u001b[49m\u001b[43mfun\u001b[49m\u001b[43m,\u001b[49m\u001b[43m \u001b[49m\u001b[43mx0\u001b[49m\u001b[43m,\u001b[49m\u001b[43m \u001b[49m\u001b[43margs\u001b[49m\u001b[38;5;241;43m=\u001b[39;49m\u001b[43margs\u001b[49m\u001b[43m,\u001b[49m\u001b[43m \u001b[49m\u001b[43mDfun\u001b[49m\u001b[38;5;241;43m=\u001b[39;49m\u001b[43mjac\u001b[49m\u001b[43m,\u001b[49m\n\u001b[1;32m    248\u001b[0m \u001b[43m                                   \u001b[49m\u001b[43mfull_output\u001b[49m\u001b[38;5;241;43m=\u001b[39;49m\u001b[38;5;28;43;01mTrue\u001b[39;49;00m\u001b[43m,\u001b[49m\n\u001b[1;32m    249\u001b[0m \u001b[43m                                   \u001b[49m\u001b[43mcol_deriv\u001b[49m\u001b[38;5;241;43m=\u001b[39;49m\u001b[43mcol_deriv\u001b[49m\u001b[43m,\u001b[49m\u001b[43m \u001b[49m\u001b[43mxtol\u001b[49m\u001b[38;5;241;43m=\u001b[39;49m\u001b[43mxtol\u001b[49m\u001b[43m,\u001b[49m\n\u001b[1;32m    250\u001b[0m \u001b[43m                                   \u001b[49m\u001b[43mftol\u001b[49m\u001b[38;5;241;43m=\u001b[39;49m\u001b[43mftol\u001b[49m\u001b[43m,\u001b[49m\u001b[43m \u001b[49m\u001b[43mgtol\u001b[49m\u001b[38;5;241;43m=\u001b[39;49m\u001b[43mgtol\u001b[49m\u001b[43m,\u001b[49m\n\u001b[1;32m    251\u001b[0m \u001b[43m                                   \u001b[49m\u001b[43mmaxfev\u001b[49m\u001b[38;5;241;43m=\u001b[39;49m\u001b[43mmaxiter\u001b[49m\u001b[43m,\u001b[49m\u001b[43m \u001b[49m\u001b[43mepsfcn\u001b[49m\u001b[38;5;241;43m=\u001b[39;49m\u001b[43meps\u001b[49m\u001b[43m,\u001b[49m\n\u001b[1;32m    252\u001b[0m \u001b[43m                                   \u001b[49m\u001b[43mfactor\u001b[49m\u001b[38;5;241;43m=\u001b[39;49m\u001b[43mfactor\u001b[49m\u001b[43m,\u001b[49m\u001b[43m \u001b[49m\u001b[43mdiag\u001b[49m\u001b[38;5;241;43m=\u001b[39;49m\u001b[43mdiag\u001b[49m\u001b[43m)\u001b[49m\n\u001b[1;32m    253\u001b[0m sol \u001b[38;5;241m=\u001b[39m OptimizeResult(x\u001b[38;5;241m=\u001b[39mx, message\u001b[38;5;241m=\u001b[39mmsg, status\u001b[38;5;241m=\u001b[39mier,\n\u001b[1;32m    254\u001b[0m                      success\u001b[38;5;241m=\u001b[39mier \u001b[38;5;129;01min\u001b[39;00m (\u001b[38;5;241m1\u001b[39m, \u001b[38;5;241m2\u001b[39m, \u001b[38;5;241m3\u001b[39m, \u001b[38;5;241m4\u001b[39m), cov_x\u001b[38;5;241m=\u001b[39mcov_x,\n\u001b[1;32m    255\u001b[0m                      fun\u001b[38;5;241m=\u001b[39minfo\u001b[38;5;241m.\u001b[39mpop(\u001b[38;5;124m'\u001b[39m\u001b[38;5;124mfvec\u001b[39m\u001b[38;5;124m'\u001b[39m))\n\u001b[1;32m    256\u001b[0m sol\u001b[38;5;241m.\u001b[39mupdate(info)\n",
      "File \u001b[0;32m~/anaconda3/lib/python3.9/site-packages/scipy/optimize/minpack.py:423\u001b[0m, in \u001b[0;36mleastsq\u001b[0;34m(func, x0, args, Dfun, full_output, col_deriv, ftol, xtol, gtol, maxfev, epsfcn, factor, diag)\u001b[0m\n\u001b[1;32m    421\u001b[0m     \u001b[38;5;28;01mif\u001b[39;00m maxfev \u001b[38;5;241m==\u001b[39m \u001b[38;5;241m0\u001b[39m:\n\u001b[1;32m    422\u001b[0m         maxfev \u001b[38;5;241m=\u001b[39m \u001b[38;5;241m200\u001b[39m\u001b[38;5;241m*\u001b[39m(n \u001b[38;5;241m+\u001b[39m \u001b[38;5;241m1\u001b[39m)\n\u001b[0;32m--> 423\u001b[0m     retval \u001b[38;5;241m=\u001b[39m \u001b[43m_minpack\u001b[49m\u001b[38;5;241;43m.\u001b[39;49m\u001b[43m_lmdif\u001b[49m\u001b[43m(\u001b[49m\u001b[43mfunc\u001b[49m\u001b[43m,\u001b[49m\u001b[43m \u001b[49m\u001b[43mx0\u001b[49m\u001b[43m,\u001b[49m\u001b[43m \u001b[49m\u001b[43margs\u001b[49m\u001b[43m,\u001b[49m\u001b[43m \u001b[49m\u001b[43mfull_output\u001b[49m\u001b[43m,\u001b[49m\u001b[43m \u001b[49m\u001b[43mftol\u001b[49m\u001b[43m,\u001b[49m\u001b[43m \u001b[49m\u001b[43mxtol\u001b[49m\u001b[43m,\u001b[49m\n\u001b[1;32m    424\u001b[0m \u001b[43m                             \u001b[49m\u001b[43mgtol\u001b[49m\u001b[43m,\u001b[49m\u001b[43m \u001b[49m\u001b[43mmaxfev\u001b[49m\u001b[43m,\u001b[49m\u001b[43m \u001b[49m\u001b[43mepsfcn\u001b[49m\u001b[43m,\u001b[49m\u001b[43m \u001b[49m\u001b[43mfactor\u001b[49m\u001b[43m,\u001b[49m\u001b[43m \u001b[49m\u001b[43mdiag\u001b[49m\u001b[43m)\u001b[49m\n\u001b[1;32m    425\u001b[0m \u001b[38;5;28;01melse\u001b[39;00m:\n\u001b[1;32m    426\u001b[0m     \u001b[38;5;28;01mif\u001b[39;00m col_deriv:\n",
      "File \u001b[0;32m~/Documents/towers_mice/vectorRPE_public/figures/utils/distRL_utils.py:130\u001b[0m, in \u001b[0;36minfer_dist.<locals>.fn_to_solve\u001b[0;34m(x)\u001b[0m\n\u001b[0;32m--> 130\u001b[0m \u001b[38;5;28;01mdef\u001b[39;00m \u001b[38;5;21mfn_to_solve\u001b[39m(x): \u001b[38;5;28;01mreturn\u001b[39;00m \u001b[43mexpectile_grad_loss\u001b[49m\u001b[43m(\u001b[49m\u001b[43mexpectiles\u001b[49m\u001b[43m,\u001b[49m\u001b[43m \u001b[49m\u001b[43mtaus\u001b[49m\u001b[43m,\u001b[49m\u001b[43m \u001b[49m\u001b[43mx\u001b[49m\u001b[43m)\u001b[49m\n",
      "File \u001b[0;32m~/Documents/towers_mice/vectorRPE_public/figures/utils/distRL_utils.py:98\u001b[0m, in \u001b[0;36mexpectile_grad_loss\u001b[0;34m(expectiles, taus, dist)\u001b[0m\n\u001b[1;32m     96\u001b[0m indic \u001b[38;5;241m=\u001b[39m np\u001b[38;5;241m.\u001b[39marray(delta \u001b[38;5;241m<\u001b[39m\u001b[38;5;241m=\u001b[39m \u001b[38;5;241m0.\u001b[39m, dtype\u001b[38;5;241m=\u001b[39mnp\u001b[38;5;241m.\u001b[39mfloat32)\n\u001b[1;32m     97\u001b[0m grad \u001b[38;5;241m=\u001b[39m \u001b[38;5;241m-\u001b[39m\u001b[38;5;241m2.\u001b[39m \u001b[38;5;241m*\u001b[39m np\u001b[38;5;241m.\u001b[39mabs(taus[:, np\u001b[38;5;241m.\u001b[39mnewaxis] \u001b[38;5;241m-\u001b[39m indic) \u001b[38;5;241m*\u001b[39m delta\n\u001b[0;32m---> 98\u001b[0m \u001b[38;5;28;01mreturn\u001b[39;00m \u001b[43mnp\u001b[49m\u001b[38;5;241;43m.\u001b[39;49m\u001b[43mmean\u001b[49m\u001b[43m(\u001b[49m\u001b[43mgrad\u001b[49m\u001b[43m,\u001b[49m\u001b[43m \u001b[49m\u001b[43maxis\u001b[49m\u001b[38;5;241;43m=\u001b[39;49m\u001b[38;5;241;43m1\u001b[39;49m\u001b[43m)\u001b[49m\n",
      "File \u001b[0;32m<__array_function__ internals>:5\u001b[0m, in \u001b[0;36mmean\u001b[0;34m(*args, **kwargs)\u001b[0m\n",
      "File \u001b[0;32m~/anaconda3/lib/python3.9/site-packages/numpy/core/fromnumeric.py:3419\u001b[0m, in \u001b[0;36mmean\u001b[0;34m(a, axis, dtype, out, keepdims, where)\u001b[0m\n\u001b[1;32m   3416\u001b[0m     \u001b[38;5;28;01melse\u001b[39;00m:\n\u001b[1;32m   3417\u001b[0m         \u001b[38;5;28;01mreturn\u001b[39;00m mean(axis\u001b[38;5;241m=\u001b[39maxis, dtype\u001b[38;5;241m=\u001b[39mdtype, out\u001b[38;5;241m=\u001b[39mout, \u001b[38;5;241m*\u001b[39m\u001b[38;5;241m*\u001b[39mkwargs)\n\u001b[0;32m-> 3419\u001b[0m \u001b[38;5;28;01mreturn\u001b[39;00m \u001b[43m_methods\u001b[49m\u001b[38;5;241;43m.\u001b[39;49m\u001b[43m_mean\u001b[49m\u001b[43m(\u001b[49m\u001b[43ma\u001b[49m\u001b[43m,\u001b[49m\u001b[43m \u001b[49m\u001b[43maxis\u001b[49m\u001b[38;5;241;43m=\u001b[39;49m\u001b[43maxis\u001b[49m\u001b[43m,\u001b[49m\u001b[43m \u001b[49m\u001b[43mdtype\u001b[49m\u001b[38;5;241;43m=\u001b[39;49m\u001b[43mdtype\u001b[49m\u001b[43m,\u001b[49m\n\u001b[1;32m   3420\u001b[0m \u001b[43m                      \u001b[49m\u001b[43mout\u001b[49m\u001b[38;5;241;43m=\u001b[39;49m\u001b[43mout\u001b[49m\u001b[43m,\u001b[49m\u001b[43m \u001b[49m\u001b[38;5;241;43m*\u001b[39;49m\u001b[38;5;241;43m*\u001b[39;49m\u001b[43mkwargs\u001b[49m\u001b[43m)\u001b[49m\n",
      "File \u001b[0;32m~/anaconda3/lib/python3.9/site-packages/numpy/core/_methods.py:166\u001b[0m, in \u001b[0;36m_mean\u001b[0;34m(a, axis, dtype, out, keepdims, where)\u001b[0m\n\u001b[1;32m    162\u001b[0m arr \u001b[38;5;241m=\u001b[39m asanyarray(a)\n\u001b[1;32m    164\u001b[0m is_float16_result \u001b[38;5;241m=\u001b[39m \u001b[38;5;28;01mFalse\u001b[39;00m\n\u001b[0;32m--> 166\u001b[0m rcount \u001b[38;5;241m=\u001b[39m \u001b[43m_count_reduce_items\u001b[49m\u001b[43m(\u001b[49m\u001b[43marr\u001b[49m\u001b[43m,\u001b[49m\u001b[43m \u001b[49m\u001b[43maxis\u001b[49m\u001b[43m,\u001b[49m\u001b[43m \u001b[49m\u001b[43mkeepdims\u001b[49m\u001b[38;5;241;43m=\u001b[39;49m\u001b[43mkeepdims\u001b[49m\u001b[43m,\u001b[49m\u001b[43m \u001b[49m\u001b[43mwhere\u001b[49m\u001b[38;5;241;43m=\u001b[39;49m\u001b[43mwhere\u001b[49m\u001b[43m)\u001b[49m\n\u001b[1;32m    167\u001b[0m \u001b[38;5;28;01mif\u001b[39;00m rcount \u001b[38;5;241m==\u001b[39m \u001b[38;5;241m0\u001b[39m \u001b[38;5;28;01mif\u001b[39;00m where \u001b[38;5;129;01mis\u001b[39;00m \u001b[38;5;28;01mTrue\u001b[39;00m \u001b[38;5;28;01melse\u001b[39;00m umr_any(rcount \u001b[38;5;241m==\u001b[39m \u001b[38;5;241m0\u001b[39m, axis\u001b[38;5;241m=\u001b[39m\u001b[38;5;28;01mNone\u001b[39;00m):\n\u001b[1;32m    168\u001b[0m     warnings\u001b[38;5;241m.\u001b[39mwarn(\u001b[38;5;124m\"\u001b[39m\u001b[38;5;124mMean of empty slice.\u001b[39m\u001b[38;5;124m\"\u001b[39m, \u001b[38;5;167;01mRuntimeWarning\u001b[39;00m, stacklevel\u001b[38;5;241m=\u001b[39m\u001b[38;5;241m2\u001b[39m)\n",
      "File \u001b[0;32m~/anaconda3/lib/python3.9/site-packages/numpy/core/_methods.py:71\u001b[0m, in \u001b[0;36m_count_reduce_items\u001b[0;34m(arr, axis, keepdims, where)\u001b[0m\n\u001b[1;32m     69\u001b[0m \u001b[38;5;28;01mif\u001b[39;00m axis \u001b[38;5;129;01mis\u001b[39;00m \u001b[38;5;28;01mNone\u001b[39;00m:\n\u001b[1;32m     70\u001b[0m     axis \u001b[38;5;241m=\u001b[39m \u001b[38;5;28mtuple\u001b[39m(\u001b[38;5;28mrange\u001b[39m(arr\u001b[38;5;241m.\u001b[39mndim))\n\u001b[0;32m---> 71\u001b[0m \u001b[38;5;28;01melif\u001b[39;00m \u001b[38;5;129;01mnot\u001b[39;00m \u001b[38;5;28;43misinstance\u001b[39;49m\u001b[43m(\u001b[49m\u001b[43maxis\u001b[49m\u001b[43m,\u001b[49m\u001b[43m \u001b[49m\u001b[38;5;28;43mtuple\u001b[39;49m\u001b[43m)\u001b[49m:\n\u001b[1;32m     72\u001b[0m     axis \u001b[38;5;241m=\u001b[39m (axis,)\n\u001b[1;32m     73\u001b[0m items \u001b[38;5;241m=\u001b[39m nt\u001b[38;5;241m.\u001b[39mintp(\u001b[38;5;241m1\u001b[39m)\n",
      "\u001b[0;31mKeyboardInterrupt\u001b[0m: "
     ]
    }
   ],
   "source": [
    "\n",
    "# PART 2: GET DISTRIBUTIONAL FEATURES WITH THE FROZEN WEIGHTS W\n",
    "rewards_to_train = rewards_[:num_trials]  # sim_rew  #  #\n",
    "\n",
    "num_samples = num_dists\n",
    "\n",
    "vs_ = []\n",
    "dist_pes_ = []  # np.zeros((feats_[0].shape[1], num_timesteps, num_trials))\n",
    "for trial in np.arange(num_trials):\n",
    "    if (np.mod(trial, 500) == 0):\n",
    "        print(trial)\n",
    "\n",
    "    pes_tr = np.zeros((int(ep_len_to_train[trial]), num_dists, num_samples))\n",
    "    vs_tr = np.zeros((int(ep_len_to_train[trial]), num_dists))\n",
    "    for ts in np.flip(np.arange(int(ep_len_to_train[trial]))):\n",
    "        V = w @ np.hstack([feats_to_train[trial][ts, :], 1])  # num_dists x 1\n",
    "        vs_tr[ts, :] = V\n",
    "\n",
    "       # terminal state\n",
    "        if ts == (ep_len_to_train[trial] - 1):\n",
    "            # NUM_DISTS x NUM_SAMPLES all samples get the same result here\n",
    "            pes_tr[ts, :, :] = np.tile(\n",
    "                rewards_to_train[trial][ts] - V, (num_samples, 1)).T\n",
    "\n",
    "        else:\n",
    "\n",
    "            V_next = w @ np.hstack([feats_to_train[trial][ts + 1, :], 1])\n",
    "            V_samples = utils.infer_dist(V_next, tau)\n",
    "            # this is returning nan\n",
    "            # averaging across all samples\n",
    "\n",
    "            pes_tr[ts, :, :] = np.tile(\n",
    "                rewards_to_train[trial][ts], (num_dists, num_samples)) + np.subtract.outer(gamma * V_samples, V).T\n",
    "\n",
    "    dist_pes_.append(pes_tr)\n",
    "    vs_.append(vs_tr)"
   ]
  },
  {
   "cell_type": "markdown",
   "metadata": {},
   "source": [
    "### Organizing Data\n",
    "\n",
    "Pulling out the specific data that we will use for figure panels"
   ]
  },
  {
   "cell_type": "code",
   "execution_count": 26,
   "metadata": {},
   "outputs": [
    {
     "name": "stderr",
     "output_type": "stream",
     "text": [
      "/var/folders/lr/h5lrlljd6fg1v7kbc9cn2_sw0000gn/T/ipykernel_31083/3264741220.py:1: RuntimeWarning: Mean of empty slice\n",
      "  dist_pes_ = [np.nanmean(pes_i, -1) for pes_i in dist_pes_raw]\n"
     ]
    }
   ],
   "source": [
    "\n",
    "dist_pes_ = [np.nanmean(pes_i, -1) for pes_i in dist_pes_raw]\n",
    "\n",
    "CUEP_LIM = 140\n",
    "ypos_cuep = np.squeeze(np.dstack([ypos_t[:CUEP_LIM]\n",
    "                       for ypos_t in ypos_])[:, :, 0])\n",
    "\n",
    "dist_cuep_flat = np.vstack([pes_i[:CUEP_LIM] for pes_i in dist_pes_])\n",
    "dist_pes = np.vstack([pes_i for pes_i in dist_pes_])\n",
    "\n",
    "ep_rewidx = (episode_lengths - 11).astype(int)\n",
    "\n",
    "(ep_towdelt_idx, ep_towdiff_idx) = cnn_utils.get_ep_tow_idx(ep_tow)\n",
    "\n",
    "# pickle.dump(TD_phi_trained_, open(\"trained_sf_pes.p\", \"wb\"))"
   ]
  },
  {
   "cell_type": "markdown",
   "metadata": {},
   "source": [
    "### Figure 6B: View Angle Responses"
   ]
  },
  {
   "cell_type": "code",
   "execution_count": 46,
   "metadata": {},
   "outputs": [],
   "source": [
    "vpos_cuep_flat = np.round(\n",
    "    np.hstack([trial[:CUEP_LIM] for trial in raw_vpos_]), 2)\n",
    "\n",
    "\n",
    "pes_cuep_vabinned = cnn_utils.bin_data_by_vpos(\n",
    "    dist_cuep_flat, vpos_cuep_flat)"
   ]
  },
  {
   "cell_type": "code",
   "execution_count": 44,
   "metadata": {},
   "outputs": [
    {
     "data": {
      "text/plain": [
       "Text(0.5, 1.0, 'View Angle Selectivity')"
      ]
     },
     "execution_count": 50,
     "metadata": {},
     "output_type": "execute_result"
    },
    {
     "data": {
      "image/png": "[encoded data removed]",
      "text/plain": [
       "<Figure size 288x252 with 1 Axes>"
      ]
     },
     "metadata": {
      "needs_background": "light"
     },
     "output_type": "display_data"
    }
   ],
   "source": [
    "fig, ax_va = plt.subplots(figsize=heatmap_sz)\n",
    "ax_va.imshow(cnn_utils.norm_within_feat(pes_cuep_vabinned),\n",
    "             aspect='auto', extent=[-0.5, 0.5, 31, 1], cmap=cnn_utils.parula_map, interpolation='none')\n",
    "\n",
    "\n",
    "ax_va.set_yticks([15, 30])  # 32,\n",
    "ax_va.set_yticklabels(['15', '30'])\n",
    "ax_va.spines['right'].set_visible(True)\n",
    "ax_va.spines['top'].set_visible(True)\n",
    "ax_va.set_title('View Angle Selectivity')\n"
   ]
  },
  {
   "cell_type": "markdown",
   "metadata": {},
   "source": [
    "### Figure 6C: Position responses"
   ]
  },
  {
   "cell_type": "code",
   "execution_count": 37,
   "metadata": {},
   "outputs": [],
   "source": [
    "dist_cuep_mat = np.dstack([pes_i[:CUEP_LIM, :] for pes_i in dist_pes_])\n",
    "avg_pos_pes = np.nanmean(dist_cuep_mat, -1)\n",
    "\n",
    "start_idx = 0\n",
    "norm_dist_end = cnn_utils.norm_within_feat(\n",
    "    np.nanmean(dist_cuep_mat[start_idx:, :], -1).T)\n",
    "\n",
    "\n",
    "\n",
    "# *SLOPE* sorted position from matlab withonly position sensitive units\n",
    "# from matlab script: timelock_to_pos.m\n",
    "savemat(load_prefix + 'norm_pos_dist.mat',\n",
    "        {'norm_pes': norm_dist_end, 'num_steps_xticks': ypos_cuep[start_idx:]})\n",
    "\n",
    "\n",
    "norm_pes_pos = loadmat(\n",
    "    load_prefix + 'sorted_norm_pos_end_dist.mat')['norm_pes']\n",
    "ypos_pes_pos = np.squeeze(\n",
    "    loadmat(load_prefix + 'sorted_norm_pos_end_dist.mat')['num_steps_xticks'])\n",
    "order = np.squeeze(\n",
    "    loadmat(load_prefix + 'sorted_norm_pos_end_dist.mat')['order_possen']) - 1\n"
   ]
  },
  {
   "cell_type": "code",
   "execution_count": 36,
   "metadata": {},
   "outputs": [
    {
     "data": {
      "text/plain": [
       "(31, 139)"
      ]
     },
     "execution_count": 36,
     "metadata": {},
     "output_type": "execute_result"
    }
   ],
   "source": [
    "norm_dist_end.shape"
   ]
  },
  {
   "cell_type": "code",
   "execution_count": 38,
   "metadata": {},
   "outputs": [
    {
     "data": {
      "text/plain": [
       "Text(0.5, 1.0, 'Position Selectivity')"
      ]
     },
     "execution_count": 38,
     "metadata": {},
     "output_type": "execute_result"
    },
    {
     "data": {
      "image/png": "[encoded data removed]",
      "text/plain": [
       "<Figure size 288x252 with 1 Axes>"
      ]
     },
     "metadata": {
      "needs_background": "light"
     },
     "output_type": "display_data"
    }
   ],
   "source": [
    "fig, ax_pos = plt.subplots(figsize=heatmap_sz)\n",
    "# ax_pos.imshow(norm_pes_pos_possenonly, cmap = utils.parula_map,\n",
    "#                     aspect = 'auto', extent = [ypos_pes_pos[0], ypos_pes_pos[-1], 64 - POS_SEN_UNIT_START, 1], interpolation = 'none')\n",
    "ax_pos.imshow(norm_pes, cmap=cnn_utils.parula_map,\n",
    "              aspect='auto', interpolation='none', extent=[ypos_cuep[start_idx], ypos_cuep[-1], 31, 1])\n",
    "\n",
    "# ax_pos.set_yticks([10, 20, 30]) # , 34\n",
    "# ax_pos.set_yticklabels(['10', '20', '30'])\n",
    "ax_pos.spines['right'].set_visible(True)\n",
    "ax_pos.spines['top'].set_visible(True)\n",
    "# ax_pos.tick_params(direction=\"out\", length=)\n",
    "ax_pos.set_title('Position Selectivity')"
   ]
  },
  {
   "cell_type": "markdown",
   "metadata": {},
   "source": [
    "### Figure 6D: Left/Right Cue Responses"
   ]
  },
  {
   "cell_type": "code",
   "execution_count": 53,
   "metadata": {},
   "outputs": [],
   "source": [
    "leftCue_ = [trialcue[0][0] - 2 for trialcue in cueOnset_]\n",
    "rightCue_ = [trialcue[1][0] - 2 for trialcue in cueOnset_]\n",
    "\n",
    "\n",
    "pes_lcue = cnn_utils.get_timelocked_cues(dist_pes_, leftCue_)\n",
    "pes_rcue = cnn_utils.get_timelocked_cues(dist_pes_, rightCue_)\n",
    "\n",
    "\n",
    "# savemat(load_prefix + 'dist_lcuercue.mat',\n",
    "#         {'mrContra': np.nanmean(pes_lcue[:, :-10, :], 0).T, 'mrIpsi': np.nanmean(pes_rcue[:, :-10, :], 0).T})\n",
    "\n"
   ]
  },
  {
   "cell_type": "code",
   "execution_count": 54,
   "metadata": {},
   "outputs": [],
   "source": [
    "vmin = loadmat(load_prefix + 'sorted_dist_lcuercue.mat')['imedg1']\n",
    "vmax = loadmat(load_prefix + 'sorted_dist_lcuercue.mat')['imedg2']\n",
    "norm_pes_lcue = loadmat(load_prefix + 'sorted_dist_lcuercue.mat')['mrContra']\n",
    "norm_pes_rcue = loadmat(load_prefix + 'sorted_dist_lcuercue.mat')['mrIpsi']\n",
    "sort_order = np.squeeze(\n",
    "    loadmat(load_prefix + 'sorted_dist_lcuercue.mat')['order']) - 1\n"
   ]
  },
  {
   "cell_type": "code",
   "execution_count": 56,
   "metadata": {},
   "outputs": [
    {
     "data": {
      "image/png": "[encoded data removed]",
      "text/plain": [
       "<Figure size 288x252 with 1 Axes>"
      ]
     },
     "metadata": {
      "needs_background": "light"
     },
     "output_type": "display_data"
    }
   ],
   "source": [
    "\n",
    "fig, left_ax = plt.subplots(figsize=heatmap_sz)\n",
    "left_ax.imshow(norm_pes_lcue[sort_order, :-10], aspect='auto', extent=[-5, 15, 64, 1],\n",
    "               cmap=cnn_utils.parula_map, interpolation='none')  # ,vmin = vmin, vmax = vmax)\n",
    "left_ax.set_title('Left Cue', color=left_col, fontsize=15)\n",
    "# left_ax.set_xlabel('Time steps from Cue Onset')\n",
    "# left_ax.set_ylabel('Vector RPEs', fontsize = FONT_BG)\n",
    "left_ax.set_yticks([20, 40, 60])  # EX_UNIT_LEFT_IDX,\n",
    "left_ax.set_yticklabels(['20', '40', '60'])\n",
    "left_ax.set_xticks([0, 10])\n",
    "\n",
    "left_ax.spines['right'].set_visible(True)\n",
    "left_ax.spines['top'].set_visible(True)\n",
    "# left_ax.tick_params(direction=\"in\", length=10)"
   ]
  },
  {
   "cell_type": "code",
   "execution_count": 57,
   "metadata": {},
   "outputs": [
    {
     "data": {
      "text/plain": [
       "[<matplotlib.axis.XTick at 0x7f8f637ae9a0>,\n",
       " <matplotlib.axis.XTick at 0x7f8f637ae970>]"
      ]
     },
     "execution_count": 57,
     "metadata": {},
     "output_type": "execute_result"
    },
    {
     "data": {
      "image/png": "[encoded data removed]",
      "text/plain": [
       "<Figure size 288x252 with 1 Axes>"
      ]
     },
     "metadata": {
      "needs_background": "light"
     },
     "output_type": "display_data"
    }
   ],
   "source": [
    "\n",
    "fig, right_ax = plt.subplots(figsize=heatmap_sz)\n",
    "plot_for_cbar = right_ax.imshow(norm_pes_rcue[sort_order, :-10], aspect='auto', extent=[-5, 15, 64, 1],\n",
    "                                cmap=cnn_utils.parula_map, interpolation='none')  # , vmin = vmin, vmax = vmax)\n",
    "right_ax.set_title('Right Cue', color=right_col, fontsize=15)\n",
    "right_ax.spines['right'].set_visible(True)\n",
    "right_ax.spines['top'].set_visible(True)\n",
    "right_ax.set_yticks([20, 40, 60])  # EX_UNIT_RIGHT_IDX,\n",
    "right_ax.set_yticklabels(['20', '40', '60'])\n",
    "right_ax.set_xticks([0, 10])\n"
   ]
  },
  {
   "cell_type": "markdown",
   "metadata": {},
   "source": [
    "### Figure 6E: Confirm/Disconfirm responses"
   ]
  },
  {
   "cell_type": "code",
   "execution_count": 58,
   "metadata": {},
   "outputs": [],
   "source": [
    "diff_ = [np.roll(tow_tr[:, 0] - tow_tr[:, 1], 1) for tow_tr in tow_counts_]\n",
    "\n",
    "leftCue_confirm = [diff_tr[leftCue_[i]] for (i, diff_tr) in enumerate(diff_)]\n",
    "rightCue_confirm = [diff_tr[rightCue_[i]] for (i, diff_tr) in enumerate(diff_)]\n",
    "\n",
    "# cues: confirmatory and disconfirmatory\n",
    "confirmCue_ = [np.sort([*(leftCue_[i])[leftCue_confirm[i] > 0], *(rightCue_[i])\n",
    "                       [rightCue_confirm[i] < 0]]) for i in np.arange(len(leftCue_))]\n",
    "dConfirmCue_ = [np.sort([*(leftCue_[i])[leftCue_confirm[i] < 0], *(rightCue_[i])\n",
    "                        [rightCue_confirm[i] > 0]]) for i in np.arange(len(leftCue_))]\n",
    "\n",
    "\n",
    "pes_Ccue = cnn_utils.get_timelocked_cues(dist_pes_, confirmCue_)\n",
    "pes_DCcue = cnn_utils.get_timelocked_cues(dist_pes_, dConfirmCue_)\n"
   ]
  },
  {
   "cell_type": "code",
   "execution_count": 61,
   "metadata": {},
   "outputs": [
    {
     "data": {
      "text/plain": [
       "<matplotlib.legend.Legend at 0x7f8dacc7b220>"
      ]
     },
     "execution_count": 61,
     "metadata": {},
     "output_type": "execute_result"
    },
    {
     "data": {
      "image/png": "[encoded data removed]",
      "text/plain": [
       "<Figure size 720x432 with 1 Axes>"
      ]
     },
     "metadata": {
      "needs_background": "light"
     },
     "output_type": "display_data"
    }
   ],
   "source": [
    "timesteps = np.arange(-2, 5)\n",
    "timesteps_idx = timesteps + 5\n",
    "\n",
    "units = np.arange(31)\n",
    "marker_plots_big = {'marker': '.', 'markersize': 5,\n",
    "                    'markeredgecolor': 'k', 'markerfacecolor': 'k'}\n",
    "\n",
    "fig = plt.figure(figsize=(10, 6))\n",
    "scalar_ax = plt.gca()\n",
    "\n",
    "scalar_ax.errorbar(timesteps, np.nanmean(np.nanmean(pes_Ccue, 0)[:, units], -1)[timesteps_idx],\n",
    "                   yerr=np.nanstd(np.nanmean(pes_Ccue, 0)[\n",
    "                                  :, units], -1)[timesteps_idx]/(len(units) - 1),\n",
    "                   label='Confirm Cue', color='slateblue', capsize=6)\n",
    "scalar_ax.errorbar(timesteps, np.nanmean(np.nanmean(pes_DCcue, 0)[:, units], -1)[timesteps_idx],\n",
    "                   yerr=np.nanstd(np.nanmean(pes_DCcue, 0)[\n",
    "                                  :, units], -1)[timesteps_idx]/(len(units) - 1),\n",
    "                   label='Disconfirm Cue', color='silver', capsize=6)\n",
    "\n",
    "\n",
    "scalar_ax.spines['top'].set_visible(False)\n",
    "scalar_ax.spines['right'].set_visible(False)\n",
    "\n",
    "plt.tight_layout()\n",
    "plt.legend()"
   ]
  },
  {
   "cell_type": "markdown",
   "metadata": {},
   "source": [
    "### Figure 6f-6j: Outcome period plots"
   ]
  },
  {
   "cell_type": "code",
   "execution_count": 62,
   "metadata": {},
   "outputs": [],
   "source": [
    "dist_rewp = np.dstack([np.vstack([pes_i[-6:, :], np.zeros((5, 31))])\n",
    "                      for pes_i in dist_pes_])\n",
    "num_trials = len(ep_tow)\n",
    "dist_rewp_norm = cnn_utils.norm_within_feat(dist_rewp.transpose((1, 0, 2)).reshape(\n",
    "    31, 11 * num_trials)).reshape(31, 11, num_trials).transpose(1, 0, 2)\n",
    "\n",
    "(ep_towdelt_idx, ep_towdiff_idx) = cnn_utils.get_ep_tow_idx(ep_tow)\n",
    "\n",
    "rew_trials = np.where(ep_rew == 1)[0]\n",
    "nrew_trials = np.where(ep_rew == 0)[0]\n",
    "easy_trials = np.hstack(ep_towdelt_idx[5:])\n",
    "hard_trials = np.hstack(ep_towdelt_idx[:2])\n",
    "\n",
    "rew_hard = np.sort(list(set(rew_trials) & set(hard_trials)))\n",
    "rew_easy = np.sort(list(set(rew_trials) & set(easy_trials)))\n"
   ]
  },
  {
   "cell_type": "code",
   "execution_count": 64,
   "metadata": {},
   "outputs": [
    {
     "data": {
      "text/plain": [
       "WilcoxonResult(statistic=0.0, pvalue=1.1741945398998534e-06)"
      ]
     },
     "execution_count": 64,
     "metadata": {},
     "output_type": "execute_result"
    },
    {
     "data": {
      "image/png": "[encoded data removed]",
      "text/plain": [
       "<Figure size 648x432 with 4 Axes>"
      ]
     },
     "metadata": {
      "needs_background": "light"
     },
     "output_type": "display_data"
    }
   ],
   "source": [
    "\n",
    "fig = plt.figure(figsize=(9, 6))\n",
    "SF_to_plot = dist_rewp\n",
    "gs = gridspec.GridSpec(2, 2, width_ratios=[2, 1])\n",
    "# easy vs hard\n",
    "\n",
    "ax_sum_rew = plt.subplot(gs[0, 0])\n",
    "\n",
    "rew_act = np.nanmean(SF_to_plot[:, :, rew_trials], -1)\n",
    "nrew_act = np.nanmean(SF_to_plot[:, :, nrew_trials], -1)\n",
    "\n",
    "ax_sum_rew.plot(np.arange(-5, 6), np.mean(nrew_act, -1),\n",
    "                **marker_plots,  color='gray', label='unrew trials')\n",
    "ax_sum_rew.plot(np.arange(-5, 6),  np.mean(rew_act, -1),\n",
    "                **marker_plots,  color='mediumvioletred', label='rew trials')\n",
    "\n",
    "\n",
    "ax_sum_rew.set_ylim(-0.85, 0.85)\n",
    "ax_sum_rew.axvline(0,  ls=(0, (5, 5)), color='k', lw=0.75)\n",
    "\n",
    "ax_sum_rew.set_ylabel('Scalar RPE')\n",
    "ax_sum_rew.legend()\n",
    "\n",
    "\n",
    "ax_hist_rew = plt.subplot(gs[0, 1])\n",
    "norm_nrew = (np.mean(dist_rewp_norm[:, :, nrew_trials], -1).T)[:, 5]\n",
    "norm_rew = (np.mean(dist_rewp_norm[:, :, rew_trials], -1).T)[:, 5]\n",
    "\n",
    "# different bins to make the bins look the same width\n",
    "_, uniform_bins, _ = ax_hist_rew.hist(\n",
    "    norm_rew - norm_nrew, color='grey', bins=5)\n",
    "ax_hist_rew.axvline(np.median(norm_rew - norm_nrew), color='gold')\n",
    "ax_hist_rew.axvline(0,  ls=(0, (5, 5)), color='k', lw=0.75)\n",
    "ax_hist_rew.set_xlim(-1, 1)\n",
    "\n",
    "ax_hist_rew.set_xlabel('Reward Trials - Unrewarded Trials')\n",
    "ax_hist_rew.set_ylabel('Expectile RPE')\n",
    "\n",
    "\n",
    "ax_sum_rewexp = plt.subplot(gs[1, 0])\n",
    "\n",
    "colors = sns.color_palette(\"Blues\", n_colors=7)\n",
    "\n",
    "\n",
    "rew_easy_act = np.nanmean(SF_to_plot[:, :, rew_easy], -1)\n",
    "rew_hard_act = np.nanmean(SF_to_plot[:, :, rew_hard], -1)\n",
    "\n",
    "ax_sum_rewexp.plot(np.arange(-5, 6), np.mean(rew_easy_act, -1),\n",
    "                   **marker_plots, color='mediumblue', label='Easy')\n",
    "\n",
    "ax_sum_rewexp.plot(np.arange(-5, 6), np.mean(rew_hard_act, -1),\n",
    "                   **marker_plots, color='skyblue', label='Hard')\n",
    "\n",
    "\n",
    "\n",
    "ax_sum_rewexp.set_ylim(-0.85, 0.85)\n",
    "ax_sum_rewexp.axvline(0, color='k', lw=0.5, ls=(0, (5, 5)))\n",
    "\n",
    "ax_sum_rewexp.legend()\n",
    "ax_sum_rewexp.set_ylabel('Scalar RPE')\n",
    "ax_sum_rewexp.set_xlabel('Time From Reward')\n",
    "\n",
    "\n",
    "norm_easy = (np.mean(dist_rewp_norm[:, :, rew_easy], -1).T)[:, 5]\n",
    "norm_hard = (np.mean(dist_rewp_norm[:, :, rew_hard], -1).T)[:, 5]\n",
    "\n",
    "\n",
    "ax_hist_rewexp = plt.subplot(gs[1, 1])\n",
    "ax_hist_rewexp.hist(norm_hard - norm_easy, color='grey', bins=10)\n",
    "ax_hist_rewexp.axvline(np.median(norm_hard - norm_easy), color='gold')\n",
    "ax_hist_rewexp.axvline(0,  ls=(0, (5, 5)), color='k', lw=0.75)\n",
    "ax_hist_rewexp.set_xlim(-0.13, 0.13)\n",
    "np.median(norm_hard - norm_easy)\n",
    "ax_hist_rewexp.set_ylim(ax_hist_rew.get_ylim())\n",
    "\n",
    "ax_hist_rewexp.set_xlabel('Hard Trials - Easy Trials')\n",
    "ax_hist_rewexp.set_ylabel('Expectile PE')\n",
    "\n",
    "plt.tight_layout(w_pad=1.3, h_pad=4)\n",
    "\n",
    "stats.wilcoxon(norm_rew - norm_nrew)\n",
    "stats.wilcoxon(norm_hard - norm_easy)"
   ]
  },
  {
   "cell_type": "code",
   "execution_count": null,
   "metadata": {},
   "outputs": [],
   "source": []
  }
 ],
 "metadata": {
  "kernelspec": {
   "display_name": "Python 3 (ipykernel)",
   "language": "python",
   "name": "python3"
  },
  "language_info": {
   "codemirror_mode": {
    "name": "ipython",
    "version": 3
   },
   "file_extension": ".py",
   "mimetype": "text/x-python",
   "name": "python",
   "nbconvert_exporter": "python",
   "pygments_lexer": "ipython3",
   "version": "3.9.7"
  },
  "vscode": {
   "interpreter": {
    "hash": "9c8e17623c24488647b13662268e8a83fd5a444a847214259e0f0fd0787ae8ad"
   }
  }
 },
 "nbformat": 4,
 "nbformat_minor": 4
}
