{
 "cells": [
  {
   "cell_type": "code",
   "execution_count": 1,
   "metadata": {},
   "outputs": [
    {
     "name": "stderr",
     "output_type": "stream",
     "text": [
      "C:\\ProgramData\\Anaconda3\\lib\\site-packages\\tensorflow\\python\\framework\\dtypes.py:516: FutureWarning: Passing (type, 1) or '1type' as a synonym of type is deprecated; in a future version of numpy, it will be understood as (type, (1,)) / '(1,)type'.\n",
      "  _np_qint8 = np.dtype([(\"qint8\", np.int8, 1)])\n",
      "C:\\ProgramData\\Anaconda3\\lib\\site-packages\\tensorflow\\python\\framework\\dtypes.py:517: FutureWarning: Passing (type, 1) or '1type' as a synonym of type is deprecated; in a future version of numpy, it will be understood as (type, (1,)) / '(1,)type'.\n",
      "  _np_quint8 = np.dtype([(\"quint8\", np.uint8, 1)])\n",
      "C:\\ProgramData\\Anaconda3\\lib\\site-packages\\tensorflow\\python\\framework\\dtypes.py:518: FutureWarning: Passing (type, 1) or '1type' as a synonym of type is deprecated; in a future version of numpy, it will be understood as (type, (1,)) / '(1,)type'.\n",
      "  _np_qint16 = np.dtype([(\"qint16\", np.int16, 1)])\n",
      "C:\\ProgramData\\Anaconda3\\lib\\site-packages\\tensorflow\\python\\framework\\dtypes.py:519: FutureWarning: Passing (type, 1) or '1type' as a synonym of type is deprecated; in a future version of numpy, it will be understood as (type, (1,)) / '(1,)type'.\n",
      "  _np_quint16 = np.dtype([(\"quint16\", np.uint16, 1)])\n",
      "C:\\ProgramData\\Anaconda3\\lib\\site-packages\\tensorflow\\python\\framework\\dtypes.py:520: FutureWarning: Passing (type, 1) or '1type' as a synonym of type is deprecated; in a future version of numpy, it will be understood as (type, (1,)) / '(1,)type'.\n",
      "  _np_qint32 = np.dtype([(\"qint32\", np.int32, 1)])\n",
      "C:\\ProgramData\\Anaconda3\\lib\\site-packages\\tensorflow\\python\\framework\\dtypes.py:525: FutureWarning: Passing (type, 1) or '1type' as a synonym of type is deprecated; in a future version of numpy, it will be understood as (type, (1,)) / '(1,)type'.\n",
      "  np_resource = np.dtype([(\"resource\", np.ubyte, 1)])\n",
      "C:\\ProgramData\\Anaconda3\\lib\\site-packages\\tensorboard\\compat\\tensorflow_stub\\dtypes.py:541: FutureWarning: Passing (type, 1) or '1type' as a synonym of type is deprecated; in a future version of numpy, it will be understood as (type, (1,)) / '(1,)type'.\n",
      "  _np_qint8 = np.dtype([(\"qint8\", np.int8, 1)])\n",
      "C:\\ProgramData\\Anaconda3\\lib\\site-packages\\tensorboard\\compat\\tensorflow_stub\\dtypes.py:542: FutureWarning: Passing (type, 1) or '1type' as a synonym of type is deprecated; in a future version of numpy, it will be understood as (type, (1,)) / '(1,)type'.\n",
      "  _np_quint8 = np.dtype([(\"quint8\", np.uint8, 1)])\n",
      "C:\\ProgramData\\Anaconda3\\lib\\site-packages\\tensorboard\\compat\\tensorflow_stub\\dtypes.py:543: FutureWarning: Passing (type, 1) or '1type' as a synonym of type is deprecated; in a future version of numpy, it will be understood as (type, (1,)) / '(1,)type'.\n",
      "  _np_qint16 = np.dtype([(\"qint16\", np.int16, 1)])\n",
      "C:\\ProgramData\\Anaconda3\\lib\\site-packages\\tensorboard\\compat\\tensorflow_stub\\dtypes.py:544: FutureWarning: Passing (type, 1) or '1type' as a synonym of type is deprecated; in a future version of numpy, it will be understood as (type, (1,)) / '(1,)type'.\n",
      "  _np_quint16 = np.dtype([(\"quint16\", np.uint16, 1)])\n",
      "C:\\ProgramData\\Anaconda3\\lib\\site-packages\\tensorboard\\compat\\tensorflow_stub\\dtypes.py:545: FutureWarning: Passing (type, 1) or '1type' as a synonym of type is deprecated; in a future version of numpy, it will be understood as (type, (1,)) / '(1,)type'.\n",
      "  _np_qint32 = np.dtype([(\"qint32\", np.int32, 1)])\n",
      "C:\\ProgramData\\Anaconda3\\lib\\site-packages\\tensorboard\\compat\\tensorflow_stub\\dtypes.py:550: FutureWarning: Passing (type, 1) or '1type' as a synonym of type is deprecated; in a future version of numpy, it will be understood as (type, (1,)) / '(1,)type'.\n",
      "  np_resource = np.dtype([(\"resource\", np.ubyte, 1)])\n",
      "C:\\ProgramData\\Anaconda3\\lib\\site-packages\\sklearn\\utils\\validation.py:37: DeprecationWarning: distutils Version classes are deprecated. Use packaging.version instead.\n",
      "  LARGE_SPARSE_SUPPORTED = LooseVersion(scipy_version) >= '0.14.0'\n"
     ]
    },
    {
     "name": "stdout",
     "output_type": "stream",
     "text": [
      "Logging to ./logs/retrain_kevin/tensorboard2/\n"
     ]
    }
   ],
   "source": [
    "\n",
    "import gym\n",
    "import numpy as np\n",
    "\n",
    "from stable_baselines.common.policies import CnnPolicy, MlpLstmPolicy, CnnLstmPolicy\n",
    "from stable_baselines.common.vec_env import DummyVecEnv, SubprocVecEnv\n",
    "from stable_baselines import A2C\n",
    "from stable_baselines.common import set_global_seeds\n",
    "from stable_baselines.common.env_checker import check_env\n",
    "from stable_baselines.common.callbacks import CheckpointCallback\n",
    "from stable_baselines.common.callbacks import EvalCallback, StopTrainingOnRewardThreshold\n",
    "from stable_baselines.logger import configure\n",
    "from stable_baselines.common.callbacks import BaseCallback\n",
    "import tensorflow as tf\n",
    "import pdb \n",
    "from stable_baselines.bench import Monitor\n",
    "import os\n",
    "import subprocess\n",
    "import evaluate_policy\n",
    "import custom_cnn_lstm\n",
    "import seaborn as sns\n",
    "\n",
    "import matplotlib.pyplot as plt\n",
    "%matplotlib inline\n",
    "import pickle"
   ]
  },
  {
   "cell_type": "code",
   "execution_count": 2,
   "metadata": {},
   "outputs": [
    {
     "name": "stderr",
     "output_type": "stream",
     "text": [
      "WARNING: Logging before flag parsing goes to stderr.\n",
      "W0704 15:02:20.139303 26400 deprecation_wrapper.py:119] From C:\\ProgramData\\Anaconda3\\lib\\site-packages\\stable_baselines\\common\\tf_util.py:191: The name tf.ConfigProto is deprecated. Please use tf.compat.v1.ConfigProto instead.\n",
      "\n",
      "W0704 15:02:20.139303 26400 deprecation_wrapper.py:119] From C:\\ProgramData\\Anaconda3\\lib\\site-packages\\stable_baselines\\common\\tf_util.py:200: The name tf.Session is deprecated. Please use tf.compat.v1.Session instead.\n",
      "\n",
      "W0704 15:02:20.154464 26400 deprecation_wrapper.py:119] From C:\\ProgramData\\Anaconda3\\lib\\site-packages\\stable_baselines\\common\\policies.py:116: The name tf.variable_scope is deprecated. Please use tf.compat.v1.variable_scope instead.\n",
      "\n",
      "W0704 15:02:20.155462 26400 deprecation_wrapper.py:119] From C:\\ProgramData\\Anaconda3\\lib\\site-packages\\stable_baselines\\common\\input.py:25: The name tf.placeholder is deprecated. Please use tf.compat.v1.placeholder instead.\n",
      "\n",
      "W0704 15:02:20.169289 26400 deprecation_wrapper.py:119] From C:\\ProgramData\\Anaconda3\\lib\\site-packages\\stable_baselines\\common\\tf_layers.py:103: The name tf.get_variable is deprecated. Please use tf.compat.v1.get_variable instead.\n",
      "\n",
      "W0704 15:02:22.570077 26400 deprecation_wrapper.py:119] From C:\\ProgramData\\Anaconda3\\lib\\site-packages\\stable_baselines\\a2c\\a2c.py:162: The name tf.summary.scalar is deprecated. Please use tf.compat.v1.summary.scalar instead.\n",
      "\n",
      "W0704 15:02:26.088631 26400 deprecation.py:323] From C:\\ProgramData\\Anaconda3\\lib\\site-packages\\tensorflow\\python\\ops\\clip_ops.py:286: add_dispatch_support.<locals>.wrapper (from tensorflow.python.ops.array_ops) is deprecated and will be removed in a future version.\n",
      "Instructions for updating:\n",
      "Use tf.where in 2.0, which has the same broadcast rule as np.where\n",
      "W0704 15:02:26.116690 26400 deprecation_wrapper.py:119] From C:\\ProgramData\\Anaconda3\\lib\\site-packages\\stable_baselines\\a2c\\a2c.py:186: The name tf.train.RMSPropOptimizer is deprecated. Please use tf.compat.v1.train.RMSPropOptimizer instead.\n",
      "\n",
      "W0704 15:02:26.117664 26400 deprecation.py:506] From C:\\ProgramData\\Anaconda3\\lib\\site-packages\\tensorflow\\python\\training\\rmsprop.py:119: calling Ones.__init__ (from tensorflow.python.ops.init_ops) with dtype is deprecated and will be removed in a future version.\n",
      "Instructions for updating:\n",
      "Call initializer instance with the dtype argument instead of passing it to the constructor\n",
      "W0704 15:02:26.849838 26400 deprecation_wrapper.py:119] From C:\\ProgramData\\Anaconda3\\lib\\site-packages\\stable_baselines\\a2c\\a2c.py:198: The name tf.summary.merge_all is deprecated. Please use tf.compat.v1.summary.merge_all instead.\n",
      "\n"
     ]
    }
   ],
   "source": [
    "env = DummyVecEnv([lambda: gym.make('vrgym-v0')])\n",
    "policy_kwargs = dict(n_lstm=64, cnn_extractor = custom_cnn_lstm.nature_cnn_best_rewinput)\n",
    "\n",
    "model = A2C(CnnLstmPolicy, env, verbose =1, policy_kwargs = policy_kwargs,  \n",
    "        learning_rate = 2.5e-4, n_steps=140)\n",
    "\n",
    " # Custom MLP policy of three layers of size 128 each\n",
    "class CnnLstmActorCriticPolicy(CnnLstmPolicy):\n",
    "    def __init__(self, *args, **kwargs):\n",
    "        super(CnnLstmActorCriticPolicy, self).__init__(n_lstm=64, *args, **kwargs,\n",
    "                                           net_arch=['lstm', dict(pi=[32], vf=[32])],\n",
    "                                           cnn_extractor=custom_cnn_lstm.nature_cnn_best_rewinput)\n",
    "\n",
    "# model = A2C(CnnLstmActorCriticPolicy, env, verbose =1, \n",
    "#         learning_rate = 2.5e-4, n_steps=110)"
   ]
  },
  {
   "cell_type": "code",
   "execution_count": 3,
   "metadata": {},
   "outputs": [],
   "source": [
    "load_path =  './logs/retrain_wgoat/success1/'\n",
    "\n",
    "params = evaluate_policy.get_params_from_zip(load_path + 'rl_model_28800000_steps')\n",
    "# NEED TO FIX YPOS IN THE EVALUATE! \n",
    "   "
   ]
  },
  {
   "cell_type": "code",
   "execution_count": 4,
   "metadata": {},
   "outputs": [],
   "source": [
    "model.load_parameters(params)"
   ]
  },
  {
   "cell_type": "code",
   "execution_count": 89,
   "metadata": {},
   "outputs": [
    {
     "ename": "TypeError",
     "evalue": "cannot unpack non-iterable NoneType object",
     "output_type": "error",
     "traceback": [
      "\u001b[1;31m---------------------------------------------------------------------------\u001b[0m",
      "\u001b[1;31mTypeError\u001b[0m                                 Traceback (most recent call last)",
      "\u001b[1;32m<ipython-input-89-cffeac85e289>\u001b[0m in \u001b[0;36m<module>\u001b[1;34m\u001b[0m\n\u001b[0;32m      1\u001b[0m \u001b[1;33m\u001b[0m\u001b[0m\n\u001b[0;32m      2\u001b[0m [actions, rewards, obses0, feats, terms, vs, tow_counts, episode_lengths, ypos] = evaluate_policy.get_model_data(model, env, \n\u001b[1;32m----> 3\u001b[1;33m                                                                             n_eval_episodes = 50 , by_ep = True, obses_ep_saved = 50)\n\u001b[0m",
      "\u001b[1;32m~\\Documents\\GitHub\\vectorRPE\\deepRL\\evaluate_policy.py\u001b[0m in \u001b[0;36mget_model_data\u001b[1;34m(model, env, n_eval_episodes, by_ep, obses_ep_saved)\u001b[0m\n\u001b[0;32m    174\u001b[0m             \u001b[0maction\u001b[0m\u001b[1;33m,\u001b[0m \u001b[0mstate\u001b[0m \u001b[1;33m=\u001b[0m \u001b[0mmodel\u001b[0m\u001b[1;33m.\u001b[0m\u001b[0mpredict\u001b[0m\u001b[1;33m(\u001b[0m\u001b[0mobs\u001b[0m\u001b[1;33m,\u001b[0m \u001b[0mstate\u001b[0m\u001b[1;33m=\u001b[0m\u001b[0mstate\u001b[0m\u001b[1;33m)\u001b[0m\u001b[1;33m\u001b[0m\u001b[1;33m\u001b[0m\u001b[0m\n\u001b[0;32m    175\u001b[0m             \u001b[0mactions\u001b[0m\u001b[1;33m.\u001b[0m\u001b[0mappend\u001b[0m\u001b[1;33m(\u001b[0m\u001b[0maction\u001b[0m\u001b[1;33m)\u001b[0m\u001b[1;33m\u001b[0m\u001b[1;33m\u001b[0m\u001b[0m\n\u001b[1;32m--> 176\u001b[1;33m             \u001b[0mobs\u001b[0m\u001b[1;33m,\u001b[0m \u001b[0mreward\u001b[0m\u001b[1;33m,\u001b[0m \u001b[0mdone\u001b[0m\u001b[1;33m,\u001b[0m \u001b[0minfo\u001b[0m \u001b[1;33m=\u001b[0m \u001b[0menv\u001b[0m\u001b[1;33m.\u001b[0m\u001b[0mstep\u001b[0m\u001b[1;33m(\u001b[0m\u001b[0maction\u001b[0m\u001b[1;33m)\u001b[0m\u001b[1;33m\u001b[0m\u001b[1;33m\u001b[0m\u001b[0m\n\u001b[0m\u001b[0;32m    177\u001b[0m             \u001b[0mrewards\u001b[0m\u001b[1;33m.\u001b[0m\u001b[0mappend\u001b[0m\u001b[1;33m(\u001b[0m\u001b[0mreward\u001b[0m\u001b[1;33m)\u001b[0m\u001b[1;33m\u001b[0m\u001b[1;33m\u001b[0m\u001b[0m\n\u001b[0;32m    178\u001b[0m             \u001b[0mterms\u001b[0m\u001b[1;33m.\u001b[0m\u001b[0mappend\u001b[0m\u001b[1;33m(\u001b[0m\u001b[0mdone\u001b[0m\u001b[1;33m[\u001b[0m\u001b[1;36m0\u001b[0m\u001b[1;33m]\u001b[0m\u001b[1;33m)\u001b[0m\u001b[1;33m\u001b[0m\u001b[1;33m\u001b[0m\u001b[0m\n",
      "\u001b[1;32mC:\\ProgramData\\Anaconda3\\lib\\site-packages\\stable_baselines\\common\\vec_env\\base_vec_env.py\u001b[0m in \u001b[0;36mstep\u001b[1;34m(self, actions)\u001b[0m\n\u001b[0;32m    148\u001b[0m         \"\"\"\n\u001b[0;32m    149\u001b[0m         \u001b[0mself\u001b[0m\u001b[1;33m.\u001b[0m\u001b[0mstep_async\u001b[0m\u001b[1;33m(\u001b[0m\u001b[0mactions\u001b[0m\u001b[1;33m)\u001b[0m\u001b[1;33m\u001b[0m\u001b[1;33m\u001b[0m\u001b[0m\n\u001b[1;32m--> 150\u001b[1;33m         \u001b[1;32mreturn\u001b[0m \u001b[0mself\u001b[0m\u001b[1;33m.\u001b[0m\u001b[0mstep_wait\u001b[0m\u001b[1;33m(\u001b[0m\u001b[1;33m)\u001b[0m\u001b[1;33m\u001b[0m\u001b[1;33m\u001b[0m\u001b[0m\n\u001b[0m\u001b[0;32m    151\u001b[0m \u001b[1;33m\u001b[0m\u001b[0m\n\u001b[0;32m    152\u001b[0m     \u001b[1;32mdef\u001b[0m \u001b[0mget_images\u001b[0m\u001b[1;33m(\u001b[0m\u001b[0mself\u001b[0m\u001b[1;33m)\u001b[0m \u001b[1;33m->\u001b[0m \u001b[0mSequence\u001b[0m\u001b[1;33m[\u001b[0m\u001b[0mnp\u001b[0m\u001b[1;33m.\u001b[0m\u001b[0mndarray\u001b[0m\u001b[1;33m]\u001b[0m\u001b[1;33m:\u001b[0m\u001b[1;33m\u001b[0m\u001b[1;33m\u001b[0m\u001b[0m\n",
      "\u001b[1;32mC:\\ProgramData\\Anaconda3\\lib\\site-packages\\stable_baselines\\common\\vec_env\\dummy_vec_env.py\u001b[0m in \u001b[0;36mstep_wait\u001b[1;34m(self)\u001b[0m\n\u001b[0;32m     42\u001b[0m         \u001b[1;32mfor\u001b[0m \u001b[0menv_idx\u001b[0m \u001b[1;32min\u001b[0m \u001b[0mrange\u001b[0m\u001b[1;33m(\u001b[0m\u001b[0mself\u001b[0m\u001b[1;33m.\u001b[0m\u001b[0mnum_envs\u001b[0m\u001b[1;33m)\u001b[0m\u001b[1;33m:\u001b[0m\u001b[1;33m\u001b[0m\u001b[1;33m\u001b[0m\u001b[0m\n\u001b[0;32m     43\u001b[0m             \u001b[0mobs\u001b[0m\u001b[1;33m,\u001b[0m \u001b[0mself\u001b[0m\u001b[1;33m.\u001b[0m\u001b[0mbuf_rews\u001b[0m\u001b[1;33m[\u001b[0m\u001b[0menv_idx\u001b[0m\u001b[1;33m]\u001b[0m\u001b[1;33m,\u001b[0m \u001b[0mself\u001b[0m\u001b[1;33m.\u001b[0m\u001b[0mbuf_dones\u001b[0m\u001b[1;33m[\u001b[0m\u001b[0menv_idx\u001b[0m\u001b[1;33m]\u001b[0m\u001b[1;33m,\u001b[0m \u001b[0mself\u001b[0m\u001b[1;33m.\u001b[0m\u001b[0mbuf_infos\u001b[0m\u001b[1;33m[\u001b[0m\u001b[0menv_idx\u001b[0m\u001b[1;33m]\u001b[0m \u001b[1;33m=\u001b[0m\u001b[0;31m\\\u001b[0m\u001b[1;33m\u001b[0m\u001b[1;33m\u001b[0m\u001b[0m\n\u001b[1;32m---> 44\u001b[1;33m                 \u001b[0mself\u001b[0m\u001b[1;33m.\u001b[0m\u001b[0menvs\u001b[0m\u001b[1;33m[\u001b[0m\u001b[0menv_idx\u001b[0m\u001b[1;33m]\u001b[0m\u001b[1;33m.\u001b[0m\u001b[0mstep\u001b[0m\u001b[1;33m(\u001b[0m\u001b[0mself\u001b[0m\u001b[1;33m.\u001b[0m\u001b[0mactions\u001b[0m\u001b[1;33m[\u001b[0m\u001b[0menv_idx\u001b[0m\u001b[1;33m]\u001b[0m\u001b[1;33m)\u001b[0m\u001b[1;33m\u001b[0m\u001b[1;33m\u001b[0m\u001b[0m\n\u001b[0m\u001b[0;32m     45\u001b[0m             \u001b[1;32mif\u001b[0m \u001b[0mself\u001b[0m\u001b[1;33m.\u001b[0m\u001b[0mbuf_dones\u001b[0m\u001b[1;33m[\u001b[0m\u001b[0menv_idx\u001b[0m\u001b[1;33m]\u001b[0m\u001b[1;33m:\u001b[0m\u001b[1;33m\u001b[0m\u001b[1;33m\u001b[0m\u001b[0m\n\u001b[0;32m     46\u001b[0m                 \u001b[1;31m# save final observation where user can get it, then reset\u001b[0m\u001b[1;33m\u001b[0m\u001b[1;33m\u001b[0m\u001b[1;33m\u001b[0m\u001b[0m\n",
      "\u001b[1;32mc:\\users\\rslee\\documents\\github\\vectorrpe\\gym_vr\\gym_vr\\envs\\vr_env.py\u001b[0m in \u001b[0;36mstep\u001b[1;34m(self, action)\u001b[0m\n\u001b[0;32m     64\u001b[0m \u001b[1;33m\u001b[0m\u001b[0m\n\u001b[0;32m     65\u001b[0m     \u001b[0mmovement\u001b[0m \u001b[1;33m=\u001b[0m \u001b[0mmatlab\u001b[0m\u001b[1;33m.\u001b[0m\u001b[0mdouble\u001b[0m\u001b[1;33m(\u001b[0m\u001b[0mmovement_py\u001b[0m\u001b[1;33m)\u001b[0m\u001b[1;33m\u001b[0m\u001b[1;33m\u001b[0m\u001b[0m\n\u001b[1;32m---> 66\u001b[1;33m     \u001b[0mvr_status\u001b[0m\u001b[1;33m,\u001b[0m \u001b[0mself\u001b[0m\u001b[1;33m.\u001b[0m\u001b[0mcurr_y_pos\u001b[0m\u001b[1;33m,\u001b[0m \u001b[0mself\u001b[0m\u001b[1;33m.\u001b[0m\u001b[0mtow_pos\u001b[0m \u001b[1;33m=\u001b[0m \u001b[0mself\u001b[0m\u001b[1;33m.\u001b[0m\u001b[0meng\u001b[0m\u001b[1;33m.\u001b[0m\u001b[0mvirmenEngine_step\u001b[0m\u001b[1;33m(\u001b[0m\u001b[0mmovement\u001b[0m\u001b[1;33m,\u001b[0m \u001b[0mnargout\u001b[0m\u001b[1;33m=\u001b[0m\u001b[1;36m3\u001b[0m\u001b[1;33m)\u001b[0m\u001b[1;33m\u001b[0m\u001b[1;33m\u001b[0m\u001b[0m\n\u001b[0m\u001b[0;32m     67\u001b[0m     \u001b[0mreward\u001b[0m \u001b[1;33m=\u001b[0m  \u001b[0mnp\u001b[0m\u001b[1;33m.\u001b[0m\u001b[0mmax\u001b[0m\u001b[1;33m(\u001b[0m\u001b[1;33m(\u001b[0m\u001b[1;36m0\u001b[0m\u001b[1;33m,\u001b[0m \u001b[0mvr_status\u001b[0m  \u001b[1;33m-\u001b[0m \u001b[1;36m1\u001b[0m\u001b[1;33m)\u001b[0m\u001b[1;33m)\u001b[0m \u001b[1;31m# vr status = 0:in_trial, -1:end_trial, 1,2: reward outcome\u001b[0m\u001b[1;33m\u001b[0m\u001b[1;33m\u001b[0m\u001b[0m\n\u001b[0;32m     68\u001b[0m     \u001b[1;32mif\u001b[0m \u001b[0mself\u001b[0m\u001b[1;33m.\u001b[0m\u001b[0mtow_pos\u001b[0m \u001b[1;33m==\u001b[0m \u001b[1;33m-\u001b[0m\u001b[1;36m1\u001b[0m\u001b[1;33m:\u001b[0m \u001b[1;31m# intertrial\u001b[0m\u001b[1;33m\u001b[0m\u001b[1;33m\u001b[0m\u001b[0m\n",
      "\u001b[1;31mTypeError\u001b[0m: cannot unpack non-iterable NoneType object"
     ]
    }
   ],
   "source": [
    "\n",
    "[actions, rewards, obses0, feats, terms, vs, tow_counts, episode_lengths, ypos] = evaluate_policy.get_model_data(model, env, \n",
    "                                                                            n_eval_episodes = 50 , by_ep = True, obses_ep_saved = 50)"
   ]
  },
  {
   "cell_type": "code",
   "execution_count": 6,
   "metadata": {},
   "outputs": [],
   "source": [
    "pickle.dump([actions, rewards, feats,  terms, vs, tow_counts, episode_lengths] , open(load_path + '1000t_p1.p', 'wb'))"
   ]
  },
  {
   "cell_type": "code",
   "execution_count": 7,
   "metadata": {},
   "outputs": [],
   "source": [
<<<<<<< Updated upstream
    "pickle.dump([obses0], open(load_path + '1000t_obses.p', 'wb'))"
=======
    "pickle.dump([actions, rewards, feats,  terms, vs, tow_counts, episode_lengths] , open(load_path + '5000t_mosttrain_nova_db_p1.p', 'wb'))"
>>>>>>> Stashed changes
   ]
  },
  {
   "cell_type": "code",
   "execution_count": 7,
   "metadata": {},
   "outputs": [],
   "source": [
    "filename = '5000t_'"
   ]
  },
  {
   "cell_type": "code",
   "execution_count": 5,
   "metadata": {},
   "outputs": [],
   "source": [
    "\n",
    "[actions, rewards, obses0, feats, featsPI, featsV, terms, vs, tow_counts, episode_lengths] = evaluate_policy.get_a2c_model_data(model, env, \n",
    "                                                                            n_eval_episodes = 10 , by_ep = True, obses_ep_saved = 1)"
   ]
  },
  {
   "cell_type": "code",
   "execution_count": 6,
   "metadata": {},
   "outputs": [],
   "source": [
    "pickle.dump([actions, rewards, obses0, feats, featsPI, featsV, terms, vs, tow_counts, episode_lengths] , open(load_path + 'test.p', 'wb'))"
   ]
  },
  {
   "cell_type": "code",
   "execution_count": 5,
   "metadata": {},
   "outputs": [],
   "source": [
    "\n",
    "[actions, rewards, obses0, feats, featsPI, featsV, terms, vs, tow_counts, episode_lengths] = evaluate_policy.get_a2c_model_data(model, env, \n",
    "                                                                            n_eval_episodes = 1000 , by_ep = True, obses_ep_saved = 1000)"
   ]
  },
  {
   "cell_type": "code",
   "execution_count": 8,
   "metadata": {},
   "outputs": [],
   "source": [
    "pickle.dump([actions, rewards, feats, featsPI, featsV, terms, vs, tow_counts, episode_lengths] , open(load_path + filename +'p1.p', 'wb'))"
   ]
  },
  {
   "cell_type": "code",
   "execution_count": 9,
   "metadata": {},
   "outputs": [],
   "source": [
    "pickle.dump([obses0], open(load_path + '1000t_obses_nova.p', 'wb'))"
   ]
  },
  {
   "cell_type": "code",
   "execution_count": 10,
   "metadata": {},
   "outputs": [],
   "source": [
    "\n",
    "[actions, rewards, obses0, feats, featsPI, featsV, terms, vs, tow_counts, episode_lengths] = evaluate_policy.get_a2c_model_data(model, env, \n",
    "                                                                            n_eval_episodes = 1000 , by_ep = True, obses_ep_saved = 10)"
   ]
  },
  {
   "cell_type": "code",
   "execution_count": 11,
   "metadata": {},
   "outputs": [],
   "source": [
    "pickle.dump([actions, rewards, feats, featsPI, featsV, terms, vs, tow_counts, episode_lengths] , open(load_path + filename +'p2.p', 'wb'))"
   ]
  },
  {
   "cell_type": "code",
   "execution_count": 12,
   "metadata": {},
   "outputs": [],
   "source": [
    "\n",
    "[actions, rewards, obses0, feats, featsPI, featsV, terms, vs, tow_counts, episode_lengths] = evaluate_policy.get_a2c_model_data(model, env, \n",
    "                                                                            n_eval_episodes = 1000 , by_ep = True, obses_ep_saved = 10)"
   ]
  },
  {
   "cell_type": "code",
   "execution_count": 13,
   "metadata": {},
   "outputs": [],
   "source": [
    "pickle.dump([actions, rewards, feats, featsPI, featsV, terms, vs, tow_counts, episode_lengths] , open(load_path + filename +'p3.p', 'wb'))"
   ]
  },
  {
   "cell_type": "code",
   "execution_count": 14,
   "metadata": {},
   "outputs": [],
   "source": [
    "\n",
    "[actions, rewards, obses, feats, terms, vs, tow_counts, episode_lengths, ypos] = evaluate_policy.get_model_data(model, env, \n",
    "                                                                            n_eval_episodes = 1000 , by_ep = True, obses_ep_saved = 10)"
   ]
  },
  {
   "cell_type": "code",
   "execution_count": 15,
   "metadata": {},
   "outputs": [],
   "source": [
    "pickle.dump([actions, rewards, feats, featsPI, featsV, terms, vs, tow_counts, episode_lengths] , open(load_path + filename +'_p4.p', 'wb'))"
   ]
  },
  {
   "cell_type": "code",
   "execution_count": 16,
   "metadata": {},
   "outputs": [],
   "source": [
    "\n",
    "[actions, rewards, obses0, feats, featsPI, featsV, terms, vs, tow_counts, episode_lengths] = evaluate_policy.get_a2c_model_data(model, env, \n",
    "                                                                            n_eval_episodes = 1000 , by_ep = True, obses_ep_saved = 10)"
   ]
  },
  {
   "cell_type": "code",
   "execution_count": 17,
   "metadata": {},
   "outputs": [],
   "source": [
    "pickle.dump([actions, rewards, feats, featsPI, featsV, terms, vs, tow_counts, episode_lengths]  , open(load_path + filename + 'p5.p', 'wb'))"
   ]
  },
  {
   "cell_type": "code",
   "execution_count": null,
   "metadata": {},
   "outputs": [],
   "source": [
    "# 3 hr 33 min # WHY %%time. WTF! it's 4 hours and 30 min for 2500 "
   ]
  },
  {
   "cell_type": "code",
   "execution_count": null,
   "metadata": {},
   "outputs": [],
   "source": [
    "[actions, rewards, obses, feats, terms, vs, tow_counts, episode_lengths, ypos] = pickle.load( open(load_path + '5000t_80perf.p', 'rb'))"
   ]
  },
  {
   "cell_type": "code",
   "execution_count": null,
   "metadata": {},
   "outputs": [],
   "source": []
  },
  {
   "cell_type": "code",
   "execution_count": null,
   "metadata": {},
   "outputs": [],
   "source": [
    "plt.imshow(obses0[501][120,:,:])"
   ]
  },
  {
   "cell_type": "code",
   "execution_count": null,
   "metadata": {},
   "outputs": [],
   "source": [
    "ep_rew = np.array([np.sum(t) for t in rewards])\n",
    "ep_tow = np.array([np.max(t, 0) for t in tow_counts])"
   ]
  },
  {
   "cell_type": "code",
   "execution_count": null,
   "metadata": {},
   "outputs": [],
   "source": [
    "episode_lengths"
   ]
  },
  {
   "cell_type": "code",
   "execution_count": null,
   "metadata": {},
   "outputs": [],
   "source": [
    "env.close()"
   ]
  },
  {
   "cell_type": "code",
   "execution_count": null,
   "metadata": {},
   "outputs": [],
   "source": [
    "print(f\"mean_reward:{np.mean(ep_rew):.2f} +/- {np.std(ep_rew):.2f}\")"
   ]
  },
  {
   "cell_type": "code",
   "execution_count": null,
   "metadata": {},
   "outputs": [],
   "source": [
    "equal_towers = np.where(ep_tow[:,0] == ep_tow[:, 1])\n",
    "not_equal = np.where(ep_tow[:,0] - ep_tow[:,1])\n",
    "not_equal_wrong = np.where((ep_tow[:,0] - ep_tow[:,1]) * (1 - ep_rew)) \n",
    "no_diff = np.where(np.abs(ep_tow[:,0] - ep_tow[:,1]) == 0)\n",
    "\n",
    "small_diff = np.where(np.abs(ep_tow[:,0] - ep_tow[:,1]) == 1)\n",
    "med_diff = np.where(np.abs(ep_tow[:,0] - ep_tow[:,1]) == 2)\n",
    "\n",
    "big_diff = np.where(np.abs(ep_tow[:,0] - ep_tow[:,1]) > 2)"
   ]
  },
  {
   "cell_type": "code",
   "execution_count": null,
   "metadata": {},
   "outputs": [],
   "source": [
    "diffs = np.arange(0,10)\n",
    "perf = []\n",
    "num_trials = []\n",
    "for diff in diffs:\n",
    "    idx = np.where(np.abs(ep_tow[:,0] - ep_tow[:,1]) == diff)\n",
    "    if len(idx[0]) == 0:\n",
    "        break;\n",
    "    else:\n",
    "        perf.append(np.mean(ep_rew[idx]))\n",
    "        num_trials.append(len(idx[0]))"
   ]
  },
  {
   "cell_type": "code",
   "execution_count": null,
   "metadata": {},
   "outputs": [],
   "source": [
    "perf"
   ]
  },
  {
   "cell_type": "code",
   "execution_count": null,
   "metadata": {},
   "outputs": [],
   "source": [
    "plt.bar(np.arange(len(perf)), perf)\n",
    "plt.xlabel(\"Difference in tower\")\n",
    "plt.ylabel(\"performance\")"
   ]
  },
  {
   "cell_type": "markdown",
   "metadata": {},
   "source": [
    "# Reward Check"
   ]
  },
  {
   "cell_type": "code",
   "execution_count": null,
   "metadata": {},
   "outputs": [],
   "source": [
    "load_path =  './logs/cnnlstm_rewinput_cont/'\n",
    "params = evaluate_policy.get_params_from_zip(load_path + 'checkpoints/rl_model_24000000_steps')\n",
    "# to change; edit vr_env to have 5 actions and the right set up. git checkout for tankmousevr the older version"
   ]
  },
  {
   "cell_type": "code",
   "execution_count": 85,
   "metadata": {},
   "outputs": [
    {
     "name": "stderr",
     "output_type": "stream",
     "text": [
      "C:\\ProgramData\\Anaconda3\\lib\\site-packages\\ipykernel_launcher.py:2: FutureWarning: arrays to stack must be passed as a \"sequence\" type such as list or tuple. Support for non-sequence iterables such as generators is deprecated as of NumPy 1.16 and will raise an error in the future.\n",
      "  \n"
     ]
    }
   ],
   "source": [
    "value_last_steps = np.vstack([t[-20:] for t in vs])\n",
    "reward_last_steps = np.vstack(t[-20:] for t in rewards)"
   ]
  },
  {
   "cell_type": "code",
   "execution_count": 86,
   "metadata": {},
   "outputs": [
    {
     "data": {
      "text/plain": [
       "<matplotlib.axes._subplots.AxesSubplot at 0x263ad87f7f0>"
      ]
     },
     "execution_count": 86,
     "metadata": {},
     "output_type": "execute_result"
    },
    {
     "data": {
      "image/png": "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\n",
      "text/plain": [
       "<Figure size 432x288 with 2 Axes>"
      ]
     },
     "metadata": {
      "needs_background": "light"
     },
     "output_type": "display_data"
    }
   ],
   "source": [
    "sns.heatmap(reward_last_steps)"
   ]
  },
  {
   "cell_type": "code",
   "execution_count": 87,
   "metadata": {},
   "outputs": [
    {
     "data": {
      "text/plain": [
       "<matplotlib.axes._subplots.AxesSubplot at 0x263ad457358>"
      ]
     },
     "execution_count": 87,
     "metadata": {},
     "output_type": "execute_result"
    },
    {
     "data": {
      "image/png": "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\n",
      "text/plain": [
       "<Figure size 432x288 with 2 Axes>"
      ]
     },
     "metadata": {
      "needs_background": "light"
     },
     "output_type": "display_data"
    }
   ],
   "source": [
    "sns.heatmap(value_last_steps)"
   ]
  },
  {
   "cell_type": "code",
   "execution_count": null,
   "metadata": {},
   "outputs": [],
   "source": [
    "obses"
   ]
  },
  {
   "cell_type": "code",
   "execution_count": 14,
   "metadata": {},
   "outputs": [
    {
     "data": {
      "text/plain": [
       "Text(0.5, 0, 'Time from Reward')"
      ]
     },
     "execution_count": 14,
     "metadata": {},
     "output_type": "execute_result"
    },
    {
     "data": {
      "image/png": "iVBORw0KGgoAAAANSUhEUgAAAlYAAAGDCAYAAADpvl4eAAAABHNCSVQICAgIfAhkiAAAAAlwSFlzAAALEgAACxIB0t1+/AAAADl0RVh0U29mdHdhcmUAbWF0cGxvdGxpYiB2ZXJzaW9uIDMuMC4zLCBodHRwOi8vbWF0cGxvdGxpYi5vcmcvnQurowAAIABJREFUeJzs3Xt8nHWd9//XZyaTmZwmbdKk6aTn0gIFSgsVZSkFEQQFqey6Ch64/XlAXBB0lfsGbznIT3dXxT2A7CqusOtpEV11u25ZUUABjwRhOVWgQOkxaZqkmRwnmZnv/cd1JZmkSTNJJpk0834+HvOY67rmmplvpqd3P9/v9RlzziEiIiIiUxfI9wBERERE5goFKxEREZEcUbASERERyREFKxEREZEcUbASERERyREFKxEREZEcUbASkayZ2XIzc2ZWlO+xHA3MrNPMVuZ7HCIycxSsRAqImf3UzG4d5fgWM2ucrYHJzN5vZo+Nc84vzKzXDzMHzeyHZrZoGsf0af+9Ov33TWXsPwfgnCt3zr0yXWMQkdlHwUqksPwL8D4zsxHH3wd8xzmXnPkh5dTVzrly4BigHLhtut7IOfdXfnAqB64EfjOw75w7YbreV0RmNwUrkcLyY6AKOHPggJnNBy4CvunvX2hmT5pZ3Mx2m9ktY72Yme00s3Mz9m8xs29n7L/BzH5tZofM7H/M7OwjvNb1ZvaymXWY2fNmdol//Hjgq8DpfjXo0Hg/pHPukP+zrs94/UDGe7SY2X1mVuU/9q9m9kl/u96f7vwLf/8YM2sdJYyOy3+dY/ztfzGzfzSz+/2f41dmVmdmf29mbWb2RzPbkPHcmJn9u5k1m9mrZnbNRN9fRGaegpVIAXHO9QD3AZdnHH4n8Efn3P/4+13+4/OAC4GPmtnbJ/peZlYP/BfwObww9yng382sZoynvIwX+CqBzwLfNrNFzrntDK8IzcvivauBPwV2ZBy+Bng7cBYQA9qAO/3Hfgmc7W+fBbzi3wNsBh51ufn+r3cCnwEWAAngN8Af/P0fAH/rjz8A/CfwP0A98Cbg42Z2fg7GICLTSMFKpPD8K/DnZlbi71/uHwPAOfcL59wzzrm0c+5p4N8YChkT8V5gm3Num/9aPwMagLeOdrJz7vvOuX3+ud8DXgJOm+B73m5m7cBBvLDysYzHPgL8X+fcHudcArgFeIe/ruyXwJl+oNkMfBE4w3/eWf7jufAj59wTzrle4EdAr3Pum865FPA9YKBi9Tqgxjl3q3Ouz1+n9XXg0hyNQ0SmiYKVSIFxzj0GNANb/CvWXgd8d+BxM3u9mT3sT0G141WLFkzirZbhBbhDAzdgEzDqgnIzu9zMnso498RJvO81zrlKYB0wH1g8Yjw/ynj97UAKWOicexnoxJs6PBP4CbDPzI4lt8GqKWO7Z5T98oyxxkZ8dp8GFuZoHCIyTWblFUAiMu2+iVepOhZ4wDmX+Q/8d4GvAG9xzvWa2d8zdsDpAkoz9usytncD33LOfXi8wZjZMryKzJvwpvxSZvYUMLCuaULTcM65Z8zsc8CdZnaKP423G/iAc+5XYzztl8A7gGLn3F4z+yXeZzQfeGoi758Du4FXnXOrZ/h9RWSKVLESKUzfBM4FPkzGNKCvAmj1Q9VpwLuP8DpPAZeaWcjMNuIFkwHfBt5mZuebWdDMImZ2tpktHuV1yvDCUzOAmf1/eBWrAU3AYjMrnsDP+K9ALXCxv/9V4PN+iMPMasxsS8b5vwSuBh7x93+BN5X4mD9VN5N+D8TN7P+YWYn/+Z1oZq+b4XGIyAQpWIkUIOfcTuDXeIFm64iH/wK41cw6gJvwFruP5UZgFd5C8M+SMaXonNsNbMGbwmrGq8Jcxyh/7zjnnge+jLeYuwk4CcisLD0EPAc0mtnBLH/GPuB2f4wA/4D3sz7g/2y/BV6f8ZRf4oXKgWD1GF417hFmmB/k3oY3Nfkq3pqxf8Zb2C8is5jl5kIXEREREVHFSkRERCRHFKxEREREckTBSkRERCRHFKxEREREckTBSkRERCRH8tYgdMGCBW758uX5ensRERGRrD3xxBMHnXNjfdfpoLwFq+XLl9PQ0JCvtxcRERHJmpm9ls15mgoUERERyREFKxEREZEcUbASERERyZG8rbESERERT39/P3v27KG3tzffQyl4kUiExYsXEwqFJvV8BSsREZE827NnDxUVFSxfvhwzy/dwCpZzjpaWFvbs2cOKFSsm9RqaChQREcmz3t5eqqurFaryzMyorq6eUuUwq2BlZheY2QtmtsPMrh/l8b8zs6f824tmdmjSIxIRESlAClWzw1R/HcYNVmYWBO4E3gKsBS4zs7WZ5zjnPuGcW++cWw/cAfxwSqMSERGRGRUMBlm/fj0nnngib3vb2zh0KD81kp07d3LiiSdO6Dnvf//7+cEPfjBNI5qYbCpWpwE7nHOvOOf6gHuBLUc4/zLg33IxOBEREZkZJSUlPPXUUzz77LNUVVVx5513zsj7plKpGXmfmZJNsKoHdmfs7/GPHcbMlgErgIemPjQRERHJh9NPP529e/cO7n/pS1/ida97HevWrePmm28G4Itf/CK33347AJ/4xCc455xzAHjwwQd573vfC8BHP/pRNm7cyAknnDD4PPC+feXWW29l06ZNfP/73+eJJ57g5JNP5vTTTx8W6FKpFNddd93ge3/ta18DvEXmV199NWvXruXCCy/kwIED0/uBTEA2VwWONtnoxjj3UuAHzrlR46eZXQFcAbB06dKsBigiIlJIPvufz/H8vnhOX3NtLMrNbzshq3NTqRQPPvggH/zgBwF44IEHeOmll/j973+Pc46LL76YRx55hM2bN/PlL3+Za665hoaGBhKJBP39/Tz22GOceeaZAHz+85+nqqqKVCrFm970Jp5++mnWrVsHeG0NHnvsMQDWrVvHHXfcwVlnncV11103OJZvfOMbVFZW8vjjj5NIJDjjjDN485vfzJNPPskLL7zAM888Q1NTE2vXruUDH/hALj+yScsmWO0BlmTsLwb2jXHupcBVY72Qc+4u4C6AjRs3jhXOROQInHP09KeI9yRp7+kn3ttPVyKJmWFAwIyAeQswj3QfMMNG3A89PvRaZhAI+I/hPzfgnRM0wwIQ9J8TCDB4PBDQQlyRo0lPTw/r169n586dnHrqqZx33nmAF6weeOABNmzYAEBnZycvvfQSl19+OU888QQdHR2Ew2FOOeUUGhoaePTRRwcrWffddx933XUXyWSS/fv38/zzzw8Gq3e9610AtLe3c+jQIc466ywA3ve+93H//fcPvvfTTz89uH6qvb2dl156iUceeYTLLruMYDBILBYbrJbNBtkEq8eB1Wa2AtiLF57ePfIkMzsWmA/8JqcjFJmDkqk08d4k8Z7+wXDU3tM/LCx5+wOPe+fG/cf6U0fH/0sCBsGAYQNhKzOUBYYC3sC++ecHzCgOBvjEeau54MRF+f4xRGZUtpWlXBtYY9Xe3s5FF13EnXfeyTXXXINzjhtuuIGPfOQjhz1n+fLl3HPPPfzJn/wJ69at4+GHH+bll1/m+OOP59VXX+W2227j8ccfZ/78+bz//e8f1sagrKwM8P6zONaVeM457rjjDs4///xhx7dt2zZrr6IcN1g555JmdjXwUyAI3O2ce87MbgUanHNb/VMvA+51zh0df+OL5Fh3X5I9bT3sbu1mV2s3e9t6aOseCk7xjKDU1XfkxZqhoFFZEiIaCVFREqKyJMSS+SXeMX8/GvHvS4ooLR74o+xIO0invXvnHA5IO/+4c94xx7B979yB89zg9sj7zOek0kP7aedIpf3ttCPlMsfh7TuH/xw3OL7UyNcaPB/+uD/Otfc+xQ+uLOWkxZXT/usnIp7Kykpuv/12tmzZwkc/+lHOP/98brzxRt7znvdQXl7O3r17CYVC1NbWsnnzZm677TbuvvtuTjrpJP7yL/+SU089FTMjHo9TVlZGZWUlTU1N3H///Zx99tmHvd+8efOorKzkscceY9OmTXznO98ZfOz888/nn/7pnzjnnHMIhUK8+OKL1NfXs3nzZr72ta9x+eWXc+DAAR5++GHe/e7Daj55kVXndefcNmDbiGM3jdi/JXfDEpl9kqk0+9t72d3aze42Lzztbu1hd1s3u1u7OdjZN+z8SChAdVmYaEmIaKSIpVWlI0JR0dD+iLAUCQVm7f/GZkpLZ4KLv/IrrvhWA1uv3kRNRTjfQxIpGBs2bODkk0/m3nvv5X3vex/bt2/n9NNPB6C8vJxvf/vb1NbWcuaZZ/L5z3+e008/nbKyMiKRyOD6qpNPPpkNGzZwwgknsHLlSs4444wx3++ee+7hAx/4AKWlpcOqUx/60IfYuXMnp5xyCs45ampq+PGPf8wll1zCQw89xEknncSaNWsGpxFnA8tXgWnjxo2uoaEhL+8tMhrnHC1dfX5g6mZPWw+7WrwQtbutm32Hekmlh/68BANGbF6EpVWlLJlfypIq/za/hCVVpVSXFRd8OJqqZ/e2846v/pqT6iv5zofeQHGRvixC5qbt27dz/PHH53sY4hvt18PMnnDObRzvufquQCkoXYmkX2HqyQhQQ9Wnnv7hU3QLysMsqSrhlKXz2XJyKUuqSgZD1KLKCEVB/UM/nU6sr+QLf7aOa+99is/+53N8/pKT8j0kEZEjUrCSOcU5R3Nngl0t3bzW0s1rfnh6raWLXaNM15WHi1g8v4Rl1WWcubpmsNq0pKqUxfNLMtYuSb5sWV/P9v0dfPWXL3NCrJJ3v16tWkRk9tK/GnLU6UumB6tMu1q9ALWrtZtd/n1m1ckMYpUlLK0q5dzjF7K02pu2W+qHp/mlIU3XHQWuO/9Y/tgY5+atz7JmYTkbl1fle0giIqNSsJJZqb2nfzAovdbaNbTd0s3+9h4yljoRCQVYWlXK0qoyNq1ewLJqLzQtqypl8fxSrcuZA4IB4x8u3cDb7/wVV377D2y9+gxi80ryPSwRkcMoWEnedCaSvHygkx0HOnnlYCevtfjTdq3dHOruH3bugvJillSV8rrl81lavZilVaUsq/bCU01FWFWnAlBZEuLrl5/K2+/8NR/51hN8/8rTiYSC+R6WiMgwClYy7Vo6E+w40MmO5k5eaurk5WYvTO1vH2oUFwwY9fNKWFZdyoUnLWJZdelgFWppdSnlYf1WFTimtoK/e9d6PvzNBm744TP87TtPVqgWkVlF/1pJTjjn2Nfe6wWoA53sONAxuN2WUX0qLQ6yqqacN6ys5pjaclbVlHNMbTnLqksJ6Qo7ycJ5axfyyfPW8OWfvcgJsSgfOnNlvockMifs3LmTiy66iGeffXbw2C233EJ5eTmf+tSnRn3OL37xC7Zs2cLKlSvp6enhoosu4rbbbpupIQ/zL//yLzQ0NPCVr3wl6+csX76choYGFixYkLNxKFjJhCRTaV5r7c4IUN7t5eZOujO6ic8vDXFMbTkXnFg3GJ5WL6xgUTSi75CTKbv6nGN4fn+cv9q2nWPrKjhzdU2+hyRSsM4880x+8pOf0NPTw4YNG7jkkkuO2Aw0F5z/rQ2BwOz7D7mClYyqM5HktZYuLzRlTOPtbOka9j11iyojHFNbzjs3LuGYWj9A1ZZTXa4u2TJ9zIzb/vxkXj3YxdXffZKtV5/BsuqyfA9LZM46++yzef3rX8/DDz/MoUOH+MY3vjHYYX1ASUkJ69evZ+/evQB0dXXxsY99jGeeeYZkMsktt9zCli1beOtb38rf/M3fsG7dusEgdtNNN3HjjTeybNkyLr30UrZs2UJbWxv9/f187nOfY8uWLezcuZO3vOUtvPGNb+Q3v/kNP/7xj3nooYf467/+axYtWsSaNWsIh71/e5qbm7nyyivZtWsXAH//93/PGWecQUtLC5dddhnNzc2cdtppTEeTdAWrApVOO5o6er1+T4O9noZaGLR2DfV7Chgsqy5jVU05bzp+4WCAWlVTRkUklMefQgpZWbiIu963kYvvfIwPf7OBH/7FGVqLJ3PD/ddD4zO5fc26k+AtfzOll0gmk/z+979n27ZtfPazn+XnP//5sMfb2tp46aWX2Lx5MwCf//znOeecc7j77rs5dOgQp512Gueeey6bN2/m0UcfZfny5RQVFfGrX/0KgMcee4z3vve9RCIRfvSjHxGNRjl48CBveMMbuPjiiwF44YUXuOeee/jHf/xH9u/fz80338wTTzxBZWUlb3zjG9mwYQMA1157LZ/4xCfYtGkTu3bt4vzzz2f79u189rOfZdOmTdx0003813/9F3fdddeUPpPR6G+hOay3PzXY32kgPO3ym2XubuuhL5kePDdgUD/f6/d0/gkLvUXjVaWsqi1jeXWZrr6SWWlpdSlfuewULr/7d3zyvqf4p/ecqqlmkUka60KQgeN/+qd/CsCpp57Kzp07Bx9/9NFHWbduHS+88ALXX389dXV1ADzwwANs3bp1cM1Vb28vu3bt4swzz+T2229nxYoVXHjhhfzsZz+ju7ubnTt3cuyxx9Lf38+nP/1pHnnkEQKBAHv37qWpqQmAZcuW8YY3vAGA3/3ud5x99tnU1HhLAd71rnfx4osvAvDzn/+c559/fnCM8Xicjo4OHnnkEX74wx8CcOGFFzJ//vycfHaZFKyOYs45Dnb2sau1yw9QPbzW2jVYfTrQkRh2fllxkKXVZayureBNxy/0r7rz2hbE5pVo8bgclTatXsCn33o8n/uv7dzx0A6uPXd1vockMjVTrCxNVnV1NW1tbcOOtba2smLFCoDBabZgMEgymRw8Z2CN1YsvvsimTZu45JJLWL9+Pc45/v3f/51jjz122Gv29fXR0NDAypUrOe+88zh48CBf//rXOfXUUwH4zne+Q3NzM0888QShUIjly5fT2+tdRV5WNnzKf6wwmE6n+c1vfkNJyeH97qb7SmIFq1ksmUrT1JGgsb2H/e29NLb3su9Qr/9dd171KXPBOEBdNMLS6lI2r6lhWVUpSwfbFpRSpS8Fljnqg5tW8Pz+OH/38xc5flEFbz6hLt9DEjnqlJeXs2jRIh588EHe9KY30drayn//939z7bXXcs8994z7/DVr1nDDDTfwhS98gX/7t3/j/PPP54477uCOO+7AzHjyySfZsGEDxcXFLFmyhPvuu48bb7yR5uZmPvWpTw1eedje3k5tbS2hUIiHH36Y1157bdT3e/3rX8+1115LS0sL0WiU73//+5x88skAvPnNb+YrX/kK1113HQBPPfUU69evZ/PmzXznO9/hM5/5DPfff/9hQTIXFKzypD+Vpinuh6X23uHhyd9v7kgM6zAOUBIK+t9tV8rpq6oHK05L/S7jmrKTQmRm/NUlJ/HygU4+8b2n+PFVZ7B6YUW+hyVy1PnmN7/JVVddxSc/+UkAbr75ZlatWpX186+88kpuu+02Xn31VW688UY+/vGPs27dOpxzLF++nJ/85CeAV+V68MEHKS0t5cwzz2TPnj2Di+Hf85738La3vY2NGzeyfv16jjvuuFHfa9GiRdxyyy2cfvrpLFq0iFNOOYVUyis23H777Vx11VWsW7eOZDLJ5s2b+epXv8rNN9/MZZddximnnMJZZ53F0qW5/+5Rm44V8dnYuHGja2hoyMt7T7e+pBea9rf3sr+9h8b2w7ebOxOM/OhLi4MsqoywqLLEv49QV1nConne9qJoCdGSIlWdRMawv72Ht93xK8rDQf7jqk1UluriCjk6bN++neOPPz7fwxDfaL8eZvaEc27jeM9VxWoCUmlHS2eCAx0JDnT00tyR4EDc22+K99IY96bqDnYmDntuRbiIusoIdZURjq2rGAxPdQNBal6EirBCk8hULKos4WvvO4VL7/otH7v3Se55/+sIajG7iMwgBSu8q+eaM8PSYGDqHdxu7kzQ0nn41Bx432G2MBpmUWUJaxdFqauMEKss8UOTF57UlkBkZpy6rIpbt5zIDT98hi/+9x+54a2qAojIzJmzwco5R7w3SbMfjprHCEsH4r3Ee5OHPT9gsKA8TG00TF1lhJPqK6mNhqmtCFNTERncXlAe1romkVnmstOW8ty+dr72yCusjUXZsr4+30MSkQIxZ4PVtmcaueq7fzjseHFRgNoKLxQdU1POn6yq9vcj1ETD1PhhqrosrCkEkaPYTRedwItNnfzvHzzNqppyTqyvzPeQRI7IOaflILPAVNeez9lgdWJ9lE+/9ThqKyJecIp6laZoROuYRApBcVGAf3zPKVx8x2Nc8c0Gtn5sEwv0VUsyS0UiEVpaWqiurta/UXnknKOlpYVIJDLp19BVgSIypz27t513fPXXrKufx7c/9HqKi9QIV2af/v5+9uzZM9gIU/InEomwePFiQqHha6N1VaCICHBifSVf+LN1XHvvU9z6k+f43NtPyveQRA4TCoUGO5zL0U3BSkTmvC3r63l+X5yvPfIKJ8Qquey03DcFFBEBUE1cRArC/77gOM5aU8NN//EsDTtb8z0cEZmjFKxEpCAEA8btl26gfl4JV377D+xv78n3kERkDlKwEpGCUVka4uuXb6SnL8mV33qC3v7U+E8SEZkABSsRKSirF1bwd+9az//saefTP3xmyj1rREQyKViJSMF58wl1fOLcNfzwyb1847FX8z0cEZlDFKxEpCB97JxjOP+EhfzVtu089tLBfA9HROYIBSsRKUiBgPHld65ndW0FV333D7R39+d7SCIyByhYiUjBKg8Xcf1bj6O9p58/NsbzPRwRmQMUrESkoC2eVwJAY1xfJSIiU5dVsDKzC8zsBTPbYWbXj3HOO83seTN7zsy+m9thiohMj4WV3petNilYiUgOjPuVNmYWBO4EzgP2AI+b2Vbn3PMZ56wGbgDOcM61mVntdA1YRCSXKsJFlBYHaWxP5HsoIjIHZFOxOg3Y4Zx7xTnXB9wLbBlxzoeBO51zbQDOuQO5HaaIyPQwM+qiEVWsRCQnsglW9cDujP09/rFMa4A1ZvYrM/utmV0w2guZ2RVm1mBmDc3NzZMbsYhIji2MRvQVNyKSE9kEKxvl2MhWxUXAauBs4DLgn81s3mFPcu4u59xG59zGmpqaiY5VRGRa1FVGaIprKlBEpi6bYLUHWJKxvxjYN8o5/+Gc63fOvQq8gBe0RERmPS9Y9ZJO6+ttRGRqsglWjwOrzWyFmRUDlwJbR5zzY+CNAGa2AG9q8JVcDlREZLrURSMk046Wrr58D0VEjnLjBivnXBK4GvgpsB24zzn3nJndamYX+6f9FGgxs+eBh4HrnHMt0zVoEZFcWhhVywURyY1x2y0AOOe2AdtGHLspY9sBf+nfRESOKnV+L6vG9l5OrK/M82hE5GimzusiUvDq/IqVuq+LyFQpWIlIwVtQXkzANBUoIlOnYCUiBa8oGKCmIkxju4KViEyNgpWICN50oKYCRWSqFKxERPCuDNRUoIhMlYKViAjelYGaChSRqVKwEhHBq1jFe5N09yXzPRQROYopWIlI4Uom4JVfwB++RV1FGEBVKxGZkqwahIqIzAnOQcvLsOPn8PKDsPMx6O8GYNVb/gPwelmtrCnP5yhF5CimYCUic1tvO7z6COx40AtTh3Z5x6tWwob3wryl8MBnWEgLoAXsIjI1ClYiRyPnINEB3Qeh6yD090BFHUTrIVzg1ZZ0GvY/CTse8oLU7t+DS0FxBazYDGdcC6veBFUrvPM7D8ADn6Eq1QwsobE9kdfhi8jRTcFKZDZwzqusdLd4Qan7IHQ1+9sjj7V426m+0V8rUgnRxVBZD9FYxnY9VC72joVKZvbnm27x/fCyH6Refhh6Wr3ji9bDpo97QWrJaRAMHf7c0gUQCBHu2k9FeIUqViIyJQpWItMhnfKDUqsXhgYqSwP3g9stQ8fS/aO/VqgMyhZ4t4oY1K2D0mr/WI0XDEIR6GiE9j0Q3wvxfd723ie8YDZSSZUftsYIYNEYFIWn9zOaimQCXvu1F6R2PAQHnvOOl9XC6jfDMefCqjd6n9F4AgGILoL4Phaq5YKITJGClchIzkFfFyTiXjjq9e8H99uHPzbadl/n2K9fXAFl1V4oqlwMsZO9cJQZlMqqh45NtbrU3+MFrfheaN8L8T3+/T5o3w27fgO9hw5/XllNRpXLD1uVi70xFZdDqBSKy4ZuRREwm9pYx+IctOwYWif16qOQ7IFACJa+Ac69xatKLTzRC0oTFa2H+D51XxeRKVOwkrktnfYqRvG9Q5WcroN+ABorMMW9NTlHEghBJOpNu4Wj3vaCYyBc6R2LRL3jg5WlBV5QKq32qkszKVQC1au821j6uoaqXJkBLL7Pu4ru1Ue8z+ZILOBV14rLoNgPXcP2M8NY+djnFJd55wWLvYrbQFWqfWDR+So45X1ekFq+KTdryqIx2PsHFi6K8PLLB6f+eiJSsBSs5OjlnBeSBgJAZhho94NUx/7R1yKFM0NRpfcPa81xQ6EoMzBFKg8PTKGS6avO5ENxGSxY7d3G0hv3PtPuVq9FQV+nF8j6/O3+bn8/49bf5VXD4vuG9vu6IDmBqtDAovNNIxad51K0Hrb/hLpjiznQkSCVdgQDc+jXV0RmjIKVzE7OeWuD2vcMTWMNVlL2DQWokaEpEPLXC9V7i5WjA4u2M9YRlVZPbrqo0EX8oJkL6VRG+BoIad3Dw1d/N9QcP/ai81yK1kMqwbKSXlJpR0tngtroDFcWRWROULCS/Ojv8ULTode8vkKHdg9fdB3fB6kRl70HirzF25X1UL8Rjo8NXeU2sBaodIFC09EgEMxtUJuqaAyAJUXeWrPGeK+ClYhMioKVTI/+Hi8sHdo1FJ7aB/Z3QWfT8PMtOBSQYhvg+ItGVJvqvSu+FJpkOkTrAaizVsC7MnDd4vwOSUSOTgpWMjmjBafMW9eB4ecHQl5Fad5S73L4ectg3hJvf95SqFjkVTFE8sGvWFWnDgKL1ctKRCZNwUpG19+bEZheywhRWQSnNef7wWlpRnCqU3CS2au8FixIeeIAwcAS9quXlYhMkoJVIevvgbad3uX0ra8Mv7XvAdzQuYHQUIXp2Av8wJQRnsoXKjjJ0SsQhIpFBDr2sbDiT9TLSkQmTcFqruvrgtZXDw9Ora94i8ULs88MAAAgAElEQVQzlVR5X0y79HTvvmolzPfDU3md1jfJ3BaNQXwvCyv1RcwiMnkKVnNBomNEeHp5aL9j//BzSxd4gWnF5qHwVLXCuy+Zn5/xi8wG0Rg0PUfd/AgvNnXkezQicpRSsDpa9ByCtszwlLE98gq78oVeUFp1zlBoqlrlbUcq8zN+kdkuWg8v/YyFS8M8+pK6r4vI5ChYzRbOQecBLygNBqhXh7Z72oafX7HIC0yrz/NDU0b1KVyRn59B5GgWjUF/F0vLknQmvFt5WH9FisjE6G+NmZRKeh3DB6pNba/62696i8j7u4bOtQBULvGC0tq3D4Wm+Su8++KyvP0YInOS33JhWchvEtreyzG1OfgeQhEpKApWuTbQpmBkxan1Ve94Ojl0bjAM85d7QWnlWX5o8gNU5RIoKs7bjyFScPwmoTFrBcI0xRWsRGTiFKwmKp3yFoQPa4j5GrT5YSq+j2FtCsJRLzzVnQRrL/avtPOrThUxXWknMlv4FasF7iBQT6N6WYnIJChYjZROQUfjiG7iGdvte4ZXncBrRTBvKSw/c2ix+ED1qbQKzPLzs4hI9irqAGNefzNQr15WIjIphResBoPTriMEp/7hzxkITvUb4YQ/zegovszrNh7Sl7WKHPWCIShfSKhrP9HIRvWyEpFJmbvBKr4Pdj42NE13xOC00A9Op8AJbx8lOJXk52cQkZkVjUF8H3WVEU0FisikZBWszOwC4B+AIPDPzrm/GfH4+4EvAQOtvL/inPvnHI5z4vY9CT/8sLet4CQi2YjGoGUHC6Pqvi4ikzNusDKzIHAncB6wB3jczLY6554fcer3nHNXT8MYJ2f5mXDV49732yk4iUg2ovXw6iPU1UZ4oVHd10Vk4rKpWJ0G7HDOvQJgZvcCW4CRwWp2iUS9m4hItqIxSMRZVpbkYGeCZCpNUVBX7opI9rL5G6Me2J2xv8c/NtKfmdnTZvYDM1sy2guZ2RVm1mBmDc3NzZMYrojINKpcDMCycJy0g+bORJ4HJCJHm2yC1Wi9AtyI/f8Eljvn1gE/B/51tBdyzt3lnNvonNtYU1MzsZGKiEw3v5fV4oD3FVJawC4iE5VNsNoDZFagFgP7Mk9wzrU45wb+a/d14NTcDE9EZAb5warGtQBoAbuITFg2wepxYLWZrTCzYuBSYGvmCWa2KGP3YmB77oYoIjJDKry/yuanvKUKqliJyESNu3jdOZc0s6uBn+K1W7jbOfecmd0KNDjntgLXmNnFQBJoBd4/jWMWEZkeRWEoq6G0p4lQ0GiMa42ViExMVn2snHPbgG0jjt2UsX0DcENuhyYikgfRGNaxj9oK9bISkYnTdcQiIpmi9eq+LiKTpmAlIpIpGoP4XurUfV1EJkHBSkQkUzQGPW3Ul0NjvBfnRnaXEREZm4KViEimqNf/eGW4ne6+FB2JZJ4HJCJHEwUrEZFMfi+rJUGvSWiT1lmJyAQoWImIZPIrVnXWCsB+BSsRmQAFKxGRTH6T0OrUQcBbZyUiki0FKxGRTMWlUDKf8r4DgKYCRWRiFKxEREaK1lPUuZ/5pSFVrERkQhSsRERG8ntZLVQvKxGZIAUrEZGRorGh7usKViIyAQpWIiIjReuhq5n68gCN7foiZhHJnoKViMhIfi+rVZE4LV0J+lPpPA9IRI4WClYiIiP5wWpp6BDOwYEOVa1EJDsKViIiI/lNQhfhNQltVMsFEcmSgpWIyEh+xWpBugVAVwaKSNYUrERERgpXQLiSyqTXJFQVKxHJloKViMhoojHC3Y0UFwVUsRKRrClYiYiMJhrD4vuoi0b0RcwikjUFKxGR0Qw0CY2qSaiIZE/BSkRkNNF66GxiUbRIU4EikjUFKxGR0URjgOOYSAeN7b045/I9IhE5CihYiYiMxu9ltSx0iEQyTXtPf54HJCJHAwUrEZHR+L2s6oNtAFpnJSJZUbASERmNH6xqndckVL2sRCQbClYiIqOJVEKojHn9zYC6r4tIdhSsRERGYwbRGKWJge7r+iJmERmfgpWIyFiiMYId+6guK9YaKxHJioKViMhYovUQ38fCaERTgSKSFQUrEZGxRGPQsZ9F0ZAWr4tIVhSsRETGEo2BS3FMWY8qViKSFQUrEZGx+E1CVxYfoqWrj0QylecBichsl1WwMrMLzOwFM9thZtcf4bx3mJkzs425G6KISJ74vawWB7wmoQfiujJQRI5s3GBlZkHgTuAtwFrgMjNbO8p5FcA1wO9yPUgRkbzwK1YL8ZuEajpQRMaRTcXqNGCHc+4V51wfcC+wZZTz/n/gi4D+5hGRuaG0CoJhqlJek1AtYBeR8WQTrOqB3Rn7e/xjg8xsA7DEOfeTHI5NRCS//Cah5X6TUC1gF5HxZBOsbJRjbvBBswDwd8Anx30hsyvMrMHMGpqbm7MfpYhIvlQuJtTdSCQUUMVKRMaVTbDaAyzJ2F8M7MvYrwBOBH5hZjuBNwBbR1vA7py7yzm30Tm3saamZvKjFhGZKdEYFt9LXTSiNVYiMq5sgtXjwGozW2FmxcClwNaBB51z7c65Bc655c655cBvgYudcw3TMmIRkZkUjUF8P3UVxZoKFJFxjRusnHNJ4Grgp8B24D7n3HNmdquZXTzdAxQRyatoPaT7Oaa8VxUrERlXUTYnOee2AdtGHLtpjHPPnvqwRERmCb+X1apwnPviEZxzmI229FRERJ3XRUSOzA9WS4Jt9CXTtHX353lAIjKbKViJiByJ3yR0UaAVUC8rETkyBSsRkSMpXQCBENXpg4B6WYnIkSlYiYgcSSAA0UVE+7zee/tVsRKRI1CwEhEZT7SeSE8jZvq+QBE5MgUrEZHxRGMEOvaxoDxMkypWInIEClYiIuOJxiC+j7qKsCpWInJEClYiIuOJ1kOyl5XlfVq8LiJHpGAlIjIev5fV6pJ2VaxE5IgUrERExuP3slpW1M6h7n56+1N5HpCIzFYKViIi4/ErVjG/SaimA0VkLApWIiLjKV8IFqTGtQDqvi4iY1OwEhEZTyAIFXXM6/eahGqdlYiMRcFKRCQb0RilvY2ApgJFZGwKViIi2YjGCHbup6w4SGN7It+jEZFZSsFKRCQb0Xosvo+F0bAqViIyJgUrEZFsROuhv4uVFSn2t/fkezQiMkspWImIZMNvubAmEqcprqlAERmdgpWISDb8JqHLw+00xXtJp12eByQis5GClYhINvyK1eJAG8m0o6WrL88DEpHZSMFKRCQbFXWAUes3CdUCdhEZjYKViEg2giEoX8j8lN8kVN3XRWQUClYiItmKxihPHADUfV1ERqdgJSKSrWiM4u79BExTgSIyOgUrEZFsReux+H5qKsKaChSRUSlYiYhkKxqDRDsrytOaChSRUSlYiYhky+9ltaa0U1OBIjIqBSsRkWz5vaxWhds1FSgio1KwEhHJ1kCT0KI24r1JuvuSeR6QiMw2ClYiItmqWARAnbUC6mUlIodTsBIRyVYoAqULqE4dBNTLSkQOp2AlIjIR0RgVfV6TUC1gF5GRFKxERCYiWk+kpwmAxvZEngcjIrNNVsHKzC4wsxfMbIeZXT/K41ea2TNm9pSZPWZma3M/VBGRWSAaI9ixj4pwkSpWInKYcYOVmQWBO4G3AGuBy0YJTt91zp3knFsPfBH425yPVERkNojGoKeVpVHT4nUROUw2FavTgB3OuVecc33AvcCWzBOcc/GM3TLA5W6IIiKziN8k9LjSTi1eF5HDZBOs6oHdGft7/GPDmNlVZvYyXsXqmtFeyMyuMLMGM2tobm6ezHhFRPKr0vvrb1WkXVOBInKYbIKVjXLssIqUc+5O59wq4P8AnxnthZxzdznnNjrnNtbU1ExspCIis4FfsVoWauNAR4JUWgV6ERmSTbDaAyzJ2F8M7DvC+fcCb5/KoEREZi2/SWjM2kilHS2dujJQRIZkE6weB1ab2QozKwYuBbZmnmBmqzN2LwReyt0QRURmkeJSKJnPgrSahIrI4YrGO8E5lzSzq4GfAkHgbufcc2Z2K9DgnNsKXG1m5wL9QBvwv6Zz0CIieRWtp7LfWyfa2N7LusV5Ho+IzBrjBisA59w2YNuIYzdlbF+b43GJiMxe0Rgl7Y2Auq+LyHDqvC4iMlHRGEVd+ykKGPvVy0pEMihYiYhMVLQe62qmvjygNVYiMoyClYjIREVjABxX0aWpQBEZRsFKRGSi/GC1JhLX19qIyDAKViIiEzXYJPQQTXH1sRKRIQpWIiIT5Ves6oNtdCaSdCaSeR6QiMwWClYiIhMVroBwlFrXAqDpQBEZpGAlIjIZ0Rjzkl6TUC1gF5EBClYiIpMRjVGWOACoYiUiQxSsREQmIxoj3OV1X1cvKxEZoGAlIjIZ0Xqss5HqiGkqUEQGKViJiExGNAY4jq/o0VSgiAxSsBIRmQy/l9Wa0g5VrERkkIKViMhk+L2sVha36YuYRWSQgpWIyGT4wWpxsI2DnQmSqXSeByQis4GClYjIZETmQaiMhbSSdtDcqa+2EREFKxGRyTGDaIyq1EFAvaxExKNgJSIyWdEYFX6TUC1gFxFQsBIRmbxoPeEev0moKlYigoKViMjkRWMEOhsJBx2Nca2xEhEFKxGRyYvGMJfiuPJeTQWKCKBgJSIyeX6T0OPKOjQVKCKAgpWIyOT5vaxWhdtVsRIRQMFKRGTy/IrV0qJDNMZ7cc7leUAikm8KViIik1VaBcEwi6yV7r4UHYlkvkckInmmYCUiMll+k9DqtNcktEnrrEQKnoKViMhUROuJ9nlNQvVlzCKiYCUiMhXRGKW9TQA0agG7SMFTsBIRmYpojGBXI0ZaU4EiomAlIjIl0Xos1ceKkl5VrEREwUpEZEr8XlZryzrUy0pEFKxERKbED1bHlMRVsRKR7IKVmV1gZi+Y2Q4zu36Ux//SzJ43s6fN7EEzW5b7oYqIzEJ+k9DloXYa2/VFzCKFbtxgZWZB4E7gLcBa4DIzWzvitCeBjc65dcAPgC/meqAiIrNSWQ0EiogFWmnpStCfSud7RCKSR9lUrE4DdjjnXnHO9QH3AlsyT3DOPeyc6/Z3fwsszu0wRURmqUAAKmLUpA/iHBzoUNVKpJBlE6zqgd0Z+3v8Y2P5IHD/aA+Y2RVm1mBmDc3NzdmPUkRkNovGmJf0/k5rVMsFkYKWTbCyUY6N+k2jZvZeYCPwpdEed87d5Zzb6JzbWFNTk/0oRURms8p6yvwmoboyUKSwZROs9gBLMvYXA/tGnmRm5wL/F7jYOadauIgUjmiMUHcj4FSxEilw2QSrx4HVZrbCzIqBS4GtmSeY2Qbga3ih6kDuhykiMotF67FkL7VF3apYiRS4cYOVcy4JXA38FNgO3Oece87MbjWzi/3TvgSUA983s6fMbOsYLyciMvf4vaxOKO/UFzGLFLiibE5yzm0Dto04dlPG9rk5HpeIyNHD72W1JhLnSVWsRAqaOq+LiEyVX7FaEW7XVKBIgVOwEhGZqvKFYEEWB1ppbO/FuVEvnBaRAqBgJSIyVYEgVNRRSyuJZJr2nv58j0hE8kTBSkQkF6Ix5qf8JqGaDhQpWApWIiK5EI1RnvC6zaiXlUjhUrASEcmFaD3h7v2A0wJ2kQKmYCUikgvRGIH+biroobFdXz4hUqgUrEREcsFvuXB8WYfWWIkUMAUrEZFc8JuEHlsS11SgSAFTsBIRyQW/YrUyHNfidZECpmAlIpIL5XWAsaSoTRUrkQKmYCUikgtFxVBeS5210tLVRyKZyveIRCQPFKxERHIlGqM6dRCAA3FdGShSiBSsRERyJVpPRZ/fJFTTgSIFScFKRCRXojFKehoBdV8XKVQKViIiuRKNEeyLU0aPFrCLFCgFKxGRXIkuBmBp6JAqViIFSsFKRCRX/F5Wa8s6tcZKpEApWImI5IofrFaF2zUVKFKgFKxERHKlYhEAy0KHVLESKVAKViIiuRKKQOkCFgXaaIoncM7le0QiMsMUrEREcikaoyZ9kL5kmrbu/nyPRkRmmIKViEguReup7G8G1MtKpBApWImI5FI0RmlvE4AWsIsUIAUrEZFcisYoSrQRpo/9qliJFBwFKxGRXIrWA7DIWnVloEgBUrASEcklv5fVsaUdNKliJVJwFKxERHLJr1itKYmrYiVSgBSsRERyKeo1CV0eUvd1kUKkYCUikkvFZRCZR31Qa6xECpGClYhIrkXrqXUtHOrup7c/le/RiMgMUrASEcm1aIx5yYOAelmJFJqsgpWZXWBmL5jZDjO7fpTHN5vZH8wsaWbvyP0wRUSOItEY5QmvSai6r4sUlnGDlZkFgTuBtwBrgcvMbO2I03YB7we+m+sBiogcdaL1FPceJERS66xECkxRFuecBuxwzr0CYGb3AluA5wdOcM7t9B9LT8MYRUSOLn4vq4XWpqlAkQKTzVRgPbA7Y3+Pf0xEREbjB6sVoTYa2xN5HoyIzKRsgpWNcsxN5s3M7AozazCzhubm5sm8hIjI7Fe5GPC7r6tiJVJQsglWe4AlGfuLgX2TeTPn3F3OuY3OuY01NTWTeQkRkdnPr1itLG5nf3tPngcjIjMpm2D1OLDazFaYWTFwKbB1eoclInIUC1dAOMriYBtNcU0FihSScYOVcy4JXA38FNgO3Oece87MbjWziwHM7HVmtgf4c+BrZvbcdA5aRGTWi8ZYaC00xXtJpye1ekJEjkLZXBWIc24bsG3EsZsyth/HmyIUERGAaIyq5gMk046Wrj5qKsL5HpGIzAB1XhcRmQ7RGBV9BwB1XxcpJApWIiLTIVpPuLeZIpLqvi5SQBSsRESmQzSG4aihXd3XRQqIgpWIyHSIen2U64OtmgoUKSAKViIi08HvZbWmpENTgSIFRMFKRGQ6+MFqVVhTgSKFRMFKRGQ6ROZBqJSlRfoiZpFComAlIjIdzCAaY5G1aipQpIAoWImITJdojOp0C/HeJN19yXyPRkRmgIKViMh0idZT2e81CVXVSqQwKFiJiEyXaIxIbzMB0lrALlIgFKxERKZLNEbAJammXQvYRQqEgpWIyHTxm4R6C9gTeR6MiMwEBSsRkeni97JaUayKlUihULASEZkufsVqdUlci9dFCoSClYjIdCmthmCY5aFDWrwuUiAUrEREpovfJDQW0BcxixQKBSsRkekUracmfZADHQlSaZfv0YjINFOwEhGZTtEY85LNpNKOlk5dGSgy1ylYiYhMp2iMssQBTE1CRQqCgpWIyHSK1hNI91NFh64MFCkAClYiItPJ72VVZ1rALlIIFKxERKaTH6wWB1rZr4qVyJynYCUiMp0ym4SqYiUy5ylYiYhMp7IaCBSxXF9rI1IQivI9ABGROS0QgIoYi9NtWrwuUgBUsRIRmW7RGAtdC01x9bESmesUrEREpls0xvzUQToTSToTyXyPRkSmkYKViMh0i8Yo7zsAOE0HisxxClYiItMtWk9RqpdKurSAXWSOU7ASEZlufi+rRdaqipXIHKdgJSIy3fxeVnXWol5WInOcgpWIyHTzK1Yr1ctKZM7LKliZ2QVm9oKZ7TCz60d5PGxm3/Mf/52ZLc/1QEVEjlrlC8ECrAq3aypQZI4bt0GomQWBO4HzgD3A42a21Tn3fMZpHwTanHPHmNmlwBeAd03HgEVEjjrBIiivY0n6EH9s7OAHT+yhIlJERbiIikiI8kgR5eEiKiJFhIsCmFm+Rywik5RN5/XTgB3OuVcAzOxeYAuQGay2ALf42z8AvmJm5pxzORyriMjRKxpjaWcbu5q6+dT3/2fM00JB88KWH7QG7ocd8/crwkXDjkX9c8ojRYSCWukhkg/ZBKt6YHfG/h7g9WOd45xLmlk7UA0czDzJzK4ArgBYunTpJIcsInIUisZYlniBP9x4Hp29SeK9/V7D0N4kHYl+/5jXQLSj19vvTHjH9h3qpSPR4Z3bmySZHv//rJFQgOqyMDUVYRZGw9RWRAbvazPuq0qLCQRUIZs1nPNuOHDpMbb9/WHbjHF8xOsNMjAburfA4ccG7xnj+Dj3FvBvhfX7K5tgNdonMvJPdTbn4Jy7C7gLYOPGjapmiUjhqFyMvfwQVaUhqsqKJ/0yzjkSybQXzAaD2MCtP2O/n5bOPg50JHj1YBe/faWV9p7+w16vKGDUVISpjUaozQhh3nbED2YRqsuOzgCWTKXpS6XpS6ZJJAfuUySG7afp60+R6u3A9R6CnnZIxKG/G0v1QSqBpfr8W4JAqh9LJwik+gik+7B0H8FUP4F0H8G0dyzo+gmm+yjKvHf9hFw/Rf4thL9PkgBpAof/szlnpDGcf/O2A4P7DsNZxjYB0ngBzZmR9peDOwKk/eDm/E/Lmfc6zes+wskXX5PPH3FQNsFqD7AkY38xsG+Mc/aYWRFQCbTmZIQiInNBNAZ9nd4/2JHKSb+MmREJBYmEgtRWTOy5vf0pmjsSHOjo5UA8QVO8lwMdCZri3rFdLd007GylrfvwABYMGAvKi1noB7ChIOaFLjMjlU6TSkMynSbtHMmUI+0cqTT+Y45k2juWTDvS6eH3KedIpfz79Cg3/zUTfjjKDEv9/X0UpboI93cQTnUSTnZSmu6knC6idBO1LiroIUoXUesmSjcV1s0Cf7+CboI28WDTTxAvIhV591ZEkhD9FiJpxSQtRK+FSFopyUAxqUCIpIVIBYpJBYpJW4h0IETagmAD0cpw5k/l2lCoYDBUDFWGnBkQ8O8zjwf8kod3zJFRkRqoYGVUs8zfNjf8+PCKl/fuA8eGtgE/Cg1/nh+P/MqZZVTdho75Ucs5YPjjmVFsoJI3EMsGnof/+sGieRP+tZsu2QSrx4HVZrYC2AtcCrx7xDlbgf8F/AZ4B/CQ1leJiGTwWy4Q3zelYDUVkVCQJVWlLKkqPeJ5ieRAAEtwwA9fmUFsT1sPT+46REtXX87GVhQwIoEU8wNdzA90M9+6mGddzLNO5tNF1LqopNMPRl2U002566LMdVGW7qLEdQ9/waB/y9AfLKM/VEGyOEoyVEE6vJB0uJK+SJSWcCVWUolFKgmWziNYUkkwUk4gFCYYChMMlRAIFWNFEQgWQ1EYgsWEAkFCOfsUZC4YN1j5a6auBn6K99v0bufcc2Z2K9DgnNsKfAP4lpntwKtUXTqdgxYROer4TUKJ74Xa46fnPZIJaP4jND0HB5739oPFUBTxb+GM+/CIff8+GCZcFGFxUZjFVRGoLYOiagiGDlsr05dMc7AzQUtnH2YQMKMoAMFkF+G+dooGb4cIJtoJJg4R7D1EINFOoLcNS7RjPW1YzyHoPeRV9AYMFD4yRSr92zyIVEFkRcaxSghHM/ajhz2mECQzIZuKFc65bcC2EcduytjuBf48t0MTEZlDMitWU+UcdOyHxmeh6VkvSDU9BwdfBJfyzgmGobjUC1f9PYyy7HWC7LAwVlwUIVYUJhYogkQH9LRBz6GhMYwmGIaS+VAyz7uftxTq1vnHMo6XzINIxn6kEgLBsV9XZJbIKliJiMgUldcBNvFg1dftV6EyAlTTs16IGVC5BBaeAMdd6N0vPBGqVnr9s8ALYukkJHu9oJVMZGz796kxjmdzbqoP5q/ICEXzvarSYWFpPoRKcvaRisxGClYiIjOhqBjKa72pwNE4B+27veCUWYlqfXnoMvlQKdSuhbVbvPC08ARvv2Schbtm3lReMAThCa54F5EJUbASEZkp0ZhXsUp0woHtfnjKqEQl4kPnzl/uhacT/8yvQp3gVYUCavwpMpspWImIzJRoPbxwP/x1/dCx4govNK1759A0Xu3xqiyJHKUUrEREZsopl3uLv2uOH6pCzVtacJ2pReYyBSsRkZmy5nzvJiJzlibrRURERHJEwUpEREQkRxSsRERERHJEwUpEREQkRxSsRERERHJEwUpEREQkRxSsRERERHJEwUpEREQkRxSsRERERHJEwUpEREQkRxSsRERERHJEwUpEREQkRxSsRERERHLEnHP5eWOzZuC1vLz57LEAOJjvQcwS+iyG6LMYos/Co89hiD6LIfoshszEZ7HMOVcz3kl5C1YCZtbgnNuY73HMBvoshuizGKLPwqPPYYg+iyH6LIbMps9CU4EiIiIiOaJgJSIiIpIjClb5dVe+BzCL6LMYos9iiD4Ljz6HIfoshuizGDJrPgutsRIRERHJEVWsRERERHJEwWoGmdn3zOwp/7bTzJ4a47ydZvaMf17DTI9zJpjZLWa2N+PzeOsY511gZi+Y2Q4zu36mxzkTzOxLZvZHM3vazH5kZvPGOG9O/r4Y79fYzML+n50dZvY7M1s+86Ocfma2xMweNrPtZvacmV07yjlnm1l7xp+bm/Ix1pkw3u9389zu/7542sxOycc4p5uZHZvx6/2UmcXN7OMjzpmzvy/M7G4zO2Bmz2YcqzL7f+3df7BUZR3H8fcnkBqCgiB+JGG/ZAozgYBABrQgAqcB+zk4TCGaRQ2FFTNZ9sOkaYQEpqbSJjPUIVITE02LK4loAUEkoMHIj2HsDoSOOCZBKfrtj/OsrNfde9fYPcvd/bxm7uzZ8zx7zvecffbc757n7HnUImlXeuxd5rWzUp1dkmblFnRE+K8Of8Bi4NtlyvYBfesdY423/wpgfgd1ugB7gLcB3YCtwNB6x16DfTEZ6JqmFwILm6VdVPIeA18Ark3TM4Cb6x13jfbFQGBEmu4JPFpiX5wL3FXvWHPaH+22d+A84B5AwBhgY71jzmGfdAH+SXY/paZoF8AEYATwcNG8RcBlafqyUsdM4A3A3vTYO033ziNmn7GqA0kCPgmsqHcsJ7nRwO6I2BsRzwK/BqbXOaaqi4jVEXEsPd0ADKpnPDmr5D2eDtyQpn8DTEyfoYYSEQciYkuafgbYAZxa36hOatOBGyOzAeglaWC9g6qxicCeiGiam2tHxDrgUJvZxceEG4DzS7z0Q0BLRByKiKeAFmBKzQIt4sSqPsYDByNiVz+4qAoAAAaoSURBVJnyAFZL+qukz+YYV97mplP415c5lXsq8I+i5600/j+ai8i+hZfSiO2ikvf4xTopAX0a6JNLdHWSujuHAxtLFI+VtFXSPZLOyDWwfHXU3pvx+DCD8l/Im6VdAPSPiAOQfSEB+pWoU7f20TWPlTQTSfcCA0oUXR4Rd6TpC2j/bNW4iNgvqR/QImlnyto7lfb2BXANsIDs4LmArGv0oraLKPHaTvkz1krahaTLgWPA8jKLaYh20UYl73HDtINKSOoB3AZcGhH/alO8hawb6HC6LvG3wOl5x5iTjtp7s7WLbsA04OslipupXVSqbu3DiVWVRcSk9soldQU+Cry3nWXsT4+PS7qdrLuk0/0D7WhfFEj6OXBXiaJW4M1FzwcB+6sQWu4qaBezgA8DEyNdIFBiGQ3RLtqo5D0u1GlNn5/X8/KugYYg6RSypGp5RKxsW16caEXE3ZJ+KqlvRDTceHEVtPeGOT5UaCqwJSIOti1opnaRHJQ0MCIOpO7fx0vUaSW79qxgELA2h9jcFVgHk4CdEdFaqlDSayX1LEyTXdj8cKm6nVmbayE+Qult3AScLumt6dvaDGBVHvHlSdIU4GvAtIg4UqZOo7aLSt7jVUDhFz0fB/5YLvnszNJ1Y78AdkTEkjJ1BhSuL5M0muwY/mR+Ueajwva+Cvh0+nXgGODpQvdQgyrb09Es7aJI8TFhFnBHiTp/ACZL6p0uNZmc5tWcz1jl72V95JLeBFwXEecB/YHb02ekK/CriPh97lHW3iJJw8hOze4DPgcv3RcRcUzSXLIPQxfg+oh4pF4B19CPgVeTdXcAbIiIOc3QLsq9x5KuBDZHxCqyZOMmSbvJzlTNqF/ENTUO+BSwXcdvxfINYDBARFxLllh+XtIx4CgwoxGTTMq0d0lz4MV9cTfZLwN3A0eA2XWKteYkdQc+SDpOpnnF+6Jh24WkFWRnnvpKagW+A1wF3CLpYuAx4BOp7khgTkR8JiIOSVpA9uUN4MqIyOVMt++8bmZmZlYl7go0MzMzqxInVmZmZmZV4sTKzMzMrEqcWJmZmZlViRMrMzMzsyrx7RbMrCRJfYA16ekA4HngifT8SEScXYN1rgDOAH4ZEUurvfyi9awlG/T4P8CzwCUR8VC7L6pdLPuAkQ18M0ezpuLEysxKiogngWEAkq4ADkfE1bVan6QBwNkRcVqJsq5FA1VXy8yI2CxpNvADsvsE1VSNtsPMTiLuCjSzV0zS4fR4rqT7Jd0i6VFJV0maKekvkrZLenuq90ZJt0nalP7GlVjsaqCfpIckjZe0VtL3Jd0PzJN0mqQ1ygbuXiNpcFr2MknXSLpP0l5J5ygb2HuHpGUVbM56igZnlTRZ0npJWyTdKqmHpNGSVqby6ZKOSuom6TWS9qb5l6Rt25q2tXtRfEsk3QcslNRH0mpJf5P0M0qPaWZmnZQTKzM7UWcB84Azye4cPiQiRgPXAV9MdX4ILI2IUcDHUllb04A9ETEsIh5I83pFxDkRsZjsDvU3RsR7yAaq/lHRa3sDHwC+DNwJLCXrUjwz3eG/PVPIBq1FUl/gm8CkiBgBbAa+QjbI7fBUfzzZ8CqjgPcBG9P8lRExKiLOAnYAFxetY0ha5lfJ7hz9YEQMJxuaY3AH8ZlZJ+KuQDM7UZsKY7RJ2kN25glgO/D+ND0JGJqGKAF4naSeEfFMB8u+uWh6LNkA5gA3AYuKyu6MiJC0HTgYEdtTPI8AbwFKXT+1PI1D1wUYkeaNAYYCf0qxdgPWp6F3dkt6F9lgwEuACem1hSTw3ZK+B/QCevDScclujYjn0/SEwnZExO8kPdXBPjCzTsSJlZmdqP8WTb9Q9PwFjh9jXgWMjYijr3DZ/26nrHg8ruJ1to2n3HFuJrCVbNyxn5AlOwJaIuKCEvUfAKYCzwH3AsvIEqv5qXwZcH5EbJV0Idn4ZuW2w2OJmTUodwWaWR5WA3MLTyronivlzxwfgHkm8OCJBhURz5F1/Y1JZ6M2AOMkvSPF2V3SkFR9HXAp2RmsJ4A+wDuBwsDgPYEDkk5J8ZWzrlAuaSpZN6aZNQgnVmaWhy8BI9OF538H5vyfy5gtaRvZtVzzqhFYOou2GJifEqYLgRVpPRvIkifIrqXqT5YYAWwDtsXxkey/leq0ADvbWeV3gQmStgCTgceqsR1mdnLQ8WOCmZmZmZ0In7EyMzMzqxInVmZmZmZV4sTKzMzMrEqcWJmZmZlViRMrMzMzsypxYmVmZmZWJU6szMzMzKrEiZWZmZlZlfwPewgXBo3RWfoAAAAASUVORK5CYII=\n",
      "text/plain": [
       "<Figure size 720x432 with 1 Axes>"
      ]
     },
     "metadata": {
      "needs_background": "light"
     },
     "output_type": "display_data"
    }
   ],
   "source": [
    "ep_rew = np.array([np.sum(t) for t in rewards])\n",
    "plt.figure(figsize = (10,6))\n",
    "plt.plot(np.arange(-9, 11), np.nanmean(value_last_steps[ep_rew == 1 , :],0),  label = 'Rewarded')\n",
    "plt.plot(np.arange(-9, 11), np.nanmean(value_last_steps[ep_rew == 0 , :],0),  label = 'UnRewarded')\n",
    "plt.legend()\n",
    "plt.title(\"Value at Rew Time\")\n",
    "plt.xlabel (\"Time from Reward\")"
   ]
  },
  {
   "cell_type": "code",
   "execution_count": 76,
   "metadata": {},
   "outputs": [
    {
     "data": {
      "text/plain": [
       "<matplotlib.axes._subplots.AxesSubplot at 0x263ad6f8e48>"
      ]
     },
     "execution_count": 76,
     "metadata": {},
     "output_type": "execute_result"
    },
    {
     "data": {
      "image/png": "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\n",
      "text/plain": [
       "<Figure size 432x288 with 2 Axes>"
      ]
     },
     "metadata": {
      "needs_background": "light"
     },
     "output_type": "display_data"
    }
   ],
   "source": [
    "ep_rewidx = (episode_lengths - 11).astype(int)\n",
    "vs_rewp = np.vstack([pes_i[rew_idx - 5:rew_idx + 6] for [pes_i, rew_idx] in zip(vs, ep_rewidx)])\n",
    "\n",
    "sns.heatmap(vs_rewp)\n"
   ]
  },
  {
   "cell_type": "code",
   "execution_count": 80,
   "metadata": {},
   "outputs": [
    {
     "data": {
      "text/plain": [
       "array([154., 154., 154., 154., 154., 154., 154., 155., 155., 154., 154.,\n",
       "       154., 154., 154., 154., 155., 154., 155., 154., 154., 154., 154.,\n",
       "       154., 154., 155., 154., 154., 154., 154., 154., 154., 154., 157.,\n",
       "       154., 154., 155., 155., 154., 154., 156., 155., 154., 154., 154.,\n",
       "       155., 154., 154., 154., 155., 154.])"
      ]
     },
     "execution_count": 80,
     "metadata": {},
     "output_type": "execute_result"
    }
   ],
   "source": [
    "episode_lengths"
   ]
  },
  {
   "cell_type": "code",
   "execution_count": 9,
   "metadata": {},
   "outputs": [
    {
     "data": {
      "text/plain": [
       "[<matplotlib.lines.Line2D at 0x263e2a0e5c0>]"
      ]
     },
     "execution_count": 9,
     "metadata": {},
     "output_type": "execute_result"
    },
    {
     "data": {
      "image/png": "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\n",
      "text/plain": [
       "<Figure size 432x288 with 1 Axes>"
      ]
     },
     "metadata": {
      "needs_background": "light"
     },
     "output_type": "display_data"
    }
   ],
   "source": [
    "\n",
    "plt.plot(np.mean(vs_rewp, 0))\n"
   ]
  },
  {
   "cell_type": "code",
   "execution_count": 15,
   "metadata": {},
   "outputs": [
    {
     "data": {
      "text/plain": [
       "array([11.])"
      ]
     },
     "execution_count": 15,
     "metadata": {},
     "output_type": "execute_result"
    }
   ],
   "source": [
    "\n",
    "rew_idx_direct = np.hstack([np.where(reward_i) for reward_i in rewards])\n",
    "ep_rew = np.array([np.sum(t) for t in rewards])\n",
    "np.unique(episode_lengths[np.where(ep_rew)] - rew_idx_direct)\n"
   ]
  },
  {
   "cell_type": "code",
   "execution_count": 16,
   "metadata": {},
   "outputs": [
    {
     "data": {
      "text/plain": [
       "array([10., 10., 10., 10., 10., 10., 10., 10., 10., 10., 10., 10., 10.,\n",
       "       10., 10., 10., 10., 10., 10., 10., 10., 10., 10., 10., 10., 10.,\n",
       "       10., 10., 10., 10., 10., 10., 10., 10., 10., 10., 10., 10., 10.,\n",
       "       10., 10., 10., 10., 10., 10., 10., 10., 10., 10., 10.])"
      ]
     },
     "execution_count": 16,
     "metadata": {},
     "output_type": "execute_result"
    }
   ],
   "source": [
    "\n",
    "rew_input_obses = [np.where(obses_i[:,-1,:2])[0][0] for obses_i in obses0]\n",
    "episode_lengths - rew_input_obses"
   ]
  },
  {
   "cell_type": "code",
   "execution_count": null,
   "metadata": {},
   "outputs": [],
   "source": [
    "tow_counts_wrong = tow_[not_equal_wrong]"
   ]
  },
  {
   "cell_type": "code",
   "execution_count": null,
   "metadata": {},
   "outputs": [],
   "source": [
    "env.close()"
   ]
  },
  {
   "cell_type": "code",
   "execution_count": 6,
   "metadata": {},
   "outputs": [],
   "source": [
    "[graph, sess] = model.get_graph_and_sess()\n",
    "# [n.name for n in graph.as_graph_def().node]\n",
    "#Relu_3 is feature output from cnn\n"
   ]
  },
  {
   "cell_type": "code",
   "execution_count": 8,
   "metadata": {},
   "outputs": [
    {
     "name": "stdout",
     "output_type": "stream",
     "text": [
      "> <ipython-input-8-ec1781c6133a>(14)<module>()\n",
      "-> vs1.append(model.value(obs, state = state, mask = done))\n"
     ]
    },
    {
     "name": "stdin",
     "output_type": "stream",
     "text": [
      "(Pdb)  c\n"
     ]
    },
    {
     "name": "stdout",
     "output_type": "stream",
     "text": [
      "> <ipython-input-8-ec1781c6133a>(13)<module>()\n",
      "-> pdb.set_trace()\n"
     ]
    },
    {
     "name": "stdin",
     "output_type": "stream",
     "text": [
      "(Pdb)  c\n"
     ]
    },
    {
     "name": "stdout",
     "output_type": "stream",
     "text": [
      "> <ipython-input-8-ec1781c6133a>(14)<module>()\n",
      "-> vs1.append(model.value(obs, state = state, mask = done))\n"
     ]
    },
    {
     "name": "stdin",
     "output_type": "stream",
     "text": [
      "(Pdb)  c\n"
     ]
    },
    {
     "name": "stdout",
     "output_type": "stream",
     "text": [
      "> <ipython-input-8-ec1781c6133a>(13)<module>()\n",
      "-> pdb.set_trace()\n"
     ]
    },
    {
     "name": "stdin",
     "output_type": "stream",
     "text": [
      "(Pdb)  vs1[-1]\n"
     ]
    },
    {
     "name": "stdout",
     "output_type": "stream",
     "text": [
      "array([0.8698162], dtype=float32)\n"
     ]
    },
    {
     "name": "stdin",
     "output_type": "stream",
     "text": [
      "(Pdb)  o1[-1]\n"
     ]
    },
    {
     "name": "stdout",
     "output_type": "stream",
     "text": [
      "array([0., 0.], dtype=float32)\n"
     ]
    },
    {
     "name": "stdin",
     "output_type": "stream",
     "text": [
      "(Pdb)  c\n"
     ]
    },
    {
     "name": "stdout",
     "output_type": "stream",
     "text": [
      "> <ipython-input-8-ec1781c6133a>(14)<module>()\n",
      "-> vs1.append(model.value(obs, state = state, mask = done))\n"
     ]
    },
    {
     "name": "stdin",
     "output_type": "stream",
     "text": [
      "(Pdb)  ep_len\n"
     ]
    },
    {
     "name": "stdout",
     "output_type": "stream",
     "text": [
      "145\n"
     ]
    },
    {
     "name": "stdin",
     "output_type": "stream",
     "text": [
      "(Pdb)  r2[-1]\n"
     ]
    },
    {
     "name": "stdout",
     "output_type": "stream",
     "text": [
      "array([1.], dtype=float32)\n"
     ]
    },
    {
     "name": "stdin",
     "output_type": "stream",
     "text": [
      "(Pdb)  r1[-1]\n"
     ]
    },
    {
     "name": "stdout",
     "output_type": "stream",
     "text": [
      "*** NameError: name 'r1' is not defined\n"
     ]
    },
    {
     "name": "stdin",
     "output_type": "stream",
     "text": [
      "(Pdb)  o1[-1]\n"
     ]
    },
    {
     "name": "stdout",
     "output_type": "stream",
     "text": [
      "array([0., 0.], dtype=float32)\n"
     ]
    },
    {
     "name": "stdin",
     "output_type": "stream",
     "text": [
      "(Pdb)  vs1[-1]\n"
     ]
    },
    {
     "name": "stdout",
     "output_type": "stream",
     "text": [
      "array([0.88014555], dtype=float32)\n"
     ]
    },
    {
     "name": "stdin",
     "output_type": "stream",
     "text": [
      "(Pdb)  c\n"
     ]
    },
    {
     "name": "stdout",
     "output_type": "stream",
     "text": [
      "> <ipython-input-8-ec1781c6133a>(13)<module>()\n",
      "-> pdb.set_trace()\n"
     ]
    },
    {
     "name": "stdin",
     "output_type": "stream",
     "text": [
      "(Pdb)  o1[-1]\n"
     ]
    },
    {
     "name": "stdout",
     "output_type": "stream",
     "text": [
      "array([0., 1.], dtype=float32)\n"
     ]
    },
    {
     "name": "stdin",
     "output_type": "stream",
     "text": [
      "(Pdb)  vs1[-1]\n"
     ]
    },
    {
     "name": "stdout",
     "output_type": "stream",
     "text": [
      "array([0.7443309], dtype=float32)\n"
     ]
    },
    {
     "name": "stdin",
     "output_type": "stream",
     "text": [
      "(Pdb)  obs\n"
     ]
    },
    {
     "name": "stdout",
     "output_type": "stream",
     "text": [
      "array([[[[0.34901962],\n",
      "         [0.34901962],\n",
      "         [0.34901962],\n",
      "         ...,\n",
      "         [0.        ],\n",
      "         [0.        ],\n",
      "         [0.        ]],\n",
      "\n",
      "        [[0.34901962],\n",
      "         [0.34901962],\n",
      "         [0.34901962],\n",
      "         ...,\n",
      "         [0.        ],\n",
      "         [0.        ],\n",
      "         [0.        ]],\n",
      "\n",
      "        [[0.34901962],\n",
      "         [0.34901962],\n",
      "         [0.34901962],\n",
      "         ...,\n",
      "         [0.        ],\n",
      "         [0.        ],\n",
      "         [0.        ]],\n",
      "\n",
      "        ...,\n",
      "\n",
      "        [[0.34901962],\n",
      "         [0.34901962],\n",
      "         [0.34901962],\n",
      "         ...,\n",
      "         [0.        ],\n",
      "         [0.        ],\n",
      "         [0.        ]],\n",
      "\n",
      "        [[0.34901962],\n",
      "         [0.34901962],\n",
      "         [0.34901962],\n",
      "         ...,\n",
      "         [0.        ],\n",
      "         [0.        ],\n",
      "         [0.        ]],\n",
      "\n",
      "        [[0.        ],\n",
      "         [0.        ],\n",
      "         [0.        ],\n",
      "         ...,\n",
      "         [0.        ],\n",
      "         [0.        ],\n",
      "         [1.        ]]]])\n"
     ]
    },
    {
     "name": "stdin",
     "output_type": "stream",
     "text": [
      "(Pdb)  plt.imshow(obs)\n"
     ]
    },
    {
     "name": "stdout",
     "output_type": "stream",
     "text": [
      "*** TypeError: Invalid dimensions for image data\n"
     ]
    },
    {
     "name": "stdin",
     "output_type": "stream",
     "text": [
      "(Pdb)  obs.shape\n"
     ]
    },
    {
     "name": "stdout",
     "output_type": "stream",
     "text": [
      "(1, 69, 120, 1)\n"
     ]
    },
    {
     "name": "stdin",
     "output_type": "stream",
     "text": [
      "(Pdb)  plt.imshow(obs[0,:,:,0])\n"
     ]
    },
    {
     "name": "stdout",
     "output_type": "stream",
     "text": [
      "<matplotlib.image.AxesImage object at 0x000002271E985358>\n"
     ]
    },
    {
     "name": "stdin",
     "output_type": "stream",
     "text": [
      "(Pdb)  plt.show()\n"
     ]
    },
    {
     "data": {
      "image/png": "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\n",
      "text/plain": [
       "<Figure size 432x288 with 1 Axes>"
      ]
     },
     "metadata": {
      "needs_background": "light"
     },
     "output_type": "display_data"
    },
    {
     "name": "stdin",
     "output_type": "stream",
     "text": [
      "(Pdb)  c\n"
     ]
    },
    {
     "name": "stdout",
     "output_type": "stream",
     "text": [
      "> <ipython-input-8-ec1781c6133a>(14)<module>()\n",
      "-> vs1.append(model.value(obs, state = state, mask = done))\n"
     ]
    },
    {
     "name": "stdin",
     "output_type": "stream",
     "text": [
      "(Pdb)  ep_len\n"
     ]
    },
    {
     "name": "stdout",
     "output_type": "stream",
     "text": [
      "147\n"
     ]
    },
    {
     "name": "stdin",
     "output_type": "stream",
     "text": [
      "(Pdb)  plt.imshow(obs[0,:,:,0])\n"
     ]
    },
    {
     "name": "stdout",
     "output_type": "stream",
     "text": [
      "<matplotlib.image.AxesImage object at 0x000002271EA1E550>\n"
     ]
    },
    {
     "name": "stdin",
     "output_type": "stream",
     "text": [
      "(Pdb)  plt.show()\n"
     ]
    },
    {
     "data": {
      "image/png": "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\n",
      "text/plain": [
       "<Figure size 432x288 with 1 Axes>"
      ]
     },
     "metadata": {
      "needs_background": "light"
     },
     "output_type": "display_data"
    },
    {
     "name": "stdin",
     "output_type": "stream",
     "text": [
      "(Pdb)  vs1[-10:]\n"
     ]
    },
    {
     "name": "stdout",
     "output_type": "stream",
     "text": [
      "[array([0.8294202], dtype=float32), array([0.82766104], dtype=float32), array([0.83016115], dtype=float32), array([0.835783], dtype=float32), array([0.8449291], dtype=float32), array([0.8524685], dtype=float32), array([0.8698162], dtype=float32), array([0.88014555], dtype=float32), array([0.7443309], dtype=float32), array([0.0233902], dtype=float32)]\n"
     ]
    },
    {
     "name": "stdin",
     "output_type": "stream",
     "text": [
      "(Pdb)  c\n"
     ]
    },
    {
     "name": "stdout",
     "output_type": "stream",
     "text": [
      "> <ipython-input-8-ec1781c6133a>(13)<module>()\n",
      "-> pdb.set_trace()\n"
     ]
    },
    {
     "name": "stdin",
     "output_type": "stream",
     "text": [
      "(Pdb)  c\n"
     ]
    },
    {
     "name": "stdout",
     "output_type": "stream",
     "text": [
      "> <ipython-input-8-ec1781c6133a>(14)<module>()\n",
      "-> vs1.append(model.value(obs, state = state, mask = done))\n"
     ]
    },
    {
     "name": "stdin",
     "output_type": "stream",
     "text": [
      "(Pdb)  c\n"
     ]
    },
    {
     "name": "stdout",
     "output_type": "stream",
     "text": [
      "> <ipython-input-8-ec1781c6133a>(13)<module>()\n",
      "-> pdb.set_trace()\n"
     ]
    },
    {
     "name": "stdin",
     "output_type": "stream",
     "text": [
      "(Pdb)  c\n"
     ]
    },
    {
     "name": "stdout",
     "output_type": "stream",
     "text": [
      "> <ipython-input-8-ec1781c6133a>(14)<module>()\n",
      "-> vs1.append(model.value(obs, state = state, mask = done))\n"
     ]
    },
    {
     "name": "stdin",
     "output_type": "stream",
     "text": [
      "(Pdb)  c\n"
     ]
    },
    {
     "name": "stdout",
     "output_type": "stream",
     "text": [
      "> <ipython-input-8-ec1781c6133a>(13)<module>()\n",
      "-> pdb.set_trace()\n"
     ]
    },
    {
     "name": "stdin",
     "output_type": "stream",
     "text": [
      "(Pdb)  c\n"
     ]
    },
    {
     "name": "stdout",
     "output_type": "stream",
     "text": [
      "> <ipython-input-8-ec1781c6133a>(14)<module>()\n",
      "-> vs1.append(model.value(obs, state = state, mask = done))\n"
     ]
    },
    {
     "name": "stdin",
     "output_type": "stream",
     "text": [
      "(Pdb)  c\n"
     ]
    },
    {
     "name": "stdout",
     "output_type": "stream",
     "text": [
      "> <ipython-input-8-ec1781c6133a>(13)<module>()\n",
      "-> pdb.set_trace()\n"
     ]
    },
    {
     "name": "stdin",
     "output_type": "stream",
     "text": [
      "(Pdb)  c\n"
     ]
    }
   ],
   "source": [
    "    state_ph_shape = graph.get_tensor_by_name(\"input_1/states_ph:0\").shape\n",
    "    dones_ph_shape = graph.get_tensor_by_name(\"input_1/dones_ph:0\").shape\n",
    "    reward = 0\n",
    "    r2,  o1, o2, vs1, vs2, feats = [],[],[], [], [], []\n",
    "    \n",
    "    for ep in range(1):\n",
    "        obs = env.reset()\n",
    "        done = np.zeros((dones_ph_shape))\n",
    "        state = np.zeros((state_ph_shape))\n",
    "        ep_len = 0\n",
    "        while not done:\n",
    "            if (ep_len) > 140:\n",
    "                pdb.set_trace()\n",
    "            vs1.append(model.value(obs, state = state, mask = done))\n",
    "            act_pre = graph.get_tensor_by_name(\"model/Reshape_1:0\").eval(\n",
    "                {\"input/Ob:0\":obs, \"input_1/dones_ph:0\":done\n",
    "                , \"input_1/states_ph:0\":state}, session = sess)\n",
    "            \n",
    "            feats.append(graph.get_tensor_by_name(\"model/concat_2:0\").eval(\n",
    "                {\"input/Ob:0\":obs, \"input_1/dones_ph:0\":done\n",
    "                , \"input_1/states_ph:0\":state}, session = sess))\n",
    "            o1.append(np.squeeze(act_pre[:,:,-2:]))\n",
    "            \n",
    "            action, state = model.predict(obs, state=state)\n",
    "\n",
    "            obs, reward, done, info = env.step(action)\n",
    "            act = graph.get_tensor_by_name(\"model/Reshape_1:0\").eval(\n",
    "                {\"input/Ob:0\":obs, \"input_1/dones_ph:0\":doneep_\n",
    "                , \"input_1/states_ph:0\":state}, session = sess)\n",
    "            vs2.append(model.value(obs, state = state, mask = done))\n",
    "\n",
    "            o2.append(np.squeeze(act[:,:,-2:]))\n",
    "            r2.append(reward)\n",
    "            ep_len = ep_len + 1\n",
    "            "
   ]
  },
  {
   "cell_type": "code",
   "execution_count": 14,
   "metadata": {},
   "outputs": [
    {
     "data": {
      "text/plain": [
       "[array([0.8449291], dtype=float32),\n",
       " array([0.8524685], dtype=float32),\n",
       " array([0.8698162], dtype=float32),\n",
       " array([0.88014555], dtype=float32),\n",
       " array([0.7443309], dtype=float32),\n",
       " array([0.0233902], dtype=float32),\n",
       " array([-0.00132968], dtype=float32),\n",
       " array([-0.00634748], dtype=float32),\n",
       " array([-0.00644732], dtype=float32),\n",
       " array([-0.0057193], dtype=float32),\n",
       " array([-0.00512773], dtype=float32),\n",
       " array([-0.00490111], dtype=float32),\n",
       " array([-0.00493589], dtype=float32),\n",
       " array([-0.00509465], dtype=float32),\n",
       " array([0.06569406], dtype=float32)]"
      ]
     },
     "execution_count": 14,
     "metadata": {},
     "output_type": "execute_result"
    }
   ],
   "source": [
    "vs2[140:]"
   ]
  },
  {
   "cell_type": "code",
   "execution_count": 72,
   "metadata": {},
   "outputs": [
    {
     "data": {
      "text/plain": [
       "11"
      ]
     },
     "execution_count": 72,
     "metadata": {},
     "output_type": "execute_result"
    }
   ],
   "source": [
    "ep_len - np.where(o2)[0][0]"
   ]
  },
  {
   "cell_type": "code",
   "execution_count": null,
   "metadata": {},
   "outputs": [],
   "source": [
    "plt.plot(np.vstack(o2)[:,1])\n",
    "plt.plot(r2)\n"
   ]
  },
  {
   "cell_type": "code",
   "execution_count": null,
   "metadata": {},
   "outputs": [],
   "source": [
    "import pandas as pd"
   ]
  },
  {
   "cell_type": "code",
   "execution_count": null,
   "metadata": {},
   "outputs": [],
   "source": [
    "df = pd.DataFrame.from_dict({'o1':o1, 'v1':vs1, 'r2':r2, 'o2':o2, 'vs2':vs2})"
   ]
  },
  {
   "cell_type": "code",
   "execution_count": null,
   "metadata": {},
   "outputs": [],
   "source": [
    "df[290:300]"
   ]
  },
  {
   "cell_type": "code",
   "execution_count": 38,
   "metadata": {},
   "outputs": [
    {
     "data": {
      "text/plain": [
       "[array([0.550244], dtype=float32),\n",
       " array([0.55592567], dtype=float32),\n",
       " array([0.56895834], dtype=float32),\n",
       " array([0.57658434], dtype=float32),\n",
       " array([0.4152997], dtype=float32),\n",
       " array([-0.04206438], dtype=float32),\n",
       " array([-0.02047651], dtype=float32),\n",
       " array([-0.02023646], dtype=float32),\n",
       " array([-0.01473442], dtype=float32),\n",
       " array([-0.01055396], dtype=float32)]"
      ]
     },
     "execution_count": 38,
     "metadata": {},
     "output_type": "execute_result"
    }
   ],
   "source": [
    "vs1[140:150]\n"
   ]
  },
  {
   "cell_type": "code",
   "execution_count": 61,
   "metadata": {},
   "outputs": [
    {
     "data": {
      "text/plain": [
       "[<matplotlib.lines.Line2D at 0x263acd07860>]"
      ]
     },
     "execution_count": 61,
     "metadata": {},
     "output_type": "execute_result"
    },
    {
     "data": {
      "image/png": "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\n",
      "text/plain": [
       "<Figure size 432x288 with 1 Axes>"
      ]
     },
     "metadata": {
      "needs_background": "light"
     },
     "output_type": "display_data"
    }
   ],
   "source": [
    "plt.plot(vs2[-20:])"
   ]
  },
  {
   "cell_type": "code",
   "execution_count": null,
   "metadata": {},
   "outputs": [],
   "source": [
    "np.vstack(o1)[140:150,1]"
   ]
  },
  {
   "cell_type": "code",
   "execution_count": 20,
   "metadata": {},
   "outputs": [
    {
     "data": {
      "text/plain": [
       "[array([0.5756103], dtype=float32),\n",
       " array([0.5634078], dtype=float32),\n",
       " array([0.5571319], dtype=float32),\n",
       " array([0.51247346], dtype=float32),\n",
       " array([-0.00957669], dtype=float32),\n",
       " array([-0.00319001], dtype=float32),\n",
       " array([-0.00902478], dtype=float32),\n",
       " array([-0.00801361], dtype=float32),\n",
       " array([-0.0062712], dtype=float32),\n",
       " array([-0.00525931], dtype=float32)]"
      ]
     },
     "execution_count": 20,
     "metadata": {},
     "output_type": "execute_result"
    }
   ],
   "source": [
    "vs2[140:150]\n"
   ]
  },
  {
   "cell_type": "code",
   "execution_count": null,
   "metadata": {},
   "outputs": [],
   "source": [
    "r2[140:150]"
   ]
  },
  {
   "cell_type": "code",
   "execution_count": null,
   "metadata": {},
   "outputs": [],
   "source": [
    "np.where(r2)"
   ]
  },
  {
   "cell_type": "code",
   "execution_count": 81,
   "metadata": {},
   "outputs": [],
   "source": [
    "with open(load_path + '1000t_p1_goat.p', 'rb') as f:\n",
    "    # shorter maze has observations saved in\n",
    "    # [actions_, rewards_, obses, feats_, featsPI_, featsV_, terms_, vs_, tow_counts_, episode_lengths] = pickle.load(f)\n",
    "\n",
    "    [actions_, rewards_, feats_, terms_, vs_, tow_counts_, episode_lengths_, ypos] = pickle.load(f)\n",
    "f.close()"
   ]
  },
  {
   "cell_type": "code",
   "execution_count": 82,
   "metadata": {},
   "outputs": [
    {
     "name": "stderr",
     "output_type": "stream",
     "text": [
      "C:\\ProgramData\\Anaconda3\\lib\\site-packages\\ipykernel_launcher.py:2: FutureWarning: arrays to stack must be passed as a \"sequence\" type such as list or tuple. Support for non-sequence iterables such as generators is deprecated as of NumPy 1.16 and will raise an error in the future.\n",
      "  \n"
     ]
    }
   ],
   "source": [
    "value_last_steps = np.vstack([t[-20:] for t in vs_])\n",
    "reward_last_steps = np.vstack(t[-20:] for t in rewards_)"
   ]
  },
  {
   "cell_type": "code",
   "execution_count": 83,
   "metadata": {},
   "outputs": [
    {
     "data": {
      "text/plain": [
       "<matplotlib.axes._subplots.AxesSubplot at 0x263acf89e48>"
      ]
     },
     "execution_count": 83,
     "metadata": {},
     "output_type": "execute_result"
    },
    {
     "data": {
      "image/png": "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\n",
      "text/plain": [
       "<Figure size 432x288 with 2 Axes>"
      ]
     },
     "metadata": {
      "needs_background": "light"
     },
     "output_type": "display_data"
    }
   ],
   "source": [
    "sns.heatmap(value_last_steps)"
   ]
  },
  {
   "cell_type": "code",
   "execution_count": 84,
   "metadata": {},
   "outputs": [
    {
     "data": {
      "text/plain": [
       "<matplotlib.axes._subplots.AxesSubplot at 0x263ad87f208>"
      ]
     },
     "execution_count": 84,
     "metadata": {},
     "output_type": "execute_result"
    },
    {
     "data": {
      "image/png": "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\n",
      "text/plain": [
       "<Figure size 432x288 with 2 Axes>"
      ]
     },
     "metadata": {
      "needs_background": "light"
     },
     "output_type": "display_data"
    }
   ],
   "source": [
    "sns.heatmap(reward_last_steps)"
   ]
  },
  {
   "cell_type": "code",
   "execution_count": 45,
   "metadata": {},
   "outputs": [],
   "source": [
    "w_val = np.squeeze(params['model/vf/w:0'])\n",
    "b_val = params['model/vf/b:0']"
   ]
  },
  {
   "cell_type": "code",
   "execution_count": 46,
   "metadata": {},
   "outputs": [
    {
     "data": {
      "text/plain": [
       "[<matplotlib.lines.Line2D at 0x263acca3978>]"
      ]
     },
     "execution_count": 46,
     "metadata": {},
     "output_type": "execute_result"
    },
    {
     "data": {
      "image/png": "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\n",
      "text/plain": [
       "<Figure size 432x288 with 1 Axes>"
      ]
     },
     "metadata": {
      "needs_background": "light"
     },
     "output_type": "display_data"
    }
   ],
   "source": [
    "plt.plot(vs_[0])"
   ]
  },
  {
   "cell_type": "code",
   "execution_count": 62,
   "metadata": {},
   "outputs": [
    {
     "data": {
      "text/plain": [
       "[<matplotlib.lines.Line2D at 0x263ad1542e8>]"
      ]
     },
     "execution_count": 62,
     "metadata": {},
     "output_type": "execute_result"
    },
    {
     "data": {
      "image/png": "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\n",
      "text/plain": [
       "<Figure size 432x288 with 1 Axes>"
      ]
     },
     "metadata": {
      "needs_background": "light"
     },
     "output_type": "display_data"
    }
   ],
   "source": [
    "plt.plot((feats_[0] @ w_val + b_val)[-20:])"
   ]
  },
  {
   "cell_type": "code",
   "execution_count": 48,
   "metadata": {},
   "outputs": [
    {
     "data": {
      "text/plain": [
       "[<matplotlib.lines.Line2D at 0x263acc05780>]"
      ]
     },
     "execution_count": 48,
     "metadata": {},
     "output_type": "execute_result"
    },
    {
     "data": {
      "image/png": "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\n",
      "text/plain": [
       "<Figure size 432x288 with 1 Axes>"
      ]
     },
     "metadata": {
      "needs_background": "light"
     },
     "output_type": "display_data"
    }
   ],
   "source": [
    "plt.plot(vs_[0][-15:])"
   ]
  },
  {
   "cell_type": "code",
   "execution_count": 51,
   "metadata": {},
   "outputs": [
    {
     "ename": "ValueError",
     "evalue": "zero-size array to reduction operation minimum which has no identity",
     "output_type": "error",
     "traceback": [
      "\u001b[1;31m---------------------------------------------------------------------------\u001b[0m",
      "\u001b[1;31mValueError\u001b[0m                                Traceback (most recent call last)",
      "\u001b[1;32m<ipython-input-51-a0e9279d6197>\u001b[0m in \u001b[0;36m<module>\u001b[1;34m\u001b[0m\n\u001b[0;32m      2\u001b[0m \u001b[0mvs_rewp\u001b[0m \u001b[1;33m=\u001b[0m \u001b[0mnp\u001b[0m\u001b[1;33m.\u001b[0m\u001b[0mvstack\u001b[0m\u001b[1;33m(\u001b[0m\u001b[1;33m[\u001b[0m\u001b[0mpes_i\u001b[0m\u001b[1;33m[\u001b[0m\u001b[0mrew_idx\u001b[0m \u001b[1;33m-\u001b[0m \u001b[1;36m5\u001b[0m\u001b[1;33m:\u001b[0m\u001b[0mrew_idx\u001b[0m \u001b[1;33m+\u001b[0m \u001b[1;36m6\u001b[0m\u001b[1;33m]\u001b[0m \u001b[1;32mfor\u001b[0m \u001b[1;33m[\u001b[0m\u001b[0mpes_i\u001b[0m\u001b[1;33m,\u001b[0m \u001b[0mrew_idx\u001b[0m\u001b[1;33m]\u001b[0m \u001b[1;32min\u001b[0m \u001b[0mzip\u001b[0m\u001b[1;33m(\u001b[0m\u001b[0mvs1\u001b[0m\u001b[1;33m,\u001b[0m \u001b[0mep_rewidx\u001b[0m\u001b[1;33m)\u001b[0m\u001b[1;33m]\u001b[0m\u001b[1;33m)\u001b[0m\u001b[1;33m\u001b[0m\u001b[1;33m\u001b[0m\u001b[0m\n\u001b[0;32m      3\u001b[0m \u001b[1;33m\u001b[0m\u001b[0m\n\u001b[1;32m----> 4\u001b[1;33m \u001b[0msns\u001b[0m\u001b[1;33m.\u001b[0m\u001b[0mheatmap\u001b[0m\u001b[1;33m(\u001b[0m\u001b[0mvs_rewp\u001b[0m\u001b[1;33m)\u001b[0m\u001b[1;33m\u001b[0m\u001b[1;33m\u001b[0m\u001b[0m\n\u001b[0m",
      "\u001b[1;32mC:\\ProgramData\\Anaconda3\\lib\\site-packages\\seaborn\\matrix.py\u001b[0m in \u001b[0;36mheatmap\u001b[1;34m(data, vmin, vmax, cmap, center, robust, annot, fmt, annot_kws, linewidths, linecolor, cbar, cbar_kws, cbar_ax, square, xticklabels, yticklabels, mask, ax, **kwargs)\u001b[0m\n\u001b[0;32m    515\u001b[0m     plotter = _HeatMapper(data, vmin, vmax, cmap, center, robust, annot, fmt,\n\u001b[0;32m    516\u001b[0m                           \u001b[0mannot_kws\u001b[0m\u001b[1;33m,\u001b[0m \u001b[0mcbar\u001b[0m\u001b[1;33m,\u001b[0m \u001b[0mcbar_kws\u001b[0m\u001b[1;33m,\u001b[0m \u001b[0mxticklabels\u001b[0m\u001b[1;33m,\u001b[0m\u001b[1;33m\u001b[0m\u001b[1;33m\u001b[0m\u001b[0m\n\u001b[1;32m--> 517\u001b[1;33m                           yticklabels, mask)\n\u001b[0m\u001b[0;32m    518\u001b[0m \u001b[1;33m\u001b[0m\u001b[0m\n\u001b[0;32m    519\u001b[0m     \u001b[1;31m# Add the pcolormesh kwargs here\u001b[0m\u001b[1;33m\u001b[0m\u001b[1;33m\u001b[0m\u001b[1;33m\u001b[0m\u001b[0m\n",
      "\u001b[1;32mC:\\ProgramData\\Anaconda3\\lib\\site-packages\\seaborn\\matrix.py\u001b[0m in \u001b[0;36m__init__\u001b[1;34m(self, data, vmin, vmax, cmap, center, robust, annot, fmt, annot_kws, cbar, cbar_kws, xticklabels, yticklabels, mask)\u001b[0m\n\u001b[0;32m    165\u001b[0m         \u001b[1;31m# Determine good default values for the colormapping\u001b[0m\u001b[1;33m\u001b[0m\u001b[1;33m\u001b[0m\u001b[1;33m\u001b[0m\u001b[0m\n\u001b[0;32m    166\u001b[0m         self._determine_cmap_params(plot_data, vmin, vmax,\n\u001b[1;32m--> 167\u001b[1;33m                                     cmap, center, robust)\n\u001b[0m\u001b[0;32m    168\u001b[0m \u001b[1;33m\u001b[0m\u001b[0m\n\u001b[0;32m    169\u001b[0m         \u001b[1;31m# Sort out the annotations\u001b[0m\u001b[1;33m\u001b[0m\u001b[1;33m\u001b[0m\u001b[1;33m\u001b[0m\u001b[0m\n",
      "\u001b[1;32mC:\\ProgramData\\Anaconda3\\lib\\site-packages\\seaborn\\matrix.py\u001b[0m in \u001b[0;36m_determine_cmap_params\u001b[1;34m(self, plot_data, vmin, vmax, cmap, center, robust)\u001b[0m\n\u001b[0;32m    204\u001b[0m         \u001b[0mcalc_data\u001b[0m \u001b[1;33m=\u001b[0m \u001b[0mplot_data\u001b[0m\u001b[1;33m.\u001b[0m\u001b[0mdata\u001b[0m\u001b[1;33m[\u001b[0m\u001b[1;33m~\u001b[0m\u001b[0mnp\u001b[0m\u001b[1;33m.\u001b[0m\u001b[0misnan\u001b[0m\u001b[1;33m(\u001b[0m\u001b[0mplot_data\u001b[0m\u001b[1;33m.\u001b[0m\u001b[0mdata\u001b[0m\u001b[1;33m)\u001b[0m\u001b[1;33m]\u001b[0m\u001b[1;33m\u001b[0m\u001b[1;33m\u001b[0m\u001b[0m\n\u001b[0;32m    205\u001b[0m         \u001b[1;32mif\u001b[0m \u001b[0mvmin\u001b[0m \u001b[1;32mis\u001b[0m \u001b[1;32mNone\u001b[0m\u001b[1;33m:\u001b[0m\u001b[1;33m\u001b[0m\u001b[1;33m\u001b[0m\u001b[0m\n\u001b[1;32m--> 206\u001b[1;33m             \u001b[0mvmin\u001b[0m \u001b[1;33m=\u001b[0m \u001b[0mnp\u001b[0m\u001b[1;33m.\u001b[0m\u001b[0mpercentile\u001b[0m\u001b[1;33m(\u001b[0m\u001b[0mcalc_data\u001b[0m\u001b[1;33m,\u001b[0m \u001b[1;36m2\u001b[0m\u001b[1;33m)\u001b[0m \u001b[1;32mif\u001b[0m \u001b[0mrobust\u001b[0m \u001b[1;32melse\u001b[0m \u001b[0mcalc_data\u001b[0m\u001b[1;33m.\u001b[0m\u001b[0mmin\u001b[0m\u001b[1;33m(\u001b[0m\u001b[1;33m)\u001b[0m\u001b[1;33m\u001b[0m\u001b[1;33m\u001b[0m\u001b[0m\n\u001b[0m\u001b[0;32m    207\u001b[0m         \u001b[1;32mif\u001b[0m \u001b[0mvmax\u001b[0m \u001b[1;32mis\u001b[0m \u001b[1;32mNone\u001b[0m\u001b[1;33m:\u001b[0m\u001b[1;33m\u001b[0m\u001b[1;33m\u001b[0m\u001b[0m\n\u001b[0;32m    208\u001b[0m             \u001b[0mvmax\u001b[0m \u001b[1;33m=\u001b[0m \u001b[0mnp\u001b[0m\u001b[1;33m.\u001b[0m\u001b[0mpercentile\u001b[0m\u001b[1;33m(\u001b[0m\u001b[0mcalc_data\u001b[0m\u001b[1;33m,\u001b[0m \u001b[1;36m98\u001b[0m\u001b[1;33m)\u001b[0m \u001b[1;32mif\u001b[0m \u001b[0mrobust\u001b[0m \u001b[1;32melse\u001b[0m \u001b[0mcalc_data\u001b[0m\u001b[1;33m.\u001b[0m\u001b[0mmax\u001b[0m\u001b[1;33m(\u001b[0m\u001b[1;33m)\u001b[0m\u001b[1;33m\u001b[0m\u001b[1;33m\u001b[0m\u001b[0m\n",
      "\u001b[1;32mC:\\ProgramData\\Anaconda3\\lib\\site-packages\\numpy\\core\\_methods.py\u001b[0m in \u001b[0;36m_amin\u001b[1;34m(a, axis, out, keepdims, initial, where)\u001b[0m\n\u001b[0;32m     42\u001b[0m def _amin(a, axis=None, out=None, keepdims=False,\n\u001b[0;32m     43\u001b[0m           initial=_NoValue, where=True):\n\u001b[1;32m---> 44\u001b[1;33m     \u001b[1;32mreturn\u001b[0m \u001b[0mumr_minimum\u001b[0m\u001b[1;33m(\u001b[0m\u001b[0ma\u001b[0m\u001b[1;33m,\u001b[0m \u001b[0maxis\u001b[0m\u001b[1;33m,\u001b[0m \u001b[1;32mNone\u001b[0m\u001b[1;33m,\u001b[0m \u001b[0mout\u001b[0m\u001b[1;33m,\u001b[0m \u001b[0mkeepdims\u001b[0m\u001b[1;33m,\u001b[0m \u001b[0minitial\u001b[0m\u001b[1;33m,\u001b[0m \u001b[0mwhere\u001b[0m\u001b[1;33m)\u001b[0m\u001b[1;33m\u001b[0m\u001b[1;33m\u001b[0m\u001b[0m\n\u001b[0m\u001b[0;32m     45\u001b[0m \u001b[1;33m\u001b[0m\u001b[0m\n\u001b[0;32m     46\u001b[0m def _sum(a, axis=None, dtype=None, out=None, keepdims=False,\n",
      "\u001b[1;31mValueError\u001b[0m: zero-size array to reduction operation minimum which has no identity"
     ]
    }
   ],
   "source": [
    "ep_rewidx = (episode_lengths - 11).astype(int)\n",
    "vs_rewp = np.vstack([pes_i[rew_idx - 5:rew_idx + 6] for [pes_i, rew_idx] in zip(vs1, ep_rewidx)])\n",
    "\n",
    "sns.heatmap(vs_rewp)\n"
   ]
  },
  {
   "cell_type": "code",
   "execution_count": 49,
   "metadata": {},
   "outputs": [
    {
     "data": {
      "text/plain": [
       "<matplotlib.axes._subplots.AxesSubplot at 0x263acbc64e0>"
      ]
     },
     "execution_count": 49,
     "metadata": {},
     "output_type": "execute_result"
    },
    {
     "data": {
      "image/png": "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\n",
      "text/plain": [
       "<Figure size 432x288 with 2 Axes>"
      ]
     },
     "metadata": {
      "needs_background": "light"
     },
     "output_type": "display_data"
    }
   ],
   "source": [
    "ep_rewidx = (episode_lengths - 11).astype(int)\n",
    "vs_rewp = np.vstack([pes_i[rew_idx - 5:rew_idx + 6] for [pes_i, rew_idx] in zip(vs_, ep_rewidx)])\n",
    "\n",
    "sns.heatmap(vs_rewp)\n"
   ]
  },
  {
   "cell_type": "markdown",
   "metadata": {},
   "source": [
    "# action probability and a2c feature test"
   ]
  },
  {
   "cell_type": "code",
   "execution_count": null,
   "metadata": {},
   "outputs": [],
   "source": []
  },
  {
   "cell_type": "code",
   "execution_count": 5,
   "metadata": {},
   "outputs": [],
   "source": [
    "w_fcval = np.squeeze(params['model/vf_fc0/w:0'])\n",
    "b_fcval = np.squeeze(params['model/vf_fc0/b:0'])\n",
    "\n",
    "\n",
    "w_pol = params['model/pi/w:0']\n",
    "b_pol =params['model/pi/b:0']\n",
    "w_val = np.squeeze(params['model/vf/w:0'])\n",
    "b_val = params['model/vf/b:0']"
   ]
  },
  {
   "cell_type": "code",
   "execution_count": 6,
   "metadata": {},
   "outputs": [],
   "source": [
    "obs = env.reset()\n",
    "\n",
    "[graph, sess] = model.get_graph_and_sess()\n",
    "state_ph_shape = graph.get_tensor_by_name(\"input_1/states_ph:0\").shape\n",
    "dones_ph_shape = graph.get_tensor_by_name(\"input_1/dones_ph:0\").shape\n",
    "done = np.zeros((dones_ph_shape))\n",
    "state = np.zeros((state_ph_shape))\n",
    "\n",
    "#  [n.name for n in graph.as_graph_def().node]"
   ]
  },
  {
   "cell_type": "code",
   "execution_count": 7,
   "metadata": {},
   "outputs": [],
   "source": [
    "feats = graph.get_tensor_by_name(\"model/Tanh_2:0\").eval(\n",
    "                {\"input/Ob:0\":obs, \"input_1/dones_ph:0\":done\n",
    "                , \"input_1/states_ph:0\":state}, session = sess)"
   ]
  },
  {
   "cell_type": "code",
   "execution_count": 13,
   "metadata": {},
   "outputs": [],
   "source": [
    "policy = graph.get_tensor_by_name(\"model/pi/add:0\").eval(\n",
    "                {\"input/Ob:0\":obs, \"input_1/dones_ph:0\":done\n",
    "                , \"input_1/states_ph:0\":state}, session = sess)"
   ]
  },
  {
   "cell_type": "code",
   "execution_count": 18,
   "metadata": {},
   "outputs": [
    {
     "name": "stdout",
     "output_type": "stream",
     "text": [
      "> c:\\programdata\\anaconda3\\lib\\site-packages\\stable_baselines\\common\\base_class.py(844)action_probability()\n",
      "-> actions_proba = self.proba_step(observation, state, mask)\n"
     ]
    },
    {
     "name": "stdin",
     "output_type": "stream",
     "text": [
      "(Pdb)  \n",
      "(Pdb)  c\n"
     ]
    }
   ],
   "source": [
    "\n",
    "\n",
    "actions_prob = model.action_probability(obs, state=state, mask = done)"
   ]
  },
  {
   "cell_type": "code",
   "execution_count": 7,
   "metadata": {},
   "outputs": [],
   "source": [
    "        actions, rewards, obses, feats, featsPI, featsV, action_proba, terms, vs, tow_counts = [], [], [], [], [], [], [], [], [], []\n",
    "        [graph, sess] = model.get_graph_and_sess()\n",
    "        state_ph_shape = graph.get_tensor_by_name(\"input_1/states_ph:0\").shape\n",
    "        dones_ph_shape = graph.get_tensor_by_name(\"input_1/dones_ph:0\").shape\n",
    "        obs = env.reset()\n",
    "        done = np.zeros((dones_ph_shape))\n",
    "        state = np.zeros((state_ph_shape))\n",
    "        episode_length = 0\n",
    "\n",
    "        while not done:\n",
    "\n",
    "\n",
    "            feats.append(graph.get_tensor_by_name(\"model/concat_2:0\").eval(\n",
    "                {\"input/Ob:0\":obs, \"input_1/dones_ph:0\":done\n",
    "                , \"input_1/states_ph:0\":state}, session = sess))\n",
    "            featsPI.append(graph.get_tensor_by_name(\"model/Tanh_2:0\").eval(\n",
    "                {\"input/Ob:0\":obs, \"input_1/dones_ph:0\":done\n",
    "                , \"input_1/states_ph:0\":state}, session = sess))\n",
    "            featsV.append(graph.get_tensor_by_name(\"model/Tanh_3:0\").eval(\n",
    "                {\"input/Ob:0\":obs, \"input_1/dones_ph:0\":done\n",
    "                , \"input_1/states_ph:0\":state}, session = sess))\n",
    "            vs.append(model.value(obs, state = state, mask = done))\n",
    "            action_proba.append(model.action_probability(obs, state=state, mask = done))\n",
    "            action, state = model.predict(obs, state=state)\n",
    "            actions.append(action)\n",
    "            obs, reward, done, info = env.step(action)\n",
    "            rewards.append(reward)\n",
    "            terms.append(done[0])\n",
    "            tows = np.copy(info[0]['tow_counts'])\n",
    "            tow_counts.append(tows)\n",
    "            episode_length += 1\n",
    "            \n"
   ]
  },
  {
   "cell_type": "code",
   "execution_count": 14,
   "metadata": {},
   "outputs": [],
   "source": [
    "from scipy import special"
   ]
  },
  {
   "cell_type": "code",
   "execution_count": 28,
   "metadata": {},
   "outputs": [
    {
     "data": {
      "text/plain": [
       "array([[-0.6457182 ,  0.66271216,  0.30666503]], dtype=float32)"
      ]
     },
     "execution_count": 28,
     "metadata": {},
     "output_type": "execute_result"
    }
   ],
   "source": [
    "featsPI @ w_pol + b_pol"
   ]
  },
  {
   "cell_type": "code",
   "execution_count": 24,
   "metadata": {},
   "outputs": [
    {
     "data": {
      "text/plain": [
       "array([0.1530766 , 0.48293614, 0.3639873 ], dtype=float32)"
      ]
     },
     "execution_count": 24,
     "metadata": {},
     "output_type": "execute_result"
    }
   ],
   "source": [
    "special.softmax(np.tanh(np.squeeze(featsPI[-10] @ w_pol + b_pol)))"
   ]
  },
  {
   "cell_type": "code",
   "execution_count": 41,
   "metadata": {},
   "outputs": [],
   "source": [
    "action_proba2 = np.vstack([special.softmax(featsPI_i @ w_pol + b_pol) for featsPI_i in featsPI])"
   ]
  },
  {
   "cell_type": "code",
   "execution_count": 42,
   "metadata": {},
   "outputs": [
    {
     "data": {
      "text/plain": [
       "8.940697e-08"
      ]
     },
     "execution_count": 42,
     "metadata": {},
     "output_type": "execute_result"
    }
   ],
   "source": [
    "np.max(np.vstack(action_proba) - action_proba2)"
   ]
  },
  {
   "cell_type": "code",
   "execution_count": 27,
   "metadata": {},
   "outputs": [
    {
     "data": {
      "text/plain": [
       "[array([[0.33379933, 0.3091092 , 0.3570915 ]], dtype=float32),\n",
       " array([[0.3319024 , 0.31755757, 0.3505401 ]], dtype=float32),\n",
       " array([[0.32590035, 0.32371792, 0.3503818 ]], dtype=float32),\n",
       " array([[0.3261616 , 0.32340476, 0.35043362]], dtype=float32),\n",
       " array([[0.32729453, 0.32266286, 0.3500426 ]], dtype=float32),\n",
       " array([[0.32254964, 0.32474318, 0.35270724]], dtype=float32),\n",
       " array([[0.32713056, 0.321321  , 0.35154843]], dtype=float32),\n",
       " array([[0.3275936 , 0.323152  , 0.34925437]], dtype=float32),\n",
       " array([[0.3223092 , 0.32849047, 0.34920028]], dtype=float32),\n",
       " array([[0.31637114, 0.33182418, 0.35180464]], dtype=float32),\n",
       " array([[0.31792247, 0.33324748, 0.34883004]], dtype=float32),\n",
       " array([[0.31989428, 0.3329637 , 0.34714204]], dtype=float32),\n",
       " array([[0.32020852, 0.3318364 , 0.3479551 ]], dtype=float32),\n",
       " array([[0.32003027, 0.331835  , 0.34813464]], dtype=float32),\n",
       " array([[0.32089213, 0.32950422, 0.34960365]], dtype=float32),\n",
       " array([[0.3185326 , 0.3317373 , 0.34973016]], dtype=float32),\n",
       " array([[0.31390357, 0.33465546, 0.35144094]], dtype=float32),\n",
       " array([[0.30991232, 0.3386291 , 0.35145852]], dtype=float32),\n",
       " array([[0.31794474, 0.33241513, 0.34964007]], dtype=float32),\n",
       " array([[0.3177225 , 0.32990676, 0.35237074]], dtype=float32),\n",
       " array([[0.31265134, 0.33562696, 0.3517217 ]], dtype=float32),\n",
       " array([[0.3140557 , 0.33582386, 0.35012046]], dtype=float32),\n",
       " array([[0.3125669 , 0.33764362, 0.34978947]], dtype=float32),\n",
       " array([[0.3071972 , 0.34112138, 0.35168144]], dtype=float32),\n",
       " array([[0.29840475, 0.34989998, 0.35169527]], dtype=float32),\n",
       " array([[0.29886463, 0.34980652, 0.35132882]], dtype=float32),\n",
       " array([[0.29968926, 0.34934095, 0.35096985]], dtype=float32),\n",
       " array([[0.30765826, 0.34453687, 0.3478049 ]], dtype=float32),\n",
       " array([[0.31917468, 0.3318319 , 0.34899342]], dtype=float32),\n",
       " array([[0.32576293, 0.32452095, 0.34971607]], dtype=float32),\n",
       " array([[0.32265952, 0.32885143, 0.34848908]], dtype=float32),\n",
       " array([[0.31916633, 0.33183542, 0.34899828]], dtype=float32),\n",
       " array([[0.31841496, 0.33161622, 0.3499688 ]], dtype=float32),\n",
       " array([[0.31136742, 0.33754858, 0.35108393]], dtype=float32),\n",
       " array([[0.3021675 , 0.3471919 , 0.35064054]], dtype=float32),\n",
       " array([[0.29236114, 0.35524303, 0.35239583]], dtype=float32),\n",
       " array([[0.33458155, 0.30961075, 0.35580772]], dtype=float32),\n",
       " array([[0.38072342, 0.26952934, 0.3497472 ]], dtype=float32),\n",
       " array([[0.40126494, 0.25011525, 0.34861982]], dtype=float32),\n",
       " array([[0.4190273 , 0.23183878, 0.34913397]], dtype=float32),\n",
       " array([[0.4328129 , 0.22130783, 0.3458793 ]], dtype=float32),\n",
       " array([[0.46080694, 0.20340021, 0.33579284]], dtype=float32),\n",
       " array([[0.4855594 , 0.18209223, 0.33234832]], dtype=float32),\n",
       " array([[0.491371  , 0.17560953, 0.3330195 ]], dtype=float32),\n",
       " array([[0.49307975, 0.17556348, 0.33135682]], dtype=float32),\n",
       " array([[0.47824016, 0.18886165, 0.33289823]], dtype=float32),\n",
       " array([[0.45366275, 0.20704101, 0.33929625]], dtype=float32),\n",
       " array([[0.43639472, 0.2199186 , 0.34368667]], dtype=float32),\n",
       " array([[0.41329822, 0.24118872, 0.34551305]], dtype=float32),\n",
       " array([[0.39449066, 0.25566742, 0.34984192]], dtype=float32),\n",
       " array([[0.37840673, 0.27161032, 0.349983  ]], dtype=float32),\n",
       " array([[0.37323356, 0.27376568, 0.35300073]], dtype=float32),\n",
       " array([[0.36949515, 0.28164446, 0.34886032]], dtype=float32),\n",
       " array([[0.3531815 , 0.29836628, 0.34845224]], dtype=float32),\n",
       " array([[0.33130407, 0.31995913, 0.34873682]], dtype=float32),\n",
       " array([[0.31368724, 0.33584183, 0.3504709 ]], dtype=float32),\n",
       " array([[0.30319238, 0.3445226 , 0.35228506]], dtype=float32),\n",
       " array([[0.30664164, 0.34125125, 0.3521071 ]], dtype=float32),\n",
       " array([[0.30665365, 0.34428644, 0.34905988]], dtype=float32),\n",
       " array([[0.3111073 , 0.3415865 , 0.34730616]], dtype=float32),\n",
       " array([[0.31652606, 0.33569488, 0.34777904]], dtype=float32),\n",
       " array([[0.31814045, 0.33661047, 0.3452491 ]], dtype=float32),\n",
       " array([[0.3161996 , 0.33864826, 0.34515214]], dtype=float32),\n",
       " array([[0.31311852, 0.3410018 , 0.34587967]], dtype=float32),\n",
       " array([[0.30766502, 0.34818226, 0.34415275]], dtype=float32),\n",
       " array([[0.30233905, 0.35126725, 0.34639373]], dtype=float32),\n",
       " array([[0.29660356, 0.3569443 , 0.34645218]], dtype=float32),\n",
       " array([[0.30181223, 0.35072955, 0.34745812]], dtype=float32),\n",
       " array([[0.303557  , 0.3465906 , 0.34985235]], dtype=float32),\n",
       " array([[0.31288356, 0.33989963, 0.34721684]], dtype=float32),\n",
       " array([[0.3171544 , 0.33489078, 0.34795484]], dtype=float32),\n",
       " array([[0.31897154, 0.3305896 , 0.3504388 ]], dtype=float32),\n",
       " array([[0.31833073, 0.32998982, 0.3516794 ]], dtype=float32),\n",
       " array([[0.32104897, 0.32626167, 0.3526893 ]], dtype=float32),\n",
       " array([[0.322763  , 0.32667106, 0.35056594]], dtype=float32),\n",
       " array([[0.3231423 , 0.32607475, 0.35078296]], dtype=float32),\n",
       " array([[0.31863236, 0.3279359 , 0.3534317 ]], dtype=float32),\n",
       " array([[0.32467604, 0.32511365, 0.35021028]], dtype=float32),\n",
       " array([[0.32856378, 0.3264769 , 0.34495932]], dtype=float32),\n",
       " array([[0.32350972, 0.33203748, 0.3444528 ]], dtype=float32),\n",
       " array([[0.32174945, 0.33307555, 0.34517497]], dtype=float32),\n",
       " array([[0.31906265, 0.3328381 , 0.3480993 ]], dtype=float32),\n",
       " array([[0.31710297, 0.33026782, 0.35262924]], dtype=float32),\n",
       " array([[0.31518632, 0.33080357, 0.3540101 ]], dtype=float32),\n",
       " array([[0.31821528, 0.32844058, 0.3533442 ]], dtype=float32),\n",
       " array([[0.32356757, 0.3228304 , 0.35360208]], dtype=float32),\n",
       " array([[0.32550073, 0.31903163, 0.35546765]], dtype=float32),\n",
       " array([[0.32290947, 0.3223761 , 0.3547144 ]], dtype=float32),\n",
       " array([[0.32219937, 0.32486826, 0.35293233]], dtype=float32),\n",
       " array([[0.316721  , 0.3341948 , 0.34908417]], dtype=float32),\n",
       " array([[0.31509426, 0.33207148, 0.35283425]], dtype=float32),\n",
       " array([[0.3168733 , 0.32464826, 0.3584784 ]], dtype=float32),\n",
       " array([[0.31752592, 0.32498097, 0.3574931 ]], dtype=float32),\n",
       " array([[0.319179  , 0.3231825 , 0.35763848]], dtype=float32),\n",
       " array([[0.32171655, 0.3192632 , 0.35902032]], dtype=float32),\n",
       " array([[0.32187465, 0.31779382, 0.3603316 ]], dtype=float32),\n",
       " array([[0.3232475 , 0.3132514 , 0.36350107]], dtype=float32),\n",
       " array([[0.31461507, 0.3202006 , 0.3651843 ]], dtype=float32),\n",
       " array([[0.30769446, 0.3281554 , 0.3641501 ]], dtype=float32),\n",
       " array([[0.31103852, 0.32824957, 0.36071187]], dtype=float32),\n",
       " array([[0.31061107, 0.3296894 , 0.35969952]], dtype=float32),\n",
       " array([[0.31490168, 0.32343516, 0.36166316]], dtype=float32),\n",
       " array([[0.31887192, 0.31617618, 0.36495185]], dtype=float32),\n",
       " array([[0.31948197, 0.31380492, 0.3667131 ]], dtype=float32),\n",
       " array([[0.3263849 , 0.30461583, 0.36899927]], dtype=float32),\n",
       " array([[0.32807755, 0.30062997, 0.37129244]], dtype=float32),\n",
       " array([[0.34073514, 0.28657436, 0.37269047]], dtype=float32),\n",
       " array([[0.33682537, 0.28677785, 0.3763968 ]], dtype=float32),\n",
       " array([[0.33800572, 0.28427213, 0.37772208]], dtype=float32),\n",
       " array([[0.33766302, 0.2849205 , 0.3774164 ]], dtype=float32),\n",
       " array([[0.34341404, 0.2786942 , 0.37789172]], dtype=float32),\n",
       " array([[0.3474941 , 0.27623102, 0.37627488]], dtype=float32),\n",
       " array([[0.35784605, 0.26626462, 0.37588933]], dtype=float32),\n",
       " array([[0.36658087, 0.2565304 , 0.37688875]], dtype=float32),\n",
       " array([[0.37643245, 0.24625345, 0.37731415]], dtype=float32),\n",
       " array([[0.33086854, 0.2880552 , 0.38107625]], dtype=float32),\n",
       " array([[0.2628875 , 0.35958534, 0.37752712]], dtype=float32),\n",
       " array([[0.20707072, 0.43367112, 0.3592582 ]], dtype=float32),\n",
       " array([[0.15933813, 0.5010073 , 0.33965454]], dtype=float32),\n",
       " array([[0.14892498, 0.52114236, 0.3299326 ]], dtype=float32),\n",
       " array([[0.14655057, 0.5259022 , 0.32754728]], dtype=float32),\n",
       " array([[0.14424443, 0.53485805, 0.32089746]], dtype=float32),\n",
       " array([[0.15045637, 0.5257673 , 0.32377633]], dtype=float32),\n",
       " array([[0.14474888, 0.5305971 , 0.324654  ]], dtype=float32),\n",
       " array([[0.13261887, 0.5456675 , 0.32171357]], dtype=float32),\n",
       " array([[0.11658796, 0.5666082 , 0.3168039 ]], dtype=float32),\n",
       " array([[0.10891029, 0.57318515, 0.31790462]], dtype=float32),\n",
       " array([[0.10362539, 0.5795595 , 0.3168151 ]], dtype=float32),\n",
       " array([[0.10461418, 0.58213985, 0.31324598]], dtype=float32),\n",
       " array([[0.1102041, 0.5704978, 0.3192981]], dtype=float32),\n",
       " array([[0.10998395, 0.56735164, 0.32266444]], dtype=float32),\n",
       " array([[0.11948202, 0.544639  , 0.33587903]], dtype=float32),\n",
       " array([[0.1358405 , 0.5119569 , 0.35220268]], dtype=float32),\n",
       " array([[0.15074712, 0.48390856, 0.36534435]], dtype=float32),\n",
       " array([[0.15592194, 0.47181115, 0.37226686]], dtype=float32),\n",
       " array([[0.15261531, 0.4752706 , 0.37211415]], dtype=float32),\n",
       " array([[0.14208688, 0.4883573 , 0.36955586]], dtype=float32),\n",
       " array([[0.13437288, 0.499725  , 0.3659021 ]], dtype=float32),\n",
       " array([[0.14250031, 0.48978904, 0.36771065]], dtype=float32),\n",
       " array([[0.13143533, 0.508638  , 0.3599267 ]], dtype=float32),\n",
       " array([[0.1011577 , 0.5615748 , 0.33726755]], dtype=float32),\n",
       " array([[0.06922618, 0.63743615, 0.29333764]], dtype=float32),\n",
       " array([[0.05486352, 0.6777678 , 0.26736867]], dtype=float32),\n",
       " array([[0.04368431, 0.7178545 , 0.23846117]], dtype=float32),\n",
       " array([[0.13713205, 0.5074381 , 0.35542977]], dtype=float32),\n",
       " array([[0.21639526, 0.41294697, 0.3706578 ]], dtype=float32),\n",
       " array([[0.25854394, 0.39008087, 0.3513752 ]], dtype=float32),\n",
       " array([[0.28744477, 0.37128323, 0.341272  ]], dtype=float32),\n",
       " array([[0.3051132 , 0.3584875 , 0.33639932]], dtype=float32),\n",
       " array([[0.3156512 , 0.35013416, 0.33421466]], dtype=float32),\n",
       " array([[0.32187113, 0.34476915, 0.33335975]], dtype=float32),\n",
       " array([[0.32553115, 0.3413475 , 0.3331214 ]], dtype=float32),\n",
       " array([[0.3276884 , 0.33917063, 0.33314094]], dtype=float32),\n",
       " array([[0.3289663 , 0.33778653, 0.33324724]], dtype=float32)]"
      ]
     },
     "execution_count": 27,
     "metadata": {},
     "output_type": "execute_result"
    }
   ],
   "source": [
    "action_proba"
   ]
  }
 ],
 "metadata": {
  "kernelspec": {
   "display_name": "Python 3 (ipykernel)",
   "language": "python",
   "name": "python3"
  },
  "language_info": {
   "codemirror_mode": {
    "name": "ipython",
    "version": 3
   },
   "file_extension": ".py",
   "mimetype": "text/x-python",
   "name": "python",
   "nbconvert_exporter": "python",
   "pygments_lexer": "ipython3",
   "version": "3.9.7"
  }
 },
 "nbformat": 4,
 "nbformat_minor": 4
}
